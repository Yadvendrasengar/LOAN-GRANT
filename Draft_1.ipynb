{
 "cells": [
  {
   "cell_type": "markdown",
   "id": "2b68a577",
   "metadata": {},
   "source": [
    "# TO PREDICT IF THE CUSTOMER SHOULD GET LOAN OR NOT."
   ]
  },
  {
   "cell_type": "markdown",
   "id": "978260c7",
   "metadata": {},
   "source": [
    "## SOURCE : MU-SIGMA Hackathon."
   ]
  },
  {
   "cell_type": "markdown",
   "id": "755fd274",
   "metadata": {},
   "source": [
    "## PROBLEM STATEMENT : \n",
    "\n",
    "A Personl loan is an unsecured credit provided by financial institutions based on criteria like employement history, repayment capacity,income level , profession and credit history. This is also known as consumer loan or multi-purpose loan, and it helps \n",
    "the borrower meet any of their immediate needs.\n",
    "\n",
    "**One of the leading bankers in U.S has approached you to predict on the defaulters with the help of the recent data  on the personal loans availed by various customers.**\n"
   ]
  },
  {
   "cell_type": "markdown",
   "id": "5cd61ed3",
   "metadata": {},
   "source": [
    "###  IMPORTING LIBRARY'S"
   ]
  },
  {
   "cell_type": "code",
   "execution_count": 1,
   "id": "b0c02ef1",
   "metadata": {},
   "outputs": [],
   "source": [
    "import numpy as np\n",
    "import pandas as pd\n",
    "from pandas import Series as ser\n",
    "from pandas import DataFrame as df\n",
    "import seaborn as sns\n",
    "import scipy\n",
    "from scipy import stats\n",
    "import matplotlib.pyplot as plt \n",
    "import warnings\n",
    "warnings.filterwarnings(\"ignore\")\n",
    "from sklearn.preprocessing import PowerTransformer , StandardScaler , LabelEncoder\n",
    "from sklearn import model_selection\n",
    "from sklearn.linear_model import LogisticRegression\n",
    "from statsmodels.stats.outliers_influence import variance_inflation_factor\n",
    "from sklearn.model_selection import train_test_split\n",
    "from sklearn.model_selection import KFold\n",
    "import statsmodels.api as sm \n",
    "from sklearn.ensemble import RandomForestClassifier\n",
    "from sklearn.tree import DecisionTreeClassifier\n",
    "from sklearn.ensemble import GradientBoostingClassifier\n",
    "from sklearn.metrics import  classification_report , confusion_matrix , roc_auc_score, roc_curve, accuracy_score\n",
    "from sklearn.model_selection import GridSearchCV"
   ]
  },
  {
   "cell_type": "markdown",
   "id": "5c99bc68",
   "metadata": {},
   "source": [
    "### LOADING DATASETS"
   ]
  },
  {
   "cell_type": "code",
   "execution_count": 2,
   "id": "8483ff88",
   "metadata": {},
   "outputs": [],
   "source": [
    "train = pd.read_csv(\"Data_Train.csv\")\n",
    "test = pd.read_csv(\"Data_Test.csv\")"
   ]
  },
  {
   "cell_type": "code",
   "execution_count": 3,
   "id": "e07a045e",
   "metadata": {},
   "outputs": [
    {
     "data": {
      "text/html": [
       "<div>\n",
       "<style scoped>\n",
       "    .dataframe tbody tr th:only-of-type {\n",
       "        vertical-align: middle;\n",
       "    }\n",
       "\n",
       "    .dataframe tbody tr th {\n",
       "        vertical-align: top;\n",
       "    }\n",
       "\n",
       "    .dataframe thead th {\n",
       "        text-align: right;\n",
       "    }\n",
       "</style>\n",
       "<table border=\"1\" class=\"dataframe\">\n",
       "  <thead>\n",
       "    <tr style=\"text-align: right;\">\n",
       "      <th></th>\n",
       "      <th>ID</th>\n",
       "      <th>Asst_Reg</th>\n",
       "      <th>GGGrade</th>\n",
       "      <th>Experience</th>\n",
       "      <th>Validation</th>\n",
       "      <th>Yearly Income</th>\n",
       "      <th>Home Status</th>\n",
       "      <th>Unpaid 2 years</th>\n",
       "      <th>Already Defaulted</th>\n",
       "      <th>Designation</th>\n",
       "      <th>...</th>\n",
       "      <th>File Status</th>\n",
       "      <th>State</th>\n",
       "      <th>Account Open</th>\n",
       "      <th>Total Unpaid CL</th>\n",
       "      <th>Duration</th>\n",
       "      <th>Unpaid Amount</th>\n",
       "      <th>Reason</th>\n",
       "      <th>Claim Type</th>\n",
       "      <th>Due Fee</th>\n",
       "      <th>Loan/No Loan</th>\n",
       "    </tr>\n",
       "  </thead>\n",
       "  <tbody>\n",
       "    <tr>\n",
       "      <th>0</th>\n",
       "      <td>95074</td>\n",
       "      <td>421802</td>\n",
       "      <td>II</td>\n",
       "      <td>&gt;10yrs</td>\n",
       "      <td>Vfied</td>\n",
       "      <td>633600.00</td>\n",
       "      <td>MOR??AGE</td>\n",
       "      <td>0</td>\n",
       "      <td>0</td>\n",
       "      <td>GLENDALE NISSAN</td>\n",
       "      <td>...</td>\n",
       "      <td>fully paid</td>\n",
       "      <td>California</td>\n",
       "      <td>17</td>\n",
       "      <td>58598.0</td>\n",
       "      <td>3 years</td>\n",
       "      <td>31216.05</td>\n",
       "      <td>debt  consolidation</td>\n",
       "      <td>I</td>\n",
       "      <td>0.0</td>\n",
       "      <td>0</td>\n",
       "    </tr>\n",
       "    <tr>\n",
       "      <th>1</th>\n",
       "      <td>134131</td>\n",
       "      <td>3964312</td>\n",
       "      <td>IV</td>\n",
       "      <td>7yrs</td>\n",
       "      <td>Source Verified</td>\n",
       "      <td>85483.20</td>\n",
       "      <td>REN?</td>\n",
       "      <td>0</td>\n",
       "      <td>0</td>\n",
       "      <td>Business Teacher</td>\n",
       "      <td>...</td>\n",
       "      <td>whole</td>\n",
       "      <td>NC</td>\n",
       "      <td>15</td>\n",
       "      <td>18924.0</td>\n",
       "      <td>5 years</td>\n",
       "      <td>11660.49</td>\n",
       "      <td>debt  consolidation</td>\n",
       "      <td>I</td>\n",
       "      <td>0.0</td>\n",
       "      <td>0</td>\n",
       "    </tr>\n",
       "    <tr>\n",
       "      <th>2</th>\n",
       "      <td>92602</td>\n",
       "      <td>4247560</td>\n",
       "      <td>III</td>\n",
       "      <td>&lt;1yr</td>\n",
       "      <td>Source Verified</td>\n",
       "      <td>79200.00</td>\n",
       "      <td>REN?</td>\n",
       "      <td>0</td>\n",
       "      <td>0</td>\n",
       "      <td>driver</td>\n",
       "      <td>...</td>\n",
       "      <td>whole</td>\n",
       "      <td>Florida</td>\n",
       "      <td>7</td>\n",
       "      <td>15604.0</td>\n",
       "      <td>5 years</td>\n",
       "      <td>5637.87</td>\n",
       "      <td>major  purchase</td>\n",
       "      <td>I</td>\n",
       "      <td>0.0</td>\n",
       "      <td>0</td>\n",
       "    </tr>\n",
       "    <tr>\n",
       "      <th>3</th>\n",
       "      <td>22591</td>\n",
       "      <td>197179</td>\n",
       "      <td>III</td>\n",
       "      <td>&lt;1yr</td>\n",
       "      <td>Vfied</td>\n",
       "      <td>61600.00</td>\n",
       "      <td>REN?</td>\n",
       "      <td>0</td>\n",
       "      <td>0</td>\n",
       "      <td>AvePoint</td>\n",
       "      <td>...</td>\n",
       "      <td>fully paid</td>\n",
       "      <td>NewJersey</td>\n",
       "      <td>9</td>\n",
       "      <td>22410.0</td>\n",
       "      <td>3 years</td>\n",
       "      <td>15607.17</td>\n",
       "      <td>major  purchase</td>\n",
       "      <td>I</td>\n",
       "      <td>0.0</td>\n",
       "      <td>1</td>\n",
       "    </tr>\n",
       "    <tr>\n",
       "      <th>4</th>\n",
       "      <td>125060</td>\n",
       "      <td>4646684</td>\n",
       "      <td>V</td>\n",
       "      <td>2yrs</td>\n",
       "      <td>Source Verified</td>\n",
       "      <td>68053.92</td>\n",
       "      <td>REN?</td>\n",
       "      <td>0</td>\n",
       "      <td>0</td>\n",
       "      <td>Lead Tester</td>\n",
       "      <td>...</td>\n",
       "      <td>fully paid</td>\n",
       "      <td>LA</td>\n",
       "      <td>10</td>\n",
       "      <td>36022.0</td>\n",
       "      <td>5 years</td>\n",
       "      <td>27472.86</td>\n",
       "      <td>debt  consolidation</td>\n",
       "      <td>I</td>\n",
       "      <td>0.0</td>\n",
       "      <td>0</td>\n",
       "    </tr>\n",
       "  </tbody>\n",
       "</table>\n",
       "<p>5 rows × 30 columns</p>\n",
       "</div>"
      ],
      "text/plain": [
       "       ID  Asst_Reg GGGrade Experience       Validation  Yearly Income  \\\n",
       "0   95074    421802      II     >10yrs            Vfied      633600.00   \n",
       "1  134131   3964312      IV       7yrs  Source Verified       85483.20   \n",
       "2   92602   4247560     III       <1yr  Source Verified       79200.00   \n",
       "3   22591    197179     III       <1yr            Vfied       61600.00   \n",
       "4  125060   4646684       V       2yrs  Source Verified       68053.92   \n",
       "\n",
       "  Home Status  Unpaid 2 years  Already Defaulted       Designation  ...  \\\n",
       "0    MOR??AGE               0                  0   GLENDALE NISSAN  ...   \n",
       "1        REN?               0                  0  Business Teacher  ...   \n",
       "2        REN?               0                  0            driver  ...   \n",
       "3        REN?               0                  0          AvePoint  ...   \n",
       "4        REN?               0                  0       Lead Tester  ...   \n",
       "\n",
       "   File Status       State  Account Open  Total Unpaid CL  Duration  \\\n",
       "0   fully paid  California            17          58598.0   3 years   \n",
       "1        whole          NC            15          18924.0   5 years   \n",
       "2        whole     Florida             7          15604.0   5 years   \n",
       "3   fully paid   NewJersey             9          22410.0   3 years   \n",
       "4   fully paid          LA            10          36022.0   5 years   \n",
       "\n",
       "   Unpaid Amount               Reason  Claim Type  Due Fee  Loan/No Loan  \n",
       "0       31216.05  debt  consolidation           I      0.0             0  \n",
       "1       11660.49  debt  consolidation           I      0.0             0  \n",
       "2        5637.87      major  purchase           I      0.0             0  \n",
       "3       15607.17      major  purchase           I      0.0             1  \n",
       "4       27472.86  debt  consolidation           I      0.0             0  \n",
       "\n",
       "[5 rows x 30 columns]"
      ]
     },
     "execution_count": 3,
     "metadata": {},
     "output_type": "execute_result"
    }
   ],
   "source": [
    "train.head(5)"
   ]
  },
  {
   "cell_type": "code",
   "execution_count": 4,
   "id": "3f1cc732",
   "metadata": {},
   "outputs": [
    {
     "data": {
      "text/html": [
       "<div>\n",
       "<style scoped>\n",
       "    .dataframe tbody tr th:only-of-type {\n",
       "        vertical-align: middle;\n",
       "    }\n",
       "\n",
       "    .dataframe tbody tr th {\n",
       "        vertical-align: top;\n",
       "    }\n",
       "\n",
       "    .dataframe thead th {\n",
       "        text-align: right;\n",
       "    }\n",
       "</style>\n",
       "<table border=\"1\" class=\"dataframe\">\n",
       "  <thead>\n",
       "    <tr style=\"text-align: right;\">\n",
       "      <th></th>\n",
       "      <th>ID</th>\n",
       "      <th>Asst_Reg</th>\n",
       "      <th>GGGrade</th>\n",
       "      <th>Experience</th>\n",
       "      <th>Validation</th>\n",
       "      <th>Yearly Income</th>\n",
       "      <th>Home Status</th>\n",
       "      <th>Unpaid 2 years</th>\n",
       "      <th>Already Defaulted</th>\n",
       "      <th>Designation</th>\n",
       "      <th>...</th>\n",
       "      <th>Sub GGGrade</th>\n",
       "      <th>File Status</th>\n",
       "      <th>State</th>\n",
       "      <th>Account Open</th>\n",
       "      <th>Total Unpaid CL</th>\n",
       "      <th>Duration</th>\n",
       "      <th>Unpaid Amount</th>\n",
       "      <th>Reason</th>\n",
       "      <th>Claim Type</th>\n",
       "      <th>Due Fee</th>\n",
       "    </tr>\n",
       "  </thead>\n",
       "  <tbody>\n",
       "    <tr>\n",
       "      <th>0</th>\n",
       "      <td>198980</td>\n",
       "      <td>1773284</td>\n",
       "      <td>II</td>\n",
       "      <td>2yrs</td>\n",
       "      <td>Source Verified</td>\n",
       "      <td>140800.0</td>\n",
       "      <td>OWN</td>\n",
       "      <td>0</td>\n",
       "      <td>0</td>\n",
       "      <td>processor</td>\n",
       "      <td>...</td>\n",
       "      <td>17</td>\n",
       "      <td>fully paid</td>\n",
       "      <td>California</td>\n",
       "      <td>23</td>\n",
       "      <td>33532.0</td>\n",
       "      <td>3 years</td>\n",
       "      <td>15755.94</td>\n",
       "      <td>major  purchase</td>\n",
       "      <td>I</td>\n",
       "      <td>0.0</td>\n",
       "    </tr>\n",
       "    <tr>\n",
       "      <th>1</th>\n",
       "      <td>167688</td>\n",
       "      <td>5298273</td>\n",
       "      <td>II</td>\n",
       "      <td>&gt;10yrs</td>\n",
       "      <td>Vfied</td>\n",
       "      <td>146080.0</td>\n",
       "      <td>MOR??AGE</td>\n",
       "      <td>0</td>\n",
       "      <td>0</td>\n",
       "      <td>Speech Language Pathologist</td>\n",
       "      <td>...</td>\n",
       "      <td>19</td>\n",
       "      <td>whole</td>\n",
       "      <td>Florida</td>\n",
       "      <td>17</td>\n",
       "      <td>149234.0</td>\n",
       "      <td>5 years</td>\n",
       "      <td>68237.55</td>\n",
       "      <td>debt  consolidation</td>\n",
       "      <td>I</td>\n",
       "      <td>0.0</td>\n",
       "    </tr>\n",
       "  </tbody>\n",
       "</table>\n",
       "<p>2 rows × 29 columns</p>\n",
       "</div>"
      ],
      "text/plain": [
       "       ID  Asst_Reg GGGrade Experience       Validation  Yearly Income  \\\n",
       "0  198980   1773284      II       2yrs  Source Verified       140800.0   \n",
       "1  167688   5298273      II     >10yrs            Vfied       146080.0   \n",
       "\n",
       "  Home Status  Unpaid 2 years  Already Defaulted                  Designation  \\\n",
       "0         OWN               0                  0                    processor   \n",
       "1    MOR??AGE               0                  0  Speech Language Pathologist   \n",
       "\n",
       "   ...  Sub GGGrade  File Status       State  Account Open  Total Unpaid CL  \\\n",
       "0  ...           17   fully paid  California            23          33532.0   \n",
       "1  ...           19        whole     Florida            17         149234.0   \n",
       "\n",
       "   Duration  Unpaid Amount               Reason  Claim Type  Due Fee  \n",
       "0   3 years       15755.94      major  purchase           I      0.0  \n",
       "1   5 years       68237.55  debt  consolidation           I      0.0  \n",
       "\n",
       "[2 rows x 29 columns]"
      ]
     },
     "execution_count": 4,
     "metadata": {},
     "output_type": "execute_result"
    }
   ],
   "source": [
    "test.head(2)"
   ]
  },
  {
   "cell_type": "code",
   "execution_count": 5,
   "id": "063f526f",
   "metadata": {},
   "outputs": [
    {
     "data": {
      "text/plain": [
       "((87500, 30), (37500, 29))"
      ]
     },
     "execution_count": 5,
     "metadata": {},
     "output_type": "execute_result"
    }
   ],
   "source": [
    "train.shape , test.shape"
   ]
  },
  {
   "cell_type": "markdown",
   "id": "31c8102d",
   "metadata": {},
   "source": [
    "### FINDING NULL VALUES"
   ]
  },
  {
   "cell_type": "code",
   "execution_count": 6,
   "id": "be67adcd",
   "metadata": {},
   "outputs": [
    {
     "data": {
      "text/plain": [
       "ID                        0\n",
       "Asst_Reg                  0\n",
       "GGGrade                   0\n",
       "Experience                0\n",
       "Validation                0\n",
       "Yearly Income          5575\n",
       "Home Status               0\n",
       "Unpaid 2 years            0\n",
       "Already Defaulted         0\n",
       "Designation            1414\n",
       "Debt to Income         3489\n",
       "Postal Code            1389\n",
       "Lend Amount               0\n",
       "Deprecatory Records       0\n",
       "Interest Charged          0\n",
       "Usage Rate                0\n",
       "Inquiries                 0\n",
       "Present Balance           0\n",
       "Gross Collection          0\n",
       "Sub GGGrade               0\n",
       "File Status               0\n",
       "State                     0\n",
       "Account Open              0\n",
       "Total Unpaid CL        4186\n",
       "Duration                  0\n",
       "Unpaid Amount          4852\n",
       "Reason                    0\n",
       "Claim Type                0\n",
       "Due Fee                   0\n",
       "Loan/No Loan              0\n",
       "dtype: int64"
      ]
     },
     "execution_count": 6,
     "metadata": {},
     "output_type": "execute_result"
    }
   ],
   "source": [
    "train.isnull().sum()"
   ]
  },
  {
   "cell_type": "code",
   "execution_count": 7,
   "id": "34ddf7dd",
   "metadata": {},
   "outputs": [
    {
     "data": {
      "text/plain": [
       "ID                        0\n",
       "Asst_Reg                  0\n",
       "GGGrade                   0\n",
       "Experience                0\n",
       "Validation                0\n",
       "Yearly Income          2425\n",
       "Home Status               0\n",
       "Unpaid 2 years            0\n",
       "Already Defaulted         0\n",
       "Designation             586\n",
       "Debt to Income         1511\n",
       "Postal Code             611\n",
       "Lend Amount               0\n",
       "Deprecatory Records       0\n",
       "Interest Charged          0\n",
       "Usage Rate                0\n",
       "Inquiries                 0\n",
       "Present Balance           0\n",
       "Gross Collection          0\n",
       "Sub GGGrade               0\n",
       "File Status               0\n",
       "State                     0\n",
       "Account Open              0\n",
       "Total Unpaid CL        1814\n",
       "Duration                  0\n",
       "Unpaid Amount          2069\n",
       "Reason                    0\n",
       "Claim Type                0\n",
       "Due Fee                   0\n",
       "dtype: int64"
      ]
     },
     "execution_count": 7,
     "metadata": {},
     "output_type": "execute_result"
    }
   ],
   "source": [
    "test.isna().sum()"
   ]
  },
  {
   "cell_type": "markdown",
   "id": "6af57850",
   "metadata": {},
   "source": [
    "### Concating both the DataSets"
   ]
  },
  {
   "cell_type": "code",
   "execution_count": 8,
   "id": "0b4779c3",
   "metadata": {},
   "outputs": [
    {
     "data": {
      "text/plain": [
       "(125000, 30)"
      ]
     },
     "execution_count": 8,
     "metadata": {},
     "output_type": "execute_result"
    }
   ],
   "source": [
    "combi = pd.concat([train, test], ignore_index=True)\n",
    "combi.shape"
   ]
  },
  {
   "cell_type": "code",
   "execution_count": 9,
   "id": "e425bfa1",
   "metadata": {},
   "outputs": [
    {
     "data": {
      "text/plain": [
       "ID                       int64\n",
       "Asst_Reg                 int64\n",
       "GGGrade                 object\n",
       "Experience              object\n",
       "Validation              object\n",
       "Yearly Income          float64\n",
       "Home Status             object\n",
       "Unpaid 2 years           int64\n",
       "Already Defaulted        int64\n",
       "Designation             object\n",
       "Debt to Income         float64\n",
       "Postal Code            float64\n",
       "Lend Amount            float64\n",
       "Deprecatory Records      int64\n",
       "Interest Charged       float64\n",
       "Usage Rate             float64\n",
       "Inquiries                int64\n",
       "Present Balance        float64\n",
       "Gross Collection       float64\n",
       "Sub GGGrade              int64\n",
       "File Status             object\n",
       "State                   object\n",
       "Account Open             int64\n",
       "Total Unpaid CL        float64\n",
       "Duration                object\n",
       "Unpaid Amount          float64\n",
       "Reason                  object\n",
       "Claim Type              object\n",
       "Due Fee                float64\n",
       "Loan/No Loan           float64\n",
       "dtype: object"
      ]
     },
     "execution_count": 9,
     "metadata": {},
     "output_type": "execute_result"
    }
   ],
   "source": [
    "combi.dtypes"
   ]
  },
  {
   "cell_type": "code",
   "execution_count": 10,
   "id": "6be51923",
   "metadata": {},
   "outputs": [
    {
     "data": {
      "text/html": [
       "<div>\n",
       "<style scoped>\n",
       "    .dataframe tbody tr th:only-of-type {\n",
       "        vertical-align: middle;\n",
       "    }\n",
       "\n",
       "    .dataframe tbody tr th {\n",
       "        vertical-align: top;\n",
       "    }\n",
       "\n",
       "    .dataframe thead th {\n",
       "        text-align: right;\n",
       "    }\n",
       "</style>\n",
       "<table border=\"1\" class=\"dataframe\">\n",
       "  <thead>\n",
       "    <tr style=\"text-align: right;\">\n",
       "      <th></th>\n",
       "      <th>0</th>\n",
       "      <th>1</th>\n",
       "      <th>2</th>\n",
       "      <th>3</th>\n",
       "      <th>4</th>\n",
       "      <th>5</th>\n",
       "      <th>6</th>\n",
       "      <th>7</th>\n",
       "      <th>8</th>\n",
       "      <th>9</th>\n",
       "      <th>...</th>\n",
       "      <th>124990</th>\n",
       "      <th>124991</th>\n",
       "      <th>124992</th>\n",
       "      <th>124993</th>\n",
       "      <th>124994</th>\n",
       "      <th>124995</th>\n",
       "      <th>124996</th>\n",
       "      <th>124997</th>\n",
       "      <th>124998</th>\n",
       "      <th>124999</th>\n",
       "    </tr>\n",
       "  </thead>\n",
       "  <tbody>\n",
       "    <tr>\n",
       "      <th>ID</th>\n",
       "      <td>95074</td>\n",
       "      <td>134131</td>\n",
       "      <td>92602</td>\n",
       "      <td>22591</td>\n",
       "      <td>125060</td>\n",
       "      <td>21803</td>\n",
       "      <td>141442</td>\n",
       "      <td>94448</td>\n",
       "      <td>109853</td>\n",
       "      <td>138407</td>\n",
       "      <td>...</td>\n",
       "      <td>203126</td>\n",
       "      <td>190580</td>\n",
       "      <td>220314</td>\n",
       "      <td>180640</td>\n",
       "      <td>157086</td>\n",
       "      <td>191405</td>\n",
       "      <td>164868</td>\n",
       "      <td>163156</td>\n",
       "      <td>169610</td>\n",
       "      <td>175557</td>\n",
       "    </tr>\n",
       "    <tr>\n",
       "      <th>Asst_Reg</th>\n",
       "      <td>421802</td>\n",
       "      <td>3964312</td>\n",
       "      <td>4247560</td>\n",
       "      <td>197179</td>\n",
       "      <td>4646684</td>\n",
       "      <td>1771402</td>\n",
       "      <td>6308843</td>\n",
       "      <td>1468916</td>\n",
       "      <td>7067902</td>\n",
       "      <td>2704860</td>\n",
       "      <td>...</td>\n",
       "      <td>7126858</td>\n",
       "      <td>903464</td>\n",
       "      <td>3747691</td>\n",
       "      <td>4990321</td>\n",
       "      <td>3702525</td>\n",
       "      <td>5774816</td>\n",
       "      <td>1423834</td>\n",
       "      <td>1895531</td>\n",
       "      <td>2168910</td>\n",
       "      <td>4140268</td>\n",
       "    </tr>\n",
       "    <tr>\n",
       "      <th>GGGrade</th>\n",
       "      <td>II</td>\n",
       "      <td>IV</td>\n",
       "      <td>III</td>\n",
       "      <td>III</td>\n",
       "      <td>V</td>\n",
       "      <td>II</td>\n",
       "      <td>III</td>\n",
       "      <td>III</td>\n",
       "      <td>VII</td>\n",
       "      <td>II</td>\n",
       "      <td>...</td>\n",
       "      <td>III</td>\n",
       "      <td>III</td>\n",
       "      <td>IV</td>\n",
       "      <td>III</td>\n",
       "      <td>III</td>\n",
       "      <td>IV</td>\n",
       "      <td>IV</td>\n",
       "      <td>V</td>\n",
       "      <td>VI</td>\n",
       "      <td>II</td>\n",
       "    </tr>\n",
       "    <tr>\n",
       "      <th>Experience</th>\n",
       "      <td>&gt;10yrs</td>\n",
       "      <td>7yrs</td>\n",
       "      <td>&lt;1yr</td>\n",
       "      <td>&lt;1yr</td>\n",
       "      <td>2yrs</td>\n",
       "      <td>1yrs</td>\n",
       "      <td>&gt;10yrs</td>\n",
       "      <td>4yrs</td>\n",
       "      <td>&lt;1yr</td>\n",
       "      <td>2yrs</td>\n",
       "      <td>...</td>\n",
       "      <td>5yrs</td>\n",
       "      <td>9yrs</td>\n",
       "      <td>&gt;10yrs</td>\n",
       "      <td>2yrs</td>\n",
       "      <td>&gt;10yrs</td>\n",
       "      <td>4yrs</td>\n",
       "      <td>8yrs</td>\n",
       "      <td>&gt;10yrs</td>\n",
       "      <td>9yrs</td>\n",
       "      <td>&gt;10yrs</td>\n",
       "    </tr>\n",
       "    <tr>\n",
       "      <th>Validation</th>\n",
       "      <td>Vfied</td>\n",
       "      <td>Source Verified</td>\n",
       "      <td>Source Verified</td>\n",
       "      <td>Vfied</td>\n",
       "      <td>Source Verified</td>\n",
       "      <td>Source Verified</td>\n",
       "      <td>Source Verified</td>\n",
       "      <td>Source Verified</td>\n",
       "      <td>Vfied</td>\n",
       "      <td>Not Vfied</td>\n",
       "      <td>...</td>\n",
       "      <td>Vfied</td>\n",
       "      <td>Vfied</td>\n",
       "      <td>Source Verified</td>\n",
       "      <td>Not Vfied</td>\n",
       "      <td>Not Vfied</td>\n",
       "      <td>Vfied</td>\n",
       "      <td>Source Verified</td>\n",
       "      <td>Not Vfied</td>\n",
       "      <td>Not Vfied</td>\n",
       "      <td>Source Verified</td>\n",
       "    </tr>\n",
       "    <tr>\n",
       "      <th>Yearly Income</th>\n",
       "      <td>633600.0</td>\n",
       "      <td>85483.2</td>\n",
       "      <td>79200.0</td>\n",
       "      <td>61600.0</td>\n",
       "      <td>68053.92</td>\n",
       "      <td>219648.0</td>\n",
       "      <td>88000.0</td>\n",
       "      <td>NaN</td>\n",
       "      <td>NaN</td>\n",
       "      <td>149600.0</td>\n",
       "      <td>...</td>\n",
       "      <td>93280.0</td>\n",
       "      <td>103840.0</td>\n",
       "      <td>NaN</td>\n",
       "      <td>35200.0</td>\n",
       "      <td>NaN</td>\n",
       "      <td>308000.0</td>\n",
       "      <td>158400.0</td>\n",
       "      <td>52800.0</td>\n",
       "      <td>52800.0</td>\n",
       "      <td>121440.0</td>\n",
       "    </tr>\n",
       "    <tr>\n",
       "      <th>Home Status</th>\n",
       "      <td>MOR??AGE</td>\n",
       "      <td>REN?</td>\n",
       "      <td>REN?</td>\n",
       "      <td>REN?</td>\n",
       "      <td>REN?</td>\n",
       "      <td>MOR??AGE</td>\n",
       "      <td>REN?</td>\n",
       "      <td>REN?</td>\n",
       "      <td>REN?</td>\n",
       "      <td>OWN</td>\n",
       "      <td>...</td>\n",
       "      <td>REN?</td>\n",
       "      <td>REN?</td>\n",
       "      <td>MOR??AGE</td>\n",
       "      <td>REN?</td>\n",
       "      <td>MOR??AGE</td>\n",
       "      <td>MOR??AGE</td>\n",
       "      <td>MOR??AGE</td>\n",
       "      <td>OWN</td>\n",
       "      <td>OWN</td>\n",
       "      <td>MOR??AGE</td>\n",
       "    </tr>\n",
       "    <tr>\n",
       "      <th>Unpaid 2 years</th>\n",
       "      <td>0</td>\n",
       "      <td>0</td>\n",
       "      <td>0</td>\n",
       "      <td>0</td>\n",
       "      <td>0</td>\n",
       "      <td>4</td>\n",
       "      <td>0</td>\n",
       "      <td>2</td>\n",
       "      <td>0</td>\n",
       "      <td>0</td>\n",
       "      <td>...</td>\n",
       "      <td>0</td>\n",
       "      <td>0</td>\n",
       "      <td>1</td>\n",
       "      <td>0</td>\n",
       "      <td>0</td>\n",
       "      <td>1</td>\n",
       "      <td>0</td>\n",
       "      <td>0</td>\n",
       "      <td>5</td>\n",
       "      <td>0</td>\n",
       "    </tr>\n",
       "    <tr>\n",
       "      <th>Already Defaulted</th>\n",
       "      <td>0</td>\n",
       "      <td>0</td>\n",
       "      <td>0</td>\n",
       "      <td>0</td>\n",
       "      <td>0</td>\n",
       "      <td>0</td>\n",
       "      <td>0</td>\n",
       "      <td>0</td>\n",
       "      <td>0</td>\n",
       "      <td>0</td>\n",
       "      <td>...</td>\n",
       "      <td>0</td>\n",
       "      <td>0</td>\n",
       "      <td>0</td>\n",
       "      <td>0</td>\n",
       "      <td>0</td>\n",
       "      <td>0</td>\n",
       "      <td>0</td>\n",
       "      <td>0</td>\n",
       "      <td>0</td>\n",
       "      <td>0</td>\n",
       "    </tr>\n",
       "    <tr>\n",
       "      <th>Designation</th>\n",
       "      <td>GLENDALE NISSAN</td>\n",
       "      <td>Business Teacher</td>\n",
       "      <td>driver</td>\n",
       "      <td>AvePoint</td>\n",
       "      <td>Lead Tester</td>\n",
       "      <td>Financial Controller</td>\n",
       "      <td>Chef</td>\n",
       "      <td>General manager</td>\n",
       "      <td>laborer</td>\n",
       "      <td>truck driver</td>\n",
       "      <td>...</td>\n",
       "      <td>Licensed practical nurse</td>\n",
       "      <td>Grinderhand</td>\n",
       "      <td>ER register</td>\n",
       "      <td>Parade Performer</td>\n",
       "      <td>Sr. Chemistry Technician</td>\n",
       "      <td>Regional Manager</td>\n",
       "      <td>Clinical Coordinator</td>\n",
       "      <td>administrative</td>\n",
       "      <td>ParaEducator</td>\n",
       "      <td>School Teacher</td>\n",
       "    </tr>\n",
       "    <tr>\n",
       "      <th>Debt to Income</th>\n",
       "      <td>12.5496</td>\n",
       "      <td>9.0048</td>\n",
       "      <td>24.9144</td>\n",
       "      <td>16.5816</td>\n",
       "      <td>40.0512</td>\n",
       "      <td>26.4264</td>\n",
       "      <td>19.152</td>\n",
       "      <td>48.3</td>\n",
       "      <td>26.4936</td>\n",
       "      <td>13.3056</td>\n",
       "      <td>...</td>\n",
       "      <td>45.3432</td>\n",
       "      <td>31.8528</td>\n",
       "      <td>18.1944</td>\n",
       "      <td>19.4544</td>\n",
       "      <td>10.2144</td>\n",
       "      <td>29.4336</td>\n",
       "      <td>31.6008</td>\n",
       "      <td>46.9728</td>\n",
       "      <td>48.048</td>\n",
       "      <td>27.2664</td>\n",
       "    </tr>\n",
       "    <tr>\n",
       "      <th>Postal Code</th>\n",
       "      <td>91300.0</td>\n",
       "      <td>27400.0</td>\n",
       "      <td>32800.0</td>\n",
       "      <td>7000.0</td>\n",
       "      <td>70800.0</td>\n",
       "      <td>77000.0</td>\n",
       "      <td>92100.0</td>\n",
       "      <td>6000.0</td>\n",
       "      <td>92500.0</td>\n",
       "      <td>78500.0</td>\n",
       "      <td>...</td>\n",
       "      <td>80200.0</td>\n",
       "      <td>60000.0</td>\n",
       "      <td>34200.0</td>\n",
       "      <td>90000.0</td>\n",
       "      <td>63000.0</td>\n",
       "      <td>91700.0</td>\n",
       "      <td>19500.0</td>\n",
       "      <td>90800.0</td>\n",
       "      <td>37000.0</td>\n",
       "      <td>91900.0</td>\n",
       "    </tr>\n",
       "    <tr>\n",
       "      <th>Lend Amount</th>\n",
       "      <td>42023.25</td>\n",
       "      <td>38133.0</td>\n",
       "      <td>17100.0</td>\n",
       "      <td>5130.0</td>\n",
       "      <td>19665.0</td>\n",
       "      <td>34200.0</td>\n",
       "      <td>34200.0</td>\n",
       "      <td>13551.75</td>\n",
       "      <td>25692.75</td>\n",
       "      <td>17100.0</td>\n",
       "      <td>...</td>\n",
       "      <td>24966.0</td>\n",
       "      <td>33772.5</td>\n",
       "      <td>19152.0</td>\n",
       "      <td>7866.0</td>\n",
       "      <td>20520.0</td>\n",
       "      <td>59850.0</td>\n",
       "      <td>28215.0</td>\n",
       "      <td>4916.25</td>\n",
       "      <td>15390.0</td>\n",
       "      <td>24624.0</td>\n",
       "    </tr>\n",
       "    <tr>\n",
       "      <th>Deprecatory Records</th>\n",
       "      <td>0</td>\n",
       "      <td>0</td>\n",
       "      <td>0</td>\n",
       "      <td>0</td>\n",
       "      <td>0</td>\n",
       "      <td>0</td>\n",
       "      <td>0</td>\n",
       "      <td>0</td>\n",
       "      <td>0</td>\n",
       "      <td>0</td>\n",
       "      <td>...</td>\n",
       "      <td>0</td>\n",
       "      <td>0</td>\n",
       "      <td>0</td>\n",
       "      <td>0</td>\n",
       "      <td>1</td>\n",
       "      <td>0</td>\n",
       "      <td>0</td>\n",
       "      <td>1</td>\n",
       "      <td>1</td>\n",
       "      <td>0</td>\n",
       "    </tr>\n",
       "    <tr>\n",
       "      <th>Interest Charged</th>\n",
       "      <td>15.39</td>\n",
       "      <td>9.94</td>\n",
       "      <td>22.35</td>\n",
       "      <td>10.36</td>\n",
       "      <td>13.68</td>\n",
       "      <td>15.12</td>\n",
       "      <td>23.49</td>\n",
       "      <td>20.77</td>\n",
       "      <td>23.09</td>\n",
       "      <td>11.85</td>\n",
       "      <td>...</td>\n",
       "      <td>8.5</td>\n",
       "      <td>17.48</td>\n",
       "      <td>23.82</td>\n",
       "      <td>20.26</td>\n",
       "      <td>14.33</td>\n",
       "      <td>19.15</td>\n",
       "      <td>19.02</td>\n",
       "      <td>18.68</td>\n",
       "      <td>10.47</td>\n",
       "      <td>9.8</td>\n",
       "    </tr>\n",
       "    <tr>\n",
       "      <th>Usage Rate</th>\n",
       "      <td>88.924</td>\n",
       "      <td>102.856</td>\n",
       "      <td>60.372</td>\n",
       "      <td>116.272</td>\n",
       "      <td>127.28</td>\n",
       "      <td>115.928</td>\n",
       "      <td>92.708</td>\n",
       "      <td>23.736</td>\n",
       "      <td>1.892</td>\n",
       "      <td>105.436</td>\n",
       "      <td>...</td>\n",
       "      <td>95.976</td>\n",
       "      <td>53.148</td>\n",
       "      <td>73.1</td>\n",
       "      <td>55.384</td>\n",
       "      <td>147.748</td>\n",
       "      <td>52.116</td>\n",
       "      <td>165.12</td>\n",
       "      <td>54.868</td>\n",
       "      <td>137.772</td>\n",
       "      <td>104.06</td>\n",
       "    </tr>\n",
       "    <tr>\n",
       "      <th>Inquiries</th>\n",
       "      <td>3</td>\n",
       "      <td>0</td>\n",
       "      <td>0</td>\n",
       "      <td>1</td>\n",
       "      <td>1</td>\n",
       "      <td>2</td>\n",
       "      <td>1</td>\n",
       "      <td>0</td>\n",
       "      <td>0</td>\n",
       "      <td>0</td>\n",
       "      <td>...</td>\n",
       "      <td>1</td>\n",
       "      <td>1</td>\n",
       "      <td>0</td>\n",
       "      <td>0</td>\n",
       "      <td>1</td>\n",
       "      <td>4</td>\n",
       "      <td>1</td>\n",
       "      <td>3</td>\n",
       "      <td>1</td>\n",
       "      <td>0</td>\n",
       "    </tr>\n",
       "    <tr>\n",
       "      <th>Present Balance</th>\n",
       "      <td>607161.9</td>\n",
       "      <td>269234.06</td>\n",
       "      <td>22476.53</td>\n",
       "      <td>15242.09</td>\n",
       "      <td>65433.94</td>\n",
       "      <td>60089.94</td>\n",
       "      <td>29052.99</td>\n",
       "      <td>60312.05</td>\n",
       "      <td>44525.54</td>\n",
       "      <td>28849.25</td>\n",
       "      <td>...</td>\n",
       "      <td>75941.58</td>\n",
       "      <td>31968.81</td>\n",
       "      <td>14617.51</td>\n",
       "      <td>14367.01</td>\n",
       "      <td>267024.65</td>\n",
       "      <td>848107.83</td>\n",
       "      <td>614710.3</td>\n",
       "      <td>47287.72</td>\n",
       "      <td>107614.8</td>\n",
       "      <td>783477.16</td>\n",
       "    </tr>\n",
       "    <tr>\n",
       "      <th>Gross Collection</th>\n",
       "      <td>0.0</td>\n",
       "      <td>0.0</td>\n",
       "      <td>0.0</td>\n",
       "      <td>0.0</td>\n",
       "      <td>0.0</td>\n",
       "      <td>0.0</td>\n",
       "      <td>0.0</td>\n",
       "      <td>0.0</td>\n",
       "      <td>0.0</td>\n",
       "      <td>0.0</td>\n",
       "      <td>...</td>\n",
       "      <td>0.0</td>\n",
       "      <td>0.0</td>\n",
       "      <td>0.0</td>\n",
       "      <td>0.0</td>\n",
       "      <td>0.0</td>\n",
       "      <td>0.0</td>\n",
       "      <td>0.0</td>\n",
       "      <td>0.0</td>\n",
       "      <td>0.0</td>\n",
       "      <td>0.0</td>\n",
       "    </tr>\n",
       "    <tr>\n",
       "      <th>Sub GGGrade</th>\n",
       "      <td>19</td>\n",
       "      <td>30</td>\n",
       "      <td>25</td>\n",
       "      <td>22</td>\n",
       "      <td>32</td>\n",
       "      <td>19</td>\n",
       "      <td>24</td>\n",
       "      <td>21</td>\n",
       "      <td>43</td>\n",
       "      <td>19</td>\n",
       "      <td>...</td>\n",
       "      <td>24</td>\n",
       "      <td>22</td>\n",
       "      <td>29</td>\n",
       "      <td>25</td>\n",
       "      <td>22</td>\n",
       "      <td>29</td>\n",
       "      <td>28</td>\n",
       "      <td>33</td>\n",
       "      <td>40</td>\n",
       "      <td>19</td>\n",
       "    </tr>\n",
       "    <tr>\n",
       "      <th>File Status</th>\n",
       "      <td>fully paid</td>\n",
       "      <td>whole</td>\n",
       "      <td>whole</td>\n",
       "      <td>fully paid</td>\n",
       "      <td>fully paid</td>\n",
       "      <td>whole</td>\n",
       "      <td>fully paid</td>\n",
       "      <td>fully paid</td>\n",
       "      <td>whole</td>\n",
       "      <td>whole</td>\n",
       "      <td>...</td>\n",
       "      <td>fully paid</td>\n",
       "      <td>whole</td>\n",
       "      <td>whole</td>\n",
       "      <td>whole</td>\n",
       "      <td>whole</td>\n",
       "      <td>fully paid</td>\n",
       "      <td>fully paid</td>\n",
       "      <td>fully paid</td>\n",
       "      <td>whole</td>\n",
       "      <td>fully paid</td>\n",
       "    </tr>\n",
       "    <tr>\n",
       "      <th>State</th>\n",
       "      <td>California</td>\n",
       "      <td>NC</td>\n",
       "      <td>Florida</td>\n",
       "      <td>NewJersey</td>\n",
       "      <td>LA</td>\n",
       "      <td>TX</td>\n",
       "      <td>California</td>\n",
       "      <td>CT</td>\n",
       "      <td>California</td>\n",
       "      <td>TX</td>\n",
       "      <td>...</td>\n",
       "      <td>CO</td>\n",
       "      <td>IL</td>\n",
       "      <td>Florida</td>\n",
       "      <td>California</td>\n",
       "      <td>MO</td>\n",
       "      <td>California</td>\n",
       "      <td>PA</td>\n",
       "      <td>California</td>\n",
       "      <td>TN</td>\n",
       "      <td>California</td>\n",
       "    </tr>\n",
       "    <tr>\n",
       "      <th>Account Open</th>\n",
       "      <td>17</td>\n",
       "      <td>15</td>\n",
       "      <td>7</td>\n",
       "      <td>9</td>\n",
       "      <td>10</td>\n",
       "      <td>11</td>\n",
       "      <td>10</td>\n",
       "      <td>26</td>\n",
       "      <td>6</td>\n",
       "      <td>10</td>\n",
       "      <td>...</td>\n",
       "      <td>13</td>\n",
       "      <td>7</td>\n",
       "      <td>13</td>\n",
       "      <td>10</td>\n",
       "      <td>6</td>\n",
       "      <td>19</td>\n",
       "      <td>14</td>\n",
       "      <td>9</td>\n",
       "      <td>9</td>\n",
       "      <td>15</td>\n",
       "    </tr>\n",
       "    <tr>\n",
       "      <th>Total Unpaid CL</th>\n",
       "      <td>58598.0</td>\n",
       "      <td>18924.0</td>\n",
       "      <td>15604.0</td>\n",
       "      <td>22410.0</td>\n",
       "      <td>36022.0</td>\n",
       "      <td>27556.0</td>\n",
       "      <td>53618.0</td>\n",
       "      <td>123338.0</td>\n",
       "      <td>19256.0</td>\n",
       "      <td>18592.0</td>\n",
       "      <td>...</td>\n",
       "      <td>27058.0</td>\n",
       "      <td>16932.0</td>\n",
       "      <td>NaN</td>\n",
       "      <td>44322.0</td>\n",
       "      <td>19920.0</td>\n",
       "      <td>132468.0</td>\n",
       "      <td>51958.0</td>\n",
       "      <td>8466.0</td>\n",
       "      <td>17264.0</td>\n",
       "      <td>47310.0</td>\n",
       "    </tr>\n",
       "    <tr>\n",
       "      <th>Duration</th>\n",
       "      <td>3 years</td>\n",
       "      <td>5 years</td>\n",
       "      <td>5 years</td>\n",
       "      <td>3 years</td>\n",
       "      <td>5 years</td>\n",
       "      <td>3 years</td>\n",
       "      <td>3 years</td>\n",
       "      <td>3 years</td>\n",
       "      <td>5 years</td>\n",
       "      <td>3 years</td>\n",
       "      <td>...</td>\n",
       "      <td>5 years</td>\n",
       "      <td>5 years</td>\n",
       "      <td>5 years</td>\n",
       "      <td>3 years</td>\n",
       "      <td>5 years</td>\n",
       "      <td>3 years</td>\n",
       "      <td>5 years</td>\n",
       "      <td>3 years</td>\n",
       "      <td>3 years</td>\n",
       "      <td>3 years</td>\n",
       "    </tr>\n",
       "    <tr>\n",
       "      <th>Unpaid Amount</th>\n",
       "      <td>31216.05</td>\n",
       "      <td>11660.49</td>\n",
       "      <td>5637.87</td>\n",
       "      <td>15607.17</td>\n",
       "      <td>27472.86</td>\n",
       "      <td>19134.9</td>\n",
       "      <td>29748.87</td>\n",
       "      <td>17496.72</td>\n",
       "      <td>225.72</td>\n",
       "      <td>NaN</td>\n",
       "      <td>...</td>\n",
       "      <td>15555.87</td>\n",
       "      <td>5384.79</td>\n",
       "      <td>5961.06</td>\n",
       "      <td>14711.13</td>\n",
       "      <td>17621.55</td>\n",
       "      <td>57683.43</td>\n",
       "      <td>51395.76</td>\n",
       "      <td>2783.88</td>\n",
       "      <td>NaN</td>\n",
       "      <td>29504.34</td>\n",
       "    </tr>\n",
       "    <tr>\n",
       "      <th>Reason</th>\n",
       "      <td>debt  consolidation</td>\n",
       "      <td>debt  consolidation</td>\n",
       "      <td>major  purchase</td>\n",
       "      <td>major  purchase</td>\n",
       "      <td>debt  consolidation</td>\n",
       "      <td>debt  consolidation</td>\n",
       "      <td>debt  consolidation</td>\n",
       "      <td>debt  consolidation</td>\n",
       "      <td>other</td>\n",
       "      <td>other</td>\n",
       "      <td>...</td>\n",
       "      <td>debt  consolidation</td>\n",
       "      <td>debt  consolidation</td>\n",
       "      <td>debt  consolidation</td>\n",
       "      <td>credit  card</td>\n",
       "      <td>credit  card</td>\n",
       "      <td>debt  consolidation</td>\n",
       "      <td>credit  card</td>\n",
       "      <td>debt  consolidation</td>\n",
       "      <td>home  improvement</td>\n",
       "      <td>debt  consolidation</td>\n",
       "    </tr>\n",
       "    <tr>\n",
       "      <th>Claim Type</th>\n",
       "      <td>I</td>\n",
       "      <td>I</td>\n",
       "      <td>I</td>\n",
       "      <td>I</td>\n",
       "      <td>I</td>\n",
       "      <td>I</td>\n",
       "      <td>I</td>\n",
       "      <td>I</td>\n",
       "      <td>I</td>\n",
       "      <td>I</td>\n",
       "      <td>...</td>\n",
       "      <td>I</td>\n",
       "      <td>I</td>\n",
       "      <td>I</td>\n",
       "      <td>I</td>\n",
       "      <td>I</td>\n",
       "      <td>I</td>\n",
       "      <td>I</td>\n",
       "      <td>I</td>\n",
       "      <td>I</td>\n",
       "      <td>I</td>\n",
       "    </tr>\n",
       "    <tr>\n",
       "      <th>Due Fee</th>\n",
       "      <td>0.0</td>\n",
       "      <td>0.0</td>\n",
       "      <td>0.0</td>\n",
       "      <td>0.0</td>\n",
       "      <td>0.0</td>\n",
       "      <td>0.0</td>\n",
       "      <td>0.0</td>\n",
       "      <td>0.0</td>\n",
       "      <td>0.0</td>\n",
       "      <td>0.0</td>\n",
       "      <td>...</td>\n",
       "      <td>0.0</td>\n",
       "      <td>0.0</td>\n",
       "      <td>0.0</td>\n",
       "      <td>0.0</td>\n",
       "      <td>0.0</td>\n",
       "      <td>0.0</td>\n",
       "      <td>0.0</td>\n",
       "      <td>0.0</td>\n",
       "      <td>0.0</td>\n",
       "      <td>0.0</td>\n",
       "    </tr>\n",
       "    <tr>\n",
       "      <th>Loan/No Loan</th>\n",
       "      <td>0.0</td>\n",
       "      <td>0.0</td>\n",
       "      <td>0.0</td>\n",
       "      <td>1.0</td>\n",
       "      <td>0.0</td>\n",
       "      <td>0.0</td>\n",
       "      <td>0.0</td>\n",
       "      <td>0.0</td>\n",
       "      <td>0.0</td>\n",
       "      <td>0.0</td>\n",
       "      <td>...</td>\n",
       "      <td>NaN</td>\n",
       "      <td>NaN</td>\n",
       "      <td>NaN</td>\n",
       "      <td>NaN</td>\n",
       "      <td>NaN</td>\n",
       "      <td>NaN</td>\n",
       "      <td>NaN</td>\n",
       "      <td>NaN</td>\n",
       "      <td>NaN</td>\n",
       "      <td>NaN</td>\n",
       "    </tr>\n",
       "  </tbody>\n",
       "</table>\n",
       "<p>30 rows × 125000 columns</p>\n",
       "</div>"
      ],
      "text/plain": [
       "                                  0                    1       \\\n",
       "ID                                 95074               134131   \n",
       "Asst_Reg                          421802              3964312   \n",
       "GGGrade                               II                   IV   \n",
       "Experience                        >10yrs                 7yrs   \n",
       "Validation                         Vfied      Source Verified   \n",
       "Yearly Income                   633600.0              85483.2   \n",
       "Home Status                     MOR??AGE                 REN?   \n",
       "Unpaid 2 years                         0                    0   \n",
       "Already Defaulted                      0                    0   \n",
       "Designation              GLENDALE NISSAN     Business Teacher   \n",
       "Debt to Income                   12.5496               9.0048   \n",
       "Postal Code                      91300.0              27400.0   \n",
       "Lend Amount                     42023.25              38133.0   \n",
       "Deprecatory Records                    0                    0   \n",
       "Interest Charged                   15.39                 9.94   \n",
       "Usage Rate                        88.924              102.856   \n",
       "Inquiries                              3                    0   \n",
       "Present Balance                 607161.9            269234.06   \n",
       "Gross Collection                     0.0                  0.0   \n",
       "Sub GGGrade                           19                   30   \n",
       "File Status                   fully paid                whole   \n",
       "State                         California                   NC   \n",
       "Account Open                          17                   15   \n",
       "Total Unpaid CL                  58598.0              18924.0   \n",
       "Duration                         3 years              5 years   \n",
       "Unpaid Amount                   31216.05             11660.49   \n",
       "Reason               debt  consolidation  debt  consolidation   \n",
       "Claim Type                             I                    I   \n",
       "Due Fee                              0.0                  0.0   \n",
       "Loan/No Loan                         0.0                  0.0   \n",
       "\n",
       "                              2                3                    4       \\\n",
       "ID                             92602            22591               125060   \n",
       "Asst_Reg                     4247560           197179              4646684   \n",
       "GGGrade                          III              III                    V   \n",
       "Experience                      <1yr             <1yr                 2yrs   \n",
       "Validation           Source Verified            Vfied      Source Verified   \n",
       "Yearly Income                79200.0          61600.0             68053.92   \n",
       "Home Status                     REN?             REN?                 REN?   \n",
       "Unpaid 2 years                     0                0                    0   \n",
       "Already Defaulted                  0                0                    0   \n",
       "Designation                   driver         AvePoint          Lead Tester   \n",
       "Debt to Income               24.9144          16.5816              40.0512   \n",
       "Postal Code                  32800.0           7000.0              70800.0   \n",
       "Lend Amount                  17100.0           5130.0              19665.0   \n",
       "Deprecatory Records                0                0                    0   \n",
       "Interest Charged               22.35            10.36                13.68   \n",
       "Usage Rate                    60.372          116.272               127.28   \n",
       "Inquiries                          0                1                    1   \n",
       "Present Balance             22476.53         15242.09             65433.94   \n",
       "Gross Collection                 0.0              0.0                  0.0   \n",
       "Sub GGGrade                       25               22                   32   \n",
       "File Status                    whole       fully paid           fully paid   \n",
       "State                        Florida        NewJersey                   LA   \n",
       "Account Open                       7                9                   10   \n",
       "Total Unpaid CL              15604.0          22410.0              36022.0   \n",
       "Duration                     5 years          3 years              5 years   \n",
       "Unpaid Amount                5637.87         15607.17             27472.86   \n",
       "Reason               major  purchase  major  purchase  debt  consolidation   \n",
       "Claim Type                         I                I                    I   \n",
       "Due Fee                          0.0              0.0                  0.0   \n",
       "Loan/No Loan                     0.0              1.0                  0.0   \n",
       "\n",
       "                                   5                    6       \\\n",
       "ID                                  21803               141442   \n",
       "Asst_Reg                          1771402              6308843   \n",
       "GGGrade                                II                  III   \n",
       "Experience                           1yrs               >10yrs   \n",
       "Validation                Source Verified      Source Verified   \n",
       "Yearly Income                    219648.0              88000.0   \n",
       "Home Status                      MOR??AGE                 REN?   \n",
       "Unpaid 2 years                          4                    0   \n",
       "Already Defaulted                       0                    0   \n",
       "Designation          Financial Controller                 Chef   \n",
       "Debt to Income                    26.4264               19.152   \n",
       "Postal Code                       77000.0              92100.0   \n",
       "Lend Amount                       34200.0              34200.0   \n",
       "Deprecatory Records                     0                    0   \n",
       "Interest Charged                    15.12                23.49   \n",
       "Usage Rate                        115.928               92.708   \n",
       "Inquiries                               2                    1   \n",
       "Present Balance                  60089.94             29052.99   \n",
       "Gross Collection                      0.0                  0.0   \n",
       "Sub GGGrade                            19                   24   \n",
       "File Status                         whole           fully paid   \n",
       "State                                  TX           California   \n",
       "Account Open                           11                   10   \n",
       "Total Unpaid CL                   27556.0              53618.0   \n",
       "Duration                          3 years              3 years   \n",
       "Unpaid Amount                     19134.9             29748.87   \n",
       "Reason                debt  consolidation  debt  consolidation   \n",
       "Claim Type                              I                    I   \n",
       "Due Fee                               0.0                  0.0   \n",
       "Loan/No Loan                          0.0                  0.0   \n",
       "\n",
       "                                  7           8             9       ...  \\\n",
       "ID                                 94448      109853        138407  ...   \n",
       "Asst_Reg                         1468916     7067902       2704860  ...   \n",
       "GGGrade                              III         VII            II  ...   \n",
       "Experience                          4yrs        <1yr          2yrs  ...   \n",
       "Validation               Source Verified       Vfied     Not Vfied  ...   \n",
       "Yearly Income                        NaN         NaN      149600.0  ...   \n",
       "Home Status                         REN?        REN?           OWN  ...   \n",
       "Unpaid 2 years                         2           0             0  ...   \n",
       "Already Defaulted                      0           0             0  ...   \n",
       "Designation              General manager     laborer  truck driver  ...   \n",
       "Debt to Income                      48.3     26.4936       13.3056  ...   \n",
       "Postal Code                       6000.0     92500.0       78500.0  ...   \n",
       "Lend Amount                     13551.75    25692.75       17100.0  ...   \n",
       "Deprecatory Records                    0           0             0  ...   \n",
       "Interest Charged                   20.77       23.09         11.85  ...   \n",
       "Usage Rate                        23.736       1.892       105.436  ...   \n",
       "Inquiries                              0           0             0  ...   \n",
       "Present Balance                 60312.05    44525.54      28849.25  ...   \n",
       "Gross Collection                     0.0         0.0           0.0  ...   \n",
       "Sub GGGrade                           21          43            19  ...   \n",
       "File Status                   fully paid       whole         whole  ...   \n",
       "State                                 CT  California            TX  ...   \n",
       "Account Open                          26           6            10  ...   \n",
       "Total Unpaid CL                 123338.0     19256.0       18592.0  ...   \n",
       "Duration                         3 years     5 years       3 years  ...   \n",
       "Unpaid Amount                   17496.72      225.72           NaN  ...   \n",
       "Reason               debt  consolidation       other         other  ...   \n",
       "Claim Type                             I           I             I  ...   \n",
       "Due Fee                              0.0         0.0           0.0  ...   \n",
       "Loan/No Loan                         0.0         0.0           0.0  ...   \n",
       "\n",
       "                                       124990               124991  \\\n",
       "ID                                     203126               190580   \n",
       "Asst_Reg                              7126858               903464   \n",
       "GGGrade                                   III                  III   \n",
       "Experience                               5yrs                 9yrs   \n",
       "Validation                              Vfied                Vfied   \n",
       "Yearly Income                         93280.0             103840.0   \n",
       "Home Status                              REN?                 REN?   \n",
       "Unpaid 2 years                              0                    0   \n",
       "Already Defaulted                           0                    0   \n",
       "Designation          Licensed practical nurse          Grinderhand   \n",
       "Debt to Income                        45.3432              31.8528   \n",
       "Postal Code                           80200.0              60000.0   \n",
       "Lend Amount                           24966.0              33772.5   \n",
       "Deprecatory Records                         0                    0   \n",
       "Interest Charged                          8.5                17.48   \n",
       "Usage Rate                             95.976               53.148   \n",
       "Inquiries                                   1                    1   \n",
       "Present Balance                      75941.58             31968.81   \n",
       "Gross Collection                          0.0                  0.0   \n",
       "Sub GGGrade                                24                   22   \n",
       "File Status                        fully paid                whole   \n",
       "State                                      CO                   IL   \n",
       "Account Open                               13                    7   \n",
       "Total Unpaid CL                       27058.0              16932.0   \n",
       "Duration                              5 years              5 years   \n",
       "Unpaid Amount                        15555.87              5384.79   \n",
       "Reason                    debt  consolidation  debt  consolidation   \n",
       "Claim Type                                  I                    I   \n",
       "Due Fee                                   0.0                  0.0   \n",
       "Loan/No Loan                              NaN                  NaN   \n",
       "\n",
       "                                  124992            124993  \\\n",
       "ID                                220314            180640   \n",
       "Asst_Reg                         3747691           4990321   \n",
       "GGGrade                               IV               III   \n",
       "Experience                        >10yrs              2yrs   \n",
       "Validation               Source Verified         Not Vfied   \n",
       "Yearly Income                        NaN           35200.0   \n",
       "Home Status                     MOR??AGE              REN?   \n",
       "Unpaid 2 years                         1                 0   \n",
       "Already Defaulted                      0                 0   \n",
       "Designation                  ER register  Parade Performer   \n",
       "Debt to Income                   18.1944           19.4544   \n",
       "Postal Code                      34200.0           90000.0   \n",
       "Lend Amount                      19152.0            7866.0   \n",
       "Deprecatory Records                    0                 0   \n",
       "Interest Charged                   23.82             20.26   \n",
       "Usage Rate                          73.1            55.384   \n",
       "Inquiries                              0                 0   \n",
       "Present Balance                 14617.51          14367.01   \n",
       "Gross Collection                     0.0               0.0   \n",
       "Sub GGGrade                           29                25   \n",
       "File Status                        whole             whole   \n",
       "State                            Florida        California   \n",
       "Account Open                          13                10   \n",
       "Total Unpaid CL                      NaN           44322.0   \n",
       "Duration                         5 years           3 years   \n",
       "Unpaid Amount                    5961.06          14711.13   \n",
       "Reason               debt  consolidation      credit  card   \n",
       "Claim Type                             I                 I   \n",
       "Due Fee                              0.0               0.0   \n",
       "Loan/No Loan                         NaN               NaN   \n",
       "\n",
       "                                       124994               124995  \\\n",
       "ID                                     157086               191405   \n",
       "Asst_Reg                              3702525              5774816   \n",
       "GGGrade                                   III                   IV   \n",
       "Experience                             >10yrs                 4yrs   \n",
       "Validation                          Not Vfied                Vfied   \n",
       "Yearly Income                             NaN             308000.0   \n",
       "Home Status                          MOR??AGE             MOR??AGE   \n",
       "Unpaid 2 years                              0                    1   \n",
       "Already Defaulted                           0                    0   \n",
       "Designation          Sr. Chemistry Technician     Regional Manager   \n",
       "Debt to Income                        10.2144              29.4336   \n",
       "Postal Code                           63000.0              91700.0   \n",
       "Lend Amount                           20520.0              59850.0   \n",
       "Deprecatory Records                         1                    0   \n",
       "Interest Charged                        14.33                19.15   \n",
       "Usage Rate                            147.748               52.116   \n",
       "Inquiries                                   1                    4   \n",
       "Present Balance                     267024.65            848107.83   \n",
       "Gross Collection                          0.0                  0.0   \n",
       "Sub GGGrade                                22                   29   \n",
       "File Status                             whole           fully paid   \n",
       "State                                      MO           California   \n",
       "Account Open                                6                   19   \n",
       "Total Unpaid CL                       19920.0             132468.0   \n",
       "Duration                              5 years              3 years   \n",
       "Unpaid Amount                        17621.55             57683.43   \n",
       "Reason                           credit  card  debt  consolidation   \n",
       "Claim Type                                  I                    I   \n",
       "Due Fee                                   0.0                  0.0   \n",
       "Loan/No Loan                              NaN                  NaN   \n",
       "\n",
       "                                   124996               124997  \\\n",
       "ID                                 164868               163156   \n",
       "Asst_Reg                          1423834              1895531   \n",
       "GGGrade                                IV                    V   \n",
       "Experience                           8yrs               >10yrs   \n",
       "Validation                Source Verified            Not Vfied   \n",
       "Yearly Income                    158400.0              52800.0   \n",
       "Home Status                      MOR??AGE                  OWN   \n",
       "Unpaid 2 years                          0                    0   \n",
       "Already Defaulted                       0                    0   \n",
       "Designation          Clinical Coordinator       administrative   \n",
       "Debt to Income                    31.6008              46.9728   \n",
       "Postal Code                       19500.0              90800.0   \n",
       "Lend Amount                       28215.0              4916.25   \n",
       "Deprecatory Records                     0                    1   \n",
       "Interest Charged                    19.02                18.68   \n",
       "Usage Rate                         165.12               54.868   \n",
       "Inquiries                               1                    3   \n",
       "Present Balance                  614710.3             47287.72   \n",
       "Gross Collection                      0.0                  0.0   \n",
       "Sub GGGrade                            28                   33   \n",
       "File Status                    fully paid           fully paid   \n",
       "State                                  PA           California   \n",
       "Account Open                           14                    9   \n",
       "Total Unpaid CL                   51958.0               8466.0   \n",
       "Duration                          5 years              3 years   \n",
       "Unpaid Amount                    51395.76              2783.88   \n",
       "Reason                       credit  card  debt  consolidation   \n",
       "Claim Type                              I                    I   \n",
       "Due Fee                               0.0                  0.0   \n",
       "Loan/No Loan                          NaN                  NaN   \n",
       "\n",
       "                                124998               124999  \n",
       "ID                              169610               175557  \n",
       "Asst_Reg                       2168910              4140268  \n",
       "GGGrade                             VI                   II  \n",
       "Experience                        9yrs               >10yrs  \n",
       "Validation                   Not Vfied      Source Verified  \n",
       "Yearly Income                  52800.0             121440.0  \n",
       "Home Status                        OWN             MOR??AGE  \n",
       "Unpaid 2 years                       5                    0  \n",
       "Already Defaulted                    0                    0  \n",
       "Designation               ParaEducator       School Teacher  \n",
       "Debt to Income                  48.048              27.2664  \n",
       "Postal Code                    37000.0              91900.0  \n",
       "Lend Amount                    15390.0              24624.0  \n",
       "Deprecatory Records                  1                    0  \n",
       "Interest Charged                 10.47                  9.8  \n",
       "Usage Rate                     137.772               104.06  \n",
       "Inquiries                            1                    0  \n",
       "Present Balance               107614.8            783477.16  \n",
       "Gross Collection                   0.0                  0.0  \n",
       "Sub GGGrade                         40                   19  \n",
       "File Status                      whole           fully paid  \n",
       "State                               TN           California  \n",
       "Account Open                         9                   15  \n",
       "Total Unpaid CL                17264.0              47310.0  \n",
       "Duration                       3 years              3 years  \n",
       "Unpaid Amount                      NaN             29504.34  \n",
       "Reason               home  improvement  debt  consolidation  \n",
       "Claim Type                           I                    I  \n",
       "Due Fee                            0.0                  0.0  \n",
       "Loan/No Loan                       NaN                  NaN  \n",
       "\n",
       "[30 rows x 125000 columns]"
      ]
     },
     "execution_count": 10,
     "metadata": {},
     "output_type": "execute_result"
    }
   ],
   "source": [
    "combi.T"
   ]
  },
  {
   "cell_type": "markdown",
   "id": "fd3c0db4",
   "metadata": {},
   "source": [
    "### INFERENCES :\n",
    "\n",
    "1. There are 30 columns with all together 125000 rows.\n",
    "2. There are null values present in the data.\n",
    "3. The invalid entries are also present in the columns.\n",
    "4. Most of the columns are integer/numerical in data type.\n",
    "5. Some columns like zip-code, id seems irrelevent."
   ]
  },
  {
   "cell_type": "markdown",
   "id": "8c2c620d",
   "metadata": {},
   "source": [
    "### DATA WRANGLING AND CLEANING"
   ]
  },
  {
   "cell_type": "code",
   "execution_count": 11,
   "id": "7829d9d2",
   "metadata": {},
   "outputs": [
    {
     "data": {
      "text/plain": [
       "95074     1\n",
       "122966    1\n",
       "67274     1\n",
       "95318     1\n",
       "82877     1\n",
       "         ..\n",
       "91453     1\n",
       "136825    1\n",
       "103187    1\n",
       "101199    1\n",
       "175557    1\n",
       "Name: ID, Length: 125000, dtype: int64"
      ]
     },
     "execution_count": 11,
     "metadata": {},
     "output_type": "execute_result"
    }
   ],
   "source": [
    "combi.ID.value_counts()"
   ]
  },
  {
   "cell_type": "code",
   "execution_count": 12,
   "id": "b4b1a9d6",
   "metadata": {},
   "outputs": [
    {
     "data": {
      "text/plain": [
       "<AxesSubplot:>"
      ]
     },
     "execution_count": 12,
     "metadata": {},
     "output_type": "execute_result"
    },
    {
     "data": {
      "image/png": "[encoded data removed]",
      "text/plain": [
       "<Figure size 432x288 with 1 Axes>"
      ]
     },
     "metadata": {
      "needs_background": "light"
     },
     "output_type": "display_data"
    }
   ],
   "source": [
    "combi[\"Loan/No Loan\"].value_counts().plot.bar()"
   ]
  },
  {
   "cell_type": "code",
   "execution_count": 13,
   "id": "56a876e4",
   "metadata": {},
   "outputs": [
    {
     "data": {
      "text/plain": [
       "<AxesSubplot:xlabel='Asst_Reg'>"
      ]
     },
     "execution_count": 13,
     "metadata": {},
     "output_type": "execute_result"
    },
    {
     "data": {
      "image/png": "[encoded data removed]",
      "text/plain": [
       "<Figure size 432x288 with 1 Axes>"
      ]
     },
     "metadata": {
      "needs_background": "light"
     },
     "output_type": "display_data"
    }
   ],
   "source": [
    "sns.boxplot(combi[\"Asst_Reg\"])"
   ]
  },
  {
   "cell_type": "code",
   "execution_count": 14,
   "id": "00645b9f",
   "metadata": {},
   "outputs": [
    {
     "data": {
      "text/plain": [
       "array(['II', 'IV', 'III', 'V', 'VII', 'VI', 'I'], dtype=object)"
      ]
     },
     "execution_count": 14,
     "metadata": {},
     "output_type": "execute_result"
    }
   ],
   "source": [
    "combi[\"GGGrade\"].unique()"
   ]
  },
  {
   "cell_type": "code",
   "execution_count": 15,
   "id": "ccf63205",
   "metadata": {},
   "outputs": [
    {
     "data": {
      "text/plain": [
       "<AxesSubplot:xlabel='Experience', ylabel='count'>"
      ]
     },
     "execution_count": 15,
     "metadata": {},
     "output_type": "execute_result"
    },
    {
     "data": {
      "image/png": "[encoded data removed]",
      "text/plain": [
       "<Figure size 432x288 with 1 Axes>"
      ]
     },
     "metadata": {
      "needs_background": "light"
     },
     "output_type": "display_data"
    }
   ],
   "source": [
    "sns.countplot(x=combi[\"Experience\"] , hue =combi[\"Loan/No Loan\"])"
   ]
  },
  {
   "cell_type": "code",
   "execution_count": 16,
   "id": "06ef769d",
   "metadata": {},
   "outputs": [
    {
     "data": {
      "text/plain": [
       "array(['1yrs', '2yrs', '3yrs', '4yrs', '5yrs', '6yrs', '7yrs', '8yrs',\n",
       "       '9yrs', '<1yr', '>10yrs'], dtype=object)"
      ]
     },
     "execution_count": 16,
     "metadata": {},
     "output_type": "execute_result"
    }
   ],
   "source": [
    "combi[\"Experience\"].sort_values().unique()"
   ]
  },
  {
   "cell_type": "code",
   "execution_count": 17,
   "id": "08ea5cc2",
   "metadata": {},
   "outputs": [],
   "source": [
    "def exp(x):\n",
    "    if(x==\">10yrs\"):\n",
    "        return(\"experienced\")\n",
    "    \n",
    "    else:\n",
    "        return(\"not much\")\n",
    "   \n"
   ]
  },
  {
   "cell_type": "code",
   "execution_count": 18,
   "id": "2e3b80c9",
   "metadata": {},
   "outputs": [
    {
     "data": {
      "text/plain": [
       "not much       80992\n",
       "experienced    44008\n",
       "Name: Experience, dtype: int64"
      ]
     },
     "execution_count": 18,
     "metadata": {},
     "output_type": "execute_result"
    }
   ],
   "source": [
    "combi[\"Experience\"] = combi[\"Experience\"].apply(exp)\n",
    "combi[\"Experience\"].value_counts()"
   ]
  },
  {
   "cell_type": "code",
   "execution_count": 19,
   "id": "344e809a",
   "metadata": {},
   "outputs": [
    {
     "data": {
      "text/plain": [
       "Source Verified    49150\n",
       "Vfied              38008\n",
       "Not Vfied          37842\n",
       "Name: Validation, dtype: int64"
      ]
     },
     "execution_count": 19,
     "metadata": {},
     "output_type": "execute_result"
    }
   ],
   "source": [
    "combi[\"Validation\"].value_counts()"
   ]
  },
  {
   "cell_type": "code",
   "execution_count": 20,
   "id": "5b995d48",
   "metadata": {},
   "outputs": [
    {
     "data": {
      "text/plain": [
       "<AxesSubplot:>"
      ]
     },
     "execution_count": 20,
     "metadata": {},
     "output_type": "execute_result"
    },
    {
     "data": {
      "image/png": "[encoded data removed]",
      "text/plain": [
       "<Figure size 432x288 with 1 Axes>"
      ]
     },
     "metadata": {
      "needs_background": "light"
     },
     "output_type": "display_data"
    }
   ],
   "source": [
    "combi[\"Yearly Income\"].plot(kind=\"box\")"
   ]
  },
  {
   "cell_type": "code",
   "execution_count": 21,
   "id": "07d1b586",
   "metadata": {},
   "outputs": [
    {
     "data": {
      "text/plain": [
       "<AxesSubplot:ylabel='Density'>"
      ]
     },
     "execution_count": 21,
     "metadata": {},
     "output_type": "execute_result"
    },
    {
     "data": {
      "image/png": "[encoded data removed]",
      "text/plain": [
       "<Figure size 432x288 with 1 Axes>"
      ]
     },
     "metadata": {
      "needs_background": "light"
     },
     "output_type": "display_data"
    }
   ],
   "source": [
    "combi[\"Yearly Income\"].plot(kind=\"density\")"
   ]
  },
  {
   "cell_type": "code",
   "execution_count": 22,
   "id": "327c3706",
   "metadata": {},
   "outputs": [
    {
     "data": {
      "text/plain": [
       "(134611.16765909008,\n",
       " 114400.0,\n",
       " 0    105600.0\n",
       " dtype: float64)"
      ]
     },
     "execution_count": 22,
     "metadata": {},
     "output_type": "execute_result"
    }
   ],
   "source": [
    "combi[\"Yearly Income\"].mean() , combi[\"Yearly Income\"].median() , combi[\"Yearly Income\"].mode()"
   ]
  },
  {
   "cell_type": "code",
   "execution_count": 23,
   "id": "e6d1c2b5",
   "metadata": {},
   "outputs": [
    {
     "data": {
      "text/plain": [
       "18.77742200281253"
      ]
     },
     "execution_count": 23,
     "metadata": {},
     "output_type": "execute_result"
    }
   ],
   "source": [
    "combi[\"Yearly Income\"].skew()"
   ]
  },
  {
   "cell_type": "code",
   "execution_count": 24,
   "id": "3f6fa72f",
   "metadata": {},
   "outputs": [],
   "source": [
    "na=combi['Yearly Income'].median()\n",
    "combi['Yearly Income'].replace(np.NaN, na, inplace = True)"
   ]
  },
  {
   "cell_type": "code",
   "execution_count": 25,
   "id": "65ebd02b",
   "metadata": {},
   "outputs": [
    {
     "data": {
      "text/plain": [
       "array(['MOR??AGE', 'REN?', 'OWN', 'OTHER', 'NONE'], dtype=object)"
      ]
     },
     "execution_count": 25,
     "metadata": {},
     "output_type": "execute_result"
    }
   ],
   "source": [
    "combi[\"Home Status\"].unique()"
   ]
  },
  {
   "cell_type": "code",
   "execution_count": 26,
   "id": "019aa768",
   "metadata": {},
   "outputs": [
    {
     "data": {
      "text/plain": [
       "<AxesSubplot:xlabel='Home Status', ylabel='count'>"
      ]
     },
     "execution_count": 26,
     "metadata": {},
     "output_type": "execute_result"
    },
    {
     "data": {
      "image/png": "[encoded data removed]",
      "text/plain": [
       "<Figure size 432x288 with 1 Axes>"
      ]
     },
     "metadata": {
      "needs_background": "light"
     },
     "output_type": "display_data"
    }
   ],
   "source": [
    "sns.countplot(combi[\"Home Status\"] , hue = combi[\"Loan/No Loan\"])"
   ]
  },
  {
   "cell_type": "code",
   "execution_count": 27,
   "id": "1be4c126",
   "metadata": {},
   "outputs": [],
   "source": [
    "def housy(x):\n",
    "    if(x=='MOR??AGE'):\n",
    "        return(\"Mortgage\")\n",
    "    if(x=='REN?' ):\n",
    "        return(\"Rental\")\n",
    "    if(x=='OWN' ):\n",
    "        return(\"Owned\")\n",
    "    else:\n",
    "        return(\"others\")"
   ]
  },
  {
   "cell_type": "code",
   "execution_count": 28,
   "id": "210d2b75",
   "metadata": {},
   "outputs": [
    {
     "data": {
      "text/plain": [
       "Mortgage    63072\n",
       "Rental      49906\n",
       "Owned       12008\n",
       "others         14\n",
       "Name: Home Status, dtype: int64"
      ]
     },
     "execution_count": 28,
     "metadata": {},
     "output_type": "execute_result"
    }
   ],
   "source": [
    "combi[\"Home Status\"] = combi[\"Home Status\"].apply(housy)\n",
    "combi[\"Home Status\"].value_counts()"
   ]
  },
  {
   "cell_type": "code",
   "execution_count": 29,
   "id": "da456a73",
   "metadata": {},
   "outputs": [
    {
     "data": {
      "text/plain": [
       "array([ 0,  4,  2,  1,  3, 11,  5,  6,  7,  9, 12,  8, 10, 18, 16, 15, 13,\n",
       "       14, 17], dtype=int64)"
      ]
     },
     "execution_count": 29,
     "metadata": {},
     "output_type": "execute_result"
    }
   ],
   "source": [
    "combi[\"Unpaid 2 years\"].unique()"
   ]
  },
  {
   "cell_type": "code",
   "execution_count": 30,
   "id": "1da4f213",
   "metadata": {},
   "outputs": [],
   "source": [
    "def twoyrs(x):\n",
    "    if(x==0):\n",
    "        return(\"no risk\")\n",
    "    if((x>=1) & (x<=10) ):\n",
    "        return(\"Risk\")\n",
    "    if(x>10 ):\n",
    "        return(\"Highly Risk\")\n",
    "    "
   ]
  },
  {
   "cell_type": "code",
   "execution_count": 31,
   "id": "4ffbb36f",
   "metadata": {},
   "outputs": [
    {
     "data": {
      "text/plain": [
       "no risk        99683\n",
       "Risk           25261\n",
       "Highly Risk       56\n",
       "Name: Unpaid 2 years, dtype: int64"
      ]
     },
     "execution_count": 31,
     "metadata": {},
     "output_type": "execute_result"
    }
   ],
   "source": [
    "combi[\"Unpaid 2 years\"] = combi[\"Unpaid 2 years\"].apply(twoyrs)\n",
    "combi[\"Unpaid 2 years\"].value_counts()"
   ]
  },
  {
   "cell_type": "code",
   "execution_count": 32,
   "id": "3b550c50",
   "metadata": {},
   "outputs": [
    {
     "data": {
      "text/plain": [
       "array(['no risk', 'Risk', 'Highly Risk'], dtype=object)"
      ]
     },
     "execution_count": 32,
     "metadata": {},
     "output_type": "execute_result"
    }
   ],
   "source": [
    "combi[\"Unpaid 2 years\"].unique()"
   ]
  },
  {
   "cell_type": "code",
   "execution_count": 33,
   "id": "8b78b04f",
   "metadata": {},
   "outputs": [
    {
     "data": {
      "text/plain": [
       "array([0, 1, 2, 6, 5, 4, 3], dtype=int64)"
      ]
     },
     "execution_count": 33,
     "metadata": {},
     "output_type": "execute_result"
    }
   ],
   "source": [
    "combi[\"Already Defaulted\"].unique()"
   ]
  },
  {
   "cell_type": "code",
   "execution_count": 34,
   "id": "edb84208",
   "metadata": {},
   "outputs": [
    {
     "data": {
      "text/plain": [
       "School Teacher                     2251\n",
       "Super Lead                         1917\n",
       "Nurse                              1081\n",
       "RN                                  926\n",
       "Owner                               891\n",
       "                                   ... \n",
       "Well Child                            1\n",
       "Director of Risk and Compliance       1\n",
       "Reliable Heating & Air Cond Co.       1\n",
       "Meintenance                           1\n",
       "ParaEducator                          1\n",
       "Name: Designation, Length: 54539, dtype: int64"
      ]
     },
     "execution_count": 34,
     "metadata": {},
     "output_type": "execute_result"
    }
   ],
   "source": [
    "combi[\"Designation\"].value_counts()"
   ]
  },
  {
   "cell_type": "code",
   "execution_count": 35,
   "id": "82d7ba84",
   "metadata": {},
   "outputs": [
    {
     "data": {
      "text/plain": [
       "<AxesSubplot:ylabel='Density'>"
      ]
     },
     "execution_count": 35,
     "metadata": {},
     "output_type": "execute_result"
    },
    {
     "data": {
      "image/png": "[encoded data removed]",
      "text/plain": [
       "<Figure size 432x288 with 1 Axes>"
      ]
     },
     "metadata": {
      "needs_background": "light"
     },
     "output_type": "display_data"
    }
   ],
   "source": [
    "combi[\"Debt to Income\"].plot(kind=\"density\")"
   ]
  },
  {
   "cell_type": "code",
   "execution_count": 36,
   "id": "cf9192d3",
   "metadata": {},
   "outputs": [
    {
     "data": {
      "text/plain": [
       "0.8948890363840599"
      ]
     },
     "execution_count": 36,
     "metadata": {},
     "output_type": "execute_result"
    }
   ],
   "source": [
    "combi[\"Debt to Income\"].skew()"
   ]
  },
  {
   "cell_type": "code",
   "execution_count": 37,
   "id": "752c7e0b",
   "metadata": {},
   "outputs": [
    {
     "data": {
      "text/plain": [
       "(30.935573339999365,\n",
       " 30.156,\n",
       " 0    24.192\n",
       " 1    28.224\n",
       " dtype: float64)"
      ]
     },
     "execution_count": 37,
     "metadata": {},
     "output_type": "execute_result"
    }
   ],
   "source": [
    "combi[\"Debt to Income\"].mean() , combi[\"Debt to Income\"].median() , combi[\"Debt to Income\"].mode()"
   ]
  },
  {
   "cell_type": "code",
   "execution_count": 38,
   "id": "e0007d0f",
   "metadata": {},
   "outputs": [],
   "source": [
    "na=combi['Debt to Income'].median()\n",
    "combi['Debt to Income'].replace(np.NaN, na, inplace = True)"
   ]
  },
  {
   "cell_type": "code",
   "execution_count": 39,
   "id": "6721fbe6",
   "metadata": {},
   "outputs": [
    {
     "data": {
      "text/plain": [
       "array([91300., 27400., 32800.,  7000., 70800., 77000., 92100.,  6000.,\n",
       "       92500., 78500., 95900., 49400., 97200., 72200., 11900., 91900.,\n",
       "       59100., 28300., 80800., 72900., 45000., 27500., 87100., 55000.,\n",
       "       30300.,    nan, 11700., 75200., 20800., 32500., 35400., 28000.,\n",
       "       29700., 17700., 95800., 85700., 84400., 16800., 44700.,  2100.,\n",
       "       76000., 85300., 78700., 20100., 27200., 48500., 77300., 45200.,\n",
       "       61800., 71400., 18700., 23400., 11200., 13000., 36500., 92600.,\n",
       "       29400., 10000., 11300., 53500., 95100., 92000., 89400., 96700.,\n",
       "       12000., 91700.,  2900., 70000., 11600., 48200., 18000.,  8900.,\n",
       "       38000., 28200., 33100., 99200., 12500., 33000., 73000., 33300.,\n",
       "       90000.,  5700., 37900., 94100., 89000., 74000., 47100., 33400.,\n",
       "       99500., 32900., 43700., 38100., 29600.,  6400., 21200., 55100.,\n",
       "       46400., 94500., 33800., 10400., 11000., 69300., 36600., 68000.,\n",
       "       48100., 94600., 78200.,  3800., 20000., 78000., 10700., 89500.,\n",
       "       11500., 93200.,  8000., 14500., 90200., 56000., 92800., 97000.,\n",
       "       76100., 63800., 10500., 10300., 20700., 29000., 79900., 48800.,\n",
       "       75000., 43900., 16600., 26300., 38600., 27300., 92400., 30100.,\n",
       "       72500., 14400., 49600., 44100., 45800., 34600., 32700., 90800.,\n",
       "       23100., 32400., 71700., 93000., 46300., 60400., 38300., 85000.,\n",
       "       92700., 55300., 84100.,  2000., 98900., 60100., 95600., 43100.,\n",
       "       85200.,  7600., 22500., 80100., 16000., 33600., 89100., 35000.,\n",
       "       40900., 33900.,  6200., 23200., 14800., 44900., 30000., 32200.,\n",
       "       72700., 15200., 60000., 98100., 60700., 18100., 31000., 70100.,\n",
       "       98300., 17000., 46100., 22600., 17800., 70400., 35700., 76500.,\n",
       "       80900., 76200., 77400., 41000., 43000., 94000., 98000., 97500.,\n",
       "       37200., 74900., 44600., 19000.,  6500., 81500., 11100., 40200.,\n",
       "       32100., 44000., 64100., 35800., 24500., 39400., 28100., 86300.,\n",
       "       75100., 28700., 55400.,  8800.,  8500., 66200., 24400., 93500.,\n",
       "       49200., 46900., 26000., 14100., 74100., 60600., 22000., 72000.,\n",
       "       74600., 93300., 81000., 19700., 45300., 53100., 25500., 49500.,\n",
       "       47300., 64000., 62200., 44300., 84000., 63000., 61300., 67500.,\n",
       "       47200., 29200., 19100., 89800., 80000., 34400., 45100., 18900.,\n",
       "       80200., 33500., 58100., 61600., 26500., 91200., 48000., 99000.,\n",
       "       79700., 45400., 77500., 87300., 47500., 43500., 91600., 79100.,\n",
       "       95000., 27000.,  1800., 30200., 49800., 57700.,  7700., 10600.,\n",
       "       92300., 99600., 12300., 24800.,  3400., 37600., 21800., 34200.,\n",
       "       19500., 61100., 68100., 27600., 49000., 66700., 11400., 78100.,\n",
       "       65700., 71300., 15000., 30700., 39100., 43200., 63300., 44500.,\n",
       "       31300., 36100., 32600., 84600.,  2700., 46200., 13800.,  6700.,\n",
       "       54000., 79400., 76300., 31600., 12900.,  8200., 27700., 72400.,\n",
       "       53200., 19400., 13700., 73100., 98400., 37300., 65200., 54900.,\n",
       "       44400., 70500., 14200., 48300., 10100., 42200.,  7800., 42300.,\n",
       "       75900., 39000., 59700., 62400., 22200., 67400., 73400.,  2800.,\n",
       "       73500., 93400., 17500., 66000., 40500., 96800.,  2300., 54500.,\n",
       "       62300., 77700.,  5400., 55900., 31500.,  6800., 35200.,  3200.,\n",
       "       98500., 25100., 93900., 15500., 14700., 37400., 33700., 48600.,\n",
       "       60900.,  6900., 74800., 57300., 22300., 30500.,  1900., 61000.,\n",
       "       63100.,  6600., 29500.,  7300., 49300., 12100., 18300.,  8700.,\n",
       "       23000., 39500., 67200., 15400., 78600., 15600., 31400., 90700.,\n",
       "       97400., 17300., 60300., 86400., 60500., 54600., 34100., 88200.,\n",
       "       80600., 24700., 64800.,  1500., 80500., 30800., 73800., 71100.,\n",
       "       25400.,  2500., 31200., 24900., 53900., 53000., 86000., 29300.,\n",
       "       95400., 27800., 98600., 21000., 94900., 75400., 40000., 31700.,\n",
       "       62700., 45500., 92200., 91500., 95300., 43600., 13500., 19800.,\n",
       "       36000., 56700., 84300., 40300., 37100., 99900., 23600., 66600.,\n",
       "       16100.,  7500., 24100., 95200., 16300., 94400., 42000., 84500.,\n",
       "       59000., 12600., 42700., 56400.,  5000., 27900., 82900., 30600.,\n",
       "       67300., 78400., 21700., 14600., 47700., 22400., 91000., 46500.,\n",
       "       44200., 22100., 47600., 11800., 85100.,  3000., 46700., 34700.,\n",
       "       98200., 43400., 19900., 18400., 35600., 94300., 72100., 32300.,\n",
       "       17900., 68400., 22700., 81200., 65600.,  1200., 39800., 17100.,\n",
       "       95700., 20600., 77200., 97700.,  1000.,  6100., 19600., 40400.,\n",
       "       28800., 36800., 93600., 99300.,  8100., 37700., 31900., 67600.,\n",
       "       21400., 71000., 37000., 18600., 32000., 18500., 47000., 45600.,\n",
       "       72600., 53700., 64700.,  7400.,  1400., 23300., 67800., 46000.,\n",
       "        1700., 54100., 36300., 28400., 20900., 64500., 75600., 75300.,\n",
       "       26700., 67000., 46600., 15300., 16900., 61500., 44800., 62600.,\n",
       "       13900., 21100., 91100., 24000., 65800., 39300., 98800., 59900.,\n",
       "       34900., 93700., 13200.,  8600., 79000., 35100., 53400., 54800.,\n",
       "       35900.,  1300., 77900., 16200., 76700., 43300., 13600.,  3700.,\n",
       "        4100., 82700., 46800., 47900., 63900., 13400.,  1600., 79200.,\n",
       "       15100., 91400., 56500., 38700., 12800., 64400., 80300., 62500.,\n",
       "       27100., 85600., 67700., 49700., 23500., 71900., 61700., 19300.,\n",
       "       28500., 80700., 63500., 49100., 74500., 81300., 86500., 82600.,\n",
       "       90600., 66100., 97300., 24200., 67100., 90300., 68500., 88100.,\n",
       "       56300., 85500., 17400., 54400., 90500., 15900., 48400., 97100.,\n",
       "       61200., 13100., 28600., 80400., 37800., 88000., 36200., 38500.,\n",
       "       74700.,  2600.,  2400., 70700.,  3500., 29100., 14000., 49900.,\n",
       "       76800., 96000., 94800., 22900.,  6300., 95500., 73600., 55700.,\n",
       "       65500., 17600., 65000., 56600., 57000., 75800., 99700., 93100.,\n",
       "       26200., 29900., 91800., 10900., 57400., 87500., 25300., 71200.,\n",
       "       89700., 30900., 23800., 65100., 75700., 82200., 82000., 41100.,\n",
       "       30400., 17200.,  5300., 81600., 82400., 97800., 81100., 84700.,\n",
       "        3300., 73700., 61400., 14900., 97900., 16700., 82800.,  7900.,\n",
       "       71800., 25800., 54200., 88300.,  8400., 16500., 79600., 87000.,\n",
       "       57200., 29800., 77800., 60800., 58600.,  8300., 36700.,  9000.,\n",
       "       26100., 82300., 76400., 66500., 47800., 64600., 76900., 67900.,\n",
       "       63700., 89300., 38800., 78300., 54700., 23700., 87400.,  3100.,\n",
       "       31800., 10200., 18800., 39200.,  7200., 66800.,  7100., 59400.,\n",
       "       59800., 41700., 62900., 96200., 39700., 63400., 24600., 45700.,\n",
       "       14300., 12700., 21600., 21900., 70300.,  4200., 62800., 25200.,\n",
       "       78900.,  1100., 42400., 25000., 59600., 83100., 54300., 24300.,\n",
       "       70600., 72300., 65300., 81400., 41200., 59200., 40100., 83000.,\n",
       "       78800., 58500., 57100., 77600., 10800., 59500., 59300., 57600.,\n",
       "       58200., 12200., 55600., 26400., 38900., 55800., 76600., 65400.,\n",
       "       16400., 74400., 79500., 38400., 97600.,  4900., 56200., 28900.,\n",
       "       90400., 58000., 96100., 15800., 35500., 22800., 99800., 71600.,\n",
       "       79800., 94700., 18200., 75500., 48700., 79300., 25700., 48900.,\n",
       "       42100., 62000., 42500., 85900., 38200., 47400., 42600., 58700.,\n",
       "       12400., 68900., 74300., 68800.,  5800., 56100., 90100., 21500.,\n",
       "       40700., 41600., 41500., 13300., 53800., 26800., 50000., 43800.,\n",
       "        5100., 25900., 36400., 99100., 26600.,  4700.,  4000.,  5200.,\n",
       "       61900., 57500., 25600.,  4600., 60200., 33200., 58800., 82500.,\n",
       "       63600., 31100., 39600., 68600., 66400., 23900., 96500., 15700.,\n",
       "        5600., 68700.,  2200., 36900., 41800.,  4400., 40600., 72800.,\n",
       "        4300.,  5900., 68300.,  3900., 87700., 83600.,  9400., 94200.,\n",
       "       69100., 40800.,  4800., 41300., 69000., 52700., 73900.,  9100.,\n",
       "       88400.,  3600., 34300., 58300.,  9600., 41400.,  4500., 77100.,\n",
       "       87800., 83800., 66900., 58400., 51300., 99400., 87900., 96300.,\n",
       "        9800., 83500., 26900., 20400.])"
      ]
     },
     "execution_count": 39,
     "metadata": {},
     "output_type": "execute_result"
    }
   ],
   "source": [
    "combi[\"Postal Code\"].unique()"
   ]
  },
  {
   "cell_type": "code",
   "execution_count": 40,
   "id": "97f9837e",
   "metadata": {},
   "outputs": [
    {
     "data": {
      "text/plain": [
       "<AxesSubplot:ylabel='Density'>"
      ]
     },
     "execution_count": 40,
     "metadata": {},
     "output_type": "execute_result"
    },
    {
     "data": {
      "image/png": "[encoded data removed]",
      "text/plain": [
       "<Figure size 432x288 with 1 Axes>"
      ]
     },
     "metadata": {
      "needs_background": "light"
     },
     "output_type": "display_data"
    }
   ],
   "source": [
    "combi[\"Lend Amount\"].plot(kind=\"density\")"
   ]
  },
  {
   "cell_type": "code",
   "execution_count": 41,
   "id": "add59f21",
   "metadata": {},
   "outputs": [
    {
     "data": {
      "text/plain": [
       "0.6435979341089223"
      ]
     },
     "execution_count": 41,
     "metadata": {},
     "output_type": "execute_result"
    }
   ],
   "source": [
    "combi[\"Lend Amount\"].skew()"
   ]
  },
  {
   "cell_type": "code",
   "execution_count": 42,
   "id": "6084586e",
   "metadata": {},
   "outputs": [
    {
     "data": {
      "text/plain": [
       "(25892.776224,\n",
       " 23940.0,\n",
       " 0    17100.0\n",
       " dtype: float64)"
      ]
     },
     "execution_count": 42,
     "metadata": {},
     "output_type": "execute_result"
    }
   ],
   "source": [
    "combi[\"Lend Amount\"].mean() , combi[\"Lend Amount\"].median() , combi[\"Lend Amount\"].mode()"
   ]
  },
  {
   "cell_type": "code",
   "execution_count": 43,
   "id": "1a66186d",
   "metadata": {},
   "outputs": [
    {
     "data": {
      "text/plain": [
       "<AxesSubplot:xlabel='Loan/No Loan', ylabel='Deprecatory Records'>"
      ]
     },
     "execution_count": 43,
     "metadata": {},
     "output_type": "execute_result"
    },
    {
     "data": {
      "image/png": "[encoded data removed]",
      "text/plain": [
       "<Figure size 432x288 with 1 Axes>"
      ]
     },
     "metadata": {
      "needs_background": "light"
     },
     "output_type": "display_data"
    }
   ],
   "source": [
    "sns.boxplot(y=combi[\"Deprecatory Records\"] , x =combi[\"Loan/No Loan\"])"
   ]
  },
  {
   "cell_type": "code",
   "execution_count": 44,
   "id": "d7d04a46",
   "metadata": {},
   "outputs": [
    {
     "data": {
      "text/plain": [
       "<AxesSubplot:xlabel='Deprecatory Records', ylabel='count'>"
      ]
     },
     "execution_count": 44,
     "metadata": {},
     "output_type": "execute_result"
    },
    {
     "data": {
      "image/png": "[encoded data removed]",
      "text/plain": [
       "<Figure size 432x288 with 1 Axes>"
      ]
     },
     "metadata": {
      "needs_background": "light"
     },
     "output_type": "display_data"
    }
   ],
   "source": [
    "sns.countplot(combi[\"Deprecatory Records\"])"
   ]
  },
  {
   "cell_type": "code",
   "execution_count": 45,
   "id": "405abe7c",
   "metadata": {},
   "outputs": [
    {
     "data": {
      "text/plain": [
       "array([ 0,  1,  2,  3,  4,  5,  6,  7,  8,  9, 10, 11, 12, 13, 15, 16, 21,\n",
       "       22, 86], dtype=int64)"
      ]
     },
     "execution_count": 45,
     "metadata": {},
     "output_type": "execute_result"
    }
   ],
   "source": [
    "combi[\"Deprecatory Records\"].sort_values().unique()"
   ]
  },
  {
   "cell_type": "code",
   "execution_count": 46,
   "id": "ca9ae3e2",
   "metadata": {},
   "outputs": [],
   "source": [
    "def dep(x):\n",
    "    if(x==0):\n",
    "        return(\"no risk\")\n",
    "    if(x==1):\n",
    "        return(\"okayish\")\n",
    "    else:\n",
    "        return(\"risky\")"
   ]
  },
  {
   "cell_type": "code",
   "execution_count": 47,
   "id": "edb7e773",
   "metadata": {},
   "outputs": [
    {
     "data": {
      "text/plain": [
       "no risk    105391\n",
       "okayish     16336\n",
       "risky        3273\n",
       "Name: Deprecatory Records, dtype: int64"
      ]
     },
     "execution_count": 47,
     "metadata": {},
     "output_type": "execute_result"
    }
   ],
   "source": [
    "combi[\"Deprecatory Records\"] = combi[\"Deprecatory Records\"].apply(dep)\n",
    "combi[\"Deprecatory Records\"].value_counts()"
   ]
  },
  {
   "cell_type": "code",
   "execution_count": 48,
   "id": "5c825416",
   "metadata": {},
   "outputs": [
    {
     "data": {
      "text/plain": [
       "array([0, 1, 2, 3, 4, 5, 6, 8], dtype=int64)"
      ]
     },
     "execution_count": 48,
     "metadata": {},
     "output_type": "execute_result"
    }
   ],
   "source": [
    "combi[\"Inquiries\"].sort_values().unique()"
   ]
  },
  {
   "cell_type": "code",
   "execution_count": 49,
   "id": "8e1eb7a6",
   "metadata": {},
   "outputs": [
    {
     "data": {
      "text/plain": [
       "<AxesSubplot:ylabel='Density'>"
      ]
     },
     "execution_count": 49,
     "metadata": {},
     "output_type": "execute_result"
    },
    {
     "data": {
      "image/png": "[encoded data removed]",
      "text/plain": [
       "<Figure size 432x288 with 1 Axes>"
      ]
     },
     "metadata": {
      "needs_background": "light"
     },
     "output_type": "display_data"
    }
   ],
   "source": [
    "combi[\"Usage Rate\"].plot(kind=\"density\")"
   ]
  },
  {
   "cell_type": "code",
   "execution_count": 50,
   "id": "725444b2",
   "metadata": {},
   "outputs": [
    {
     "data": {
      "text/plain": [
       "<AxesSubplot:ylabel='Density'>"
      ]
     },
     "execution_count": 50,
     "metadata": {},
     "output_type": "execute_result"
    },
    {
     "data": {
      "image/png": "[encoded data removed]",
      "text/plain": [
       "<Figure size 432x288 with 1 Axes>"
      ]
     },
     "metadata": {
      "needs_background": "light"
     },
     "output_type": "display_data"
    }
   ],
   "source": [
    "combi[\"Interest Charged\"].plot(kind=\"density\")"
   ]
  },
  {
   "cell_type": "code",
   "execution_count": 51,
   "id": "448fe0c0",
   "metadata": {},
   "outputs": [
    {
     "data": {
      "text/plain": [
       "<AxesSubplot:ylabel='Density'>"
      ]
     },
     "execution_count": 51,
     "metadata": {},
     "output_type": "execute_result"
    },
    {
     "data": {
      "image/png": "[encoded data removed]",
      "text/plain": [
       "<Figure size 432x288 with 1 Axes>"
      ]
     },
     "metadata": {
      "needs_background": "light"
     },
     "output_type": "display_data"
    }
   ],
   "source": [
    "combi[\"Present Balance\"].plot(kind=\"density\")"
   ]
  },
  {
   "cell_type": "code",
   "execution_count": 52,
   "id": "28789aa2",
   "metadata": {},
   "outputs": [
    {
     "data": {
      "text/plain": [
       "<AxesSubplot:ylabel='Density'>"
      ]
     },
     "execution_count": 52,
     "metadata": {},
     "output_type": "execute_result"
    },
    {
     "data": {
      "image/png": "[encoded data removed]",
      "text/plain": [
       "<Figure size 432x288 with 1 Axes>"
      ]
     },
     "metadata": {
      "needs_background": "light"
     },
     "output_type": "display_data"
    }
   ],
   "source": [
    "combi[\"Gross Collection\"].plot(kind=\"density\")"
   ]
  },
  {
   "cell_type": "code",
   "execution_count": 53,
   "id": "cc227743",
   "metadata": {},
   "outputs": [
    {
     "data": {
      "text/plain": [
       "(39.468409280000046,\n",
       " 0.0,\n",
       " 0    0.0\n",
       " dtype: float64)"
      ]
     },
     "execution_count": 53,
     "metadata": {},
     "output_type": "execute_result"
    }
   ],
   "source": [
    "combi[\"Gross Collection\"].mean() , combi[\"Gross Collection\"].median() , combi[\"Gross Collection\"].mode()"
   ]
  },
  {
   "cell_type": "code",
   "execution_count": 54,
   "id": "f7c2c4d4",
   "metadata": {},
   "outputs": [
    {
     "data": {
      "text/plain": [
       "<AxesSubplot:xlabel='Loan/No Loan', ylabel='Sub GGGrade'>"
      ]
     },
     "execution_count": 54,
     "metadata": {},
     "output_type": "execute_result"
    },
    {
     "data": {
      "image/png": "[encoded data removed]",
      "text/plain": [
       "<Figure size 432x288 with 1 Axes>"
      ]
     },
     "metadata": {
      "needs_background": "light"
     },
     "output_type": "display_data"
    }
   ],
   "source": [
    "sns.boxplot(y=combi[\"Sub GGGrade\"] , x =combi[\"Loan/No Loan\"])"
   ]
  },
  {
   "cell_type": "code",
   "execution_count": 55,
   "id": "6568a743",
   "metadata": {},
   "outputs": [
    {
     "data": {
      "text/plain": [
       "<AxesSubplot:xlabel='Sub GGGrade', ylabel='Loan/No Loan'>"
      ]
     },
     "execution_count": 55,
     "metadata": {},
     "output_type": "execute_result"
    },
    {
     "data": {
      "image/png": "[encoded data removed]",
      "text/plain": [
       "<Figure size 432x288 with 1 Axes>"
      ]
     },
     "metadata": {
      "needs_background": "light"
     },
     "output_type": "display_data"
    }
   ],
   "source": [
    "sns.barplot(x=combi[\"Sub GGGrade\"] ,y=combi[\"Loan/No Loan\"])"
   ]
  },
  {
   "cell_type": "code",
   "execution_count": 56,
   "id": "987654a0",
   "metadata": {},
   "outputs": [
    {
     "data": {
      "text/plain": [
       "array(['fully paid', 'whole'], dtype=object)"
      ]
     },
     "execution_count": 56,
     "metadata": {},
     "output_type": "execute_result"
    }
   ],
   "source": [
    "combi[\"File Status\"].unique()"
   ]
  },
  {
   "cell_type": "code",
   "execution_count": 57,
   "id": "8dc4d1b9",
   "metadata": {},
   "outputs": [
    {
     "data": {
      "text/plain": [
       "<AxesSubplot:xlabel='State', ylabel='count'>"
      ]
     },
     "execution_count": 57,
     "metadata": {},
     "output_type": "execute_result"
    },
    {
     "data": {
      "image/png": "[encoded data removed]",
      "text/plain": [
       "<Figure size 432x288 with 1 Axes>"
      ]
     },
     "metadata": {
      "needs_background": "light"
     },
     "output_type": "display_data"
    }
   ],
   "source": [
    "sns.countplot(x=combi[\"State\"] ,hue=combi[\"Loan/No Loan\"])"
   ]
  },
  {
   "cell_type": "code",
   "execution_count": 58,
   "id": "53ce45f3",
   "metadata": {},
   "outputs": [
    {
     "data": {
      "text/plain": [
       "array([17, 15,  7,  9, 10, 11, 26,  6, 14,  8, 13, 27, 12, 16, 39, 19,  5,\n",
       "       20, 18, 30, 34, 21, 24,  3, 29, 25, 23, 32, 28, 22, 44,  4, 68, 83,\n",
       "       31, 38, 33, 36, 37, 35, 43, 54, 48, 42,  2, 40, 63, 41, 80, 49, 46,\n",
       "       45, 50, 56, 52, 51, 57, 65, 47, 60], dtype=int64)"
      ]
     },
     "execution_count": 58,
     "metadata": {},
     "output_type": "execute_result"
    }
   ],
   "source": [
    "combi[\"Account Open\"].unique()"
   ]
  },
  {
   "cell_type": "code",
   "execution_count": 59,
   "id": "4eac2399",
   "metadata": {},
   "outputs": [
    {
     "data": {
      "image/png": "[encoded data removed]",
      "text/plain": [
       "<Figure size 1080x576 with 1 Axes>"
      ]
     },
     "metadata": {
      "needs_background": "light"
     },
     "output_type": "display_data"
    }
   ],
   "source": [
    "plt.figure(figsize=(15,8))\n",
    "sns.scatterplot(combi[\"Account Open\"] , combi[\"Already Defaulted\"])\n",
    "plt.show()"
   ]
  },
  {
   "cell_type": "code",
   "execution_count": 60,
   "id": "62c94422",
   "metadata": {},
   "outputs": [
    {
     "data": {
      "image/png": "[encoded data removed]",
      "text/plain": [
       "<Figure size 1080x576 with 1 Axes>"
      ]
     },
     "metadata": {
      "needs_background": "light"
     },
     "output_type": "display_data"
    }
   ],
   "source": [
    "plt.figure(figsize=(15,8))\n",
    "sns.barplot(combi[\"Account Open\"] , combi[\"Loan/No Loan\"])\n",
    "plt.show()"
   ]
  },
  {
   "cell_type": "code",
   "execution_count": 61,
   "id": "d98d9d22",
   "metadata": {},
   "outputs": [
    {
     "data": {
      "text/plain": [
       "(53322.48635361365,\n",
       " 39674.0,\n",
       " 0    24070.0\n",
       " 1    24900.0\n",
       " dtype: float64)"
      ]
     },
     "execution_count": 61,
     "metadata": {},
     "output_type": "execute_result"
    }
   ],
   "source": [
    "combi[\"Total Unpaid CL\"].mean() ,combi[\"Total Unpaid CL\"].median(), combi[\"Total Unpaid CL\"].mode()"
   ]
  },
  {
   "cell_type": "code",
   "execution_count": 62,
   "id": "9f47cc39",
   "metadata": {},
   "outputs": [
    {
     "data": {
      "text/plain": [
       "5.559470108904464"
      ]
     },
     "execution_count": 62,
     "metadata": {},
     "output_type": "execute_result"
    }
   ],
   "source": [
    "combi[\"Total Unpaid CL\"].skew()"
   ]
  },
  {
   "cell_type": "code",
   "execution_count": 63,
   "id": "16e640bb",
   "metadata": {},
   "outputs": [
    {
     "data": {
      "text/plain": [
       "<AxesSubplot:ylabel='Density'>"
      ]
     },
     "execution_count": 63,
     "metadata": {},
     "output_type": "execute_result"
    },
    {
     "data": {
      "image/png": "[encoded data removed]",
      "text/plain": [
       "<Figure size 432x288 with 1 Axes>"
      ]
     },
     "metadata": {
      "needs_background": "light"
     },
     "output_type": "display_data"
    }
   ],
   "source": [
    "combi[\"Total Unpaid CL\"].plot(kind=\"density\")"
   ]
  },
  {
   "cell_type": "code",
   "execution_count": 64,
   "id": "09895bf4",
   "metadata": {},
   "outputs": [],
   "source": [
    "me=combi['Total Unpaid CL'].median()\n",
    "combi['Total Unpaid CL'].replace(np.NaN, me, inplace = True)"
   ]
  },
  {
   "cell_type": "code",
   "execution_count": 65,
   "id": "fa9ca623",
   "metadata": {},
   "outputs": [
    {
     "data": {
      "text/plain": [
       "<AxesSubplot:xlabel='Duration', ylabel='count'>"
      ]
     },
     "execution_count": 65,
     "metadata": {},
     "output_type": "execute_result"
    },
    {
     "data": {
      "image/png": "[encoded data removed]",
      "text/plain": [
       "<Figure size 432x288 with 1 Axes>"
      ]
     },
     "metadata": {
      "needs_background": "light"
     },
     "output_type": "display_data"
    }
   ],
   "source": [
    "sns.countplot(combi[\"Duration\"] , hue=combi[\"Loan/No Loan\"])"
   ]
  },
  {
   "cell_type": "code",
   "execution_count": 66,
   "id": "8a87a010",
   "metadata": {},
   "outputs": [
    {
     "data": {
      "text/plain": [
       "3 years    85870\n",
       "5 years    39130\n",
       "Name: Duration, dtype: int64"
      ]
     },
     "execution_count": 66,
     "metadata": {},
     "output_type": "execute_result"
    }
   ],
   "source": [
    "combi[\"Duration\"].value_counts()"
   ]
  },
  {
   "cell_type": "code",
   "execution_count": 67,
   "id": "3a39e5dc",
   "metadata": {},
   "outputs": [
    {
     "data": {
      "text/plain": [
       "<AxesSubplot:ylabel='Density'>"
      ]
     },
     "execution_count": 67,
     "metadata": {},
     "output_type": "execute_result"
    },
    {
     "data": {
      "image/png": "[encoded data removed]",
      "text/plain": [
       "<Figure size 432x288 with 1 Axes>"
      ]
     },
     "metadata": {
      "needs_background": "light"
     },
     "output_type": "display_data"
    }
   ],
   "source": [
    "combi['Unpaid Amount'].plot(kind=\"density\")"
   ]
  },
  {
   "cell_type": "code",
   "execution_count": 68,
   "id": "65207fe1",
   "metadata": {},
   "outputs": [],
   "source": [
    "b=combi['Unpaid Amount'].median()"
   ]
  },
  {
   "cell_type": "code",
   "execution_count": 69,
   "id": "d024b18f",
   "metadata": {},
   "outputs": [],
   "source": [
    "combi['Unpaid Amount'].replace(np.NaN, b, inplace = True)"
   ]
  },
  {
   "cell_type": "code",
   "execution_count": 70,
   "id": "6b725e43",
   "metadata": {},
   "outputs": [
    {
     "data": {
      "image/png": "[encoded data removed]",
      "text/plain": [
       "<Figure size 1080x576 with 1 Axes>"
      ]
     },
     "metadata": {
      "needs_background": "light"
     },
     "output_type": "display_data"
    }
   ],
   "source": [
    "plt.figure(figsize=(15,8))\n",
    "sns.countplot(combi[\"Reason\"] , hue=combi[\"Loan/No Loan\"])\n",
    "plt.show()"
   ]
  },
  {
   "cell_type": "code",
   "execution_count": 71,
   "id": "451b0b4b",
   "metadata": {},
   "outputs": [
    {
     "data": {
      "text/plain": [
       "array(['debt  consolidation', 'major  purchase', 'other', 'credit  card',\n",
       "       'car', 'home  improvement', 'small  business', 'moving',\n",
       "       'vacation', 'medical', 'wedding', 'house', 'renewable  energy'],\n",
       "      dtype=object)"
      ]
     },
     "execution_count": 71,
     "metadata": {},
     "output_type": "execute_result"
    }
   ],
   "source": [
    "combi[\"Reason\"].unique()"
   ]
  },
  {
   "cell_type": "code",
   "execution_count": 72,
   "id": "bbab8cf0",
   "metadata": {},
   "outputs": [
    {
     "data": {
      "text/plain": [
       "I    124934\n",
       "J        66\n",
       "Name: Claim Type, dtype: int64"
      ]
     },
     "execution_count": 72,
     "metadata": {},
     "output_type": "execute_result"
    }
   ],
   "source": [
    "combi[\"Claim Type\"].value_counts()"
   ]
  },
  {
   "cell_type": "code",
   "execution_count": 73,
   "id": "03270afa",
   "metadata": {},
   "outputs": [
    {
     "data": {
      "text/plain": [
       "<AxesSubplot:>"
      ]
     },
     "execution_count": 73,
     "metadata": {},
     "output_type": "execute_result"
    },
    {
     "data": {
      "image/png": "[encoded data removed]",
      "text/plain": [
       "<Figure size 432x288 with 1 Axes>"
      ]
     },
     "metadata": {
      "needs_background": "light"
     },
     "output_type": "display_data"
    }
   ],
   "source": [
    "combi[\"Due Fee\"].plot(kind=\"box\")"
   ]
  },
  {
   "cell_type": "code",
   "execution_count": 74,
   "id": "567e3162",
   "metadata": {
    "scrolled": true
   },
   "outputs": [
    {
     "data": {
      "text/plain": [
       "<AxesSubplot:>"
      ]
     },
     "execution_count": 74,
     "metadata": {},
     "output_type": "execute_result"
    },
    {
     "data": {
      "image/png": "[encoded data removed]",
      "text/plain": [
       "<Figure size 1080x576 with 2 Axes>"
      ]
     },
     "metadata": {
      "needs_background": "light"
     },
     "output_type": "display_data"
    }
   ],
   "source": [
    "plt.figure(figsize = (15,8))\n",
    "sns.heatmap(combi.corr() , annot=True)"
   ]
  },
  {
   "cell_type": "markdown",
   "id": "d40788ff",
   "metadata": {},
   "source": [
    "### INFERENCES :\n",
    "\n",
    "1. The I.D column has unique values for evry entry.\n",
    "2. There are no duplicates present in the data.\n",
    "3. The target class is highly imbalanced.\n",
    "4. The GGGrade has 7 category's in the data.\n",
    "5. The experience has from 1 to more than 10yrs of entry in data.\n",
    "6. The experience variable has too many entries so bin them into two categorys (>10 = experience)&(<10 not experienced)\n",
    "7. The validation has 3 category's.\n",
    "8. Yearly income column is highly skewed with outliers and mean of 134611.16.\n",
    "9. Home status with mortgage has higher no of loans approved.\n",
    "10. Since there were overlap in the categorys so we binned them together.\n",
    "11. The designation column had too many entrys to keep or bin them genrically. so we will drop them.\n",
    "12. Postal code has values which cant be traced back to names and too many category to keep.\n",
    "13. lend amount is near normally distributed.\n",
    "14. The depracatory record has too many values as it is assigned after loan defaulting. So, binning them into three categorys.\n",
    "15. Loan for three year term is approved more than 5 yrs tenure loan.\n",
    "16. There are two types of claim type I,J, Where j has only 70 records while i has 124930 records.\n",
    "17. Reason for debt consolidation is the most reason for loan application.\n",
    "18. Account open has highest entry of 83 A/c which is not possible. rendiring the variable invalid.\n",
    "19. Sub GGGrade is sub category of GGGrade. which can cause multi-colinearity.\n",
    "20. Gross collection is highly skewed with the mean of 39.4, and median and mode of 0."
   ]
  },
  {
   "cell_type": "markdown",
   "id": "760da6ab",
   "metadata": {},
   "source": [
    "### DROPPING THE INSIGNIFICANT VARIABLES FOUND IN THE E.D.A PROCESS."
   ]
  },
  {
   "cell_type": "code",
   "execution_count": 76,
   "id": "7ee0aad9",
   "metadata": {},
   "outputs": [],
   "source": [
    "combi.drop([\"ID\",\"Postal Code\" , \"Designation\" ,\n",
    "            \"Sub GGGrade\" , \"State\" , \"Account Open\", \"Reason\" , \"Claim Type\"] , axis= 1 , inplace= True)"
   ]
  },
  {
   "cell_type": "code",
   "execution_count": 77,
   "id": "96476e46",
   "metadata": {},
   "outputs": [
    {
     "data": {
      "text/plain": [
       "Asst_Reg                   0\n",
       "GGGrade                    0\n",
       "Experience                 0\n",
       "Validation                 0\n",
       "Yearly Income              0\n",
       "Home Status                0\n",
       "Unpaid 2 years             0\n",
       "Already Defaulted          0\n",
       "Debt to Income             0\n",
       "Lend Amount                0\n",
       "Deprecatory Records        0\n",
       "Interest Charged           0\n",
       "Usage Rate                 0\n",
       "Inquiries                  0\n",
       "Present Balance            0\n",
       "Gross Collection           0\n",
       "File Status                0\n",
       "Total Unpaid CL            0\n",
       "Duration                   0\n",
       "Unpaid Amount              0\n",
       "Due Fee                    0\n",
       "Loan/No Loan           37500\n",
       "dtype: int64"
      ]
     },
     "execution_count": 77,
     "metadata": {},
     "output_type": "execute_result"
    }
   ],
   "source": [
    "combi.isna().sum()"
   ]
  },
  {
   "cell_type": "code",
   "execution_count": 78,
   "id": "afffb965",
   "metadata": {},
   "outputs": [
    {
     "data": {
      "text/plain": [
       "Asst_Reg                 int64\n",
       "GGGrade                 object\n",
       "Experience              object\n",
       "Validation              object\n",
       "Yearly Income          float64\n",
       "Home Status             object\n",
       "Unpaid 2 years          object\n",
       "Already Defaulted        int64\n",
       "Debt to Income         float64\n",
       "Lend Amount            float64\n",
       "Deprecatory Records     object\n",
       "Interest Charged       float64\n",
       "Usage Rate             float64\n",
       "Inquiries                int64\n",
       "Present Balance        float64\n",
       "Gross Collection       float64\n",
       "File Status             object\n",
       "Total Unpaid CL        float64\n",
       "Duration                object\n",
       "Unpaid Amount          float64\n",
       "Due Fee                float64\n",
       "Loan/No Loan           float64\n",
       "dtype: object"
      ]
     },
     "execution_count": 78,
     "metadata": {},
     "output_type": "execute_result"
    }
   ],
   "source": [
    "combi.dtypes"
   ]
  },
  {
   "cell_type": "code",
   "execution_count": 80,
   "id": "9758484e",
   "metadata": {},
   "outputs": [],
   "source": [
    "combi1 = pd.get_dummies(combi , drop_first=True)"
   ]
  },
  {
   "cell_type": "markdown",
   "id": "6675e7f6",
   "metadata": {},
   "source": [
    "### SPLITTING THE DATASETS INTO ORIGINAL SHAPE"
   ]
  },
  {
   "cell_type": "code",
   "execution_count": 81,
   "id": "105f444b",
   "metadata": {},
   "outputs": [
    {
     "data": {
      "text/plain": [
       "((87500, 32), (37500, 31), (87500, 30), (37500, 29))"
      ]
     },
     "execution_count": 81,
     "metadata": {},
     "output_type": "execute_result"
    }
   ],
   "source": [
    "newtrain = combi1.loc[0:train.shape[0]-1] \n",
    "newtest =  combi1.loc[train.shape[0]:, ]    \n",
    "newtest.drop(\"Loan/No Loan\" , axis=1 , inplace=True)\n",
    "newtrain.shape,newtest.shape,train.shape,test.shape"
   ]
  },
  {
   "cell_type": "markdown",
   "id": "d2da84d6",
   "metadata": {},
   "source": [
    "### FINDING THE VIF_Factor"
   ]
  },
  {
   "cell_type": "code",
   "execution_count": 82,
   "id": "0f926215",
   "metadata": {},
   "outputs": [
    {
     "data": {
      "text/html": [
       "<div>\n",
       "<style scoped>\n",
       "    .dataframe tbody tr th:only-of-type {\n",
       "        vertical-align: middle;\n",
       "    }\n",
       "\n",
       "    .dataframe tbody tr th {\n",
       "        vertical-align: top;\n",
       "    }\n",
       "\n",
       "    .dataframe thead th {\n",
       "        text-align: right;\n",
       "    }\n",
       "</style>\n",
       "<table border=\"1\" class=\"dataframe\">\n",
       "  <thead>\n",
       "    <tr style=\"text-align: right;\">\n",
       "      <th></th>\n",
       "      <th>VIF_Factor</th>\n",
       "      <th>Features</th>\n",
       "    </tr>\n",
       "  </thead>\n",
       "  <tbody>\n",
       "    <tr>\n",
       "      <th>0</th>\n",
       "      <td>35.103673</td>\n",
       "      <td>Unpaid 2 years_no risk</td>\n",
       "    </tr>\n",
       "    <tr>\n",
       "      <th>1</th>\n",
       "      <td>12.291482</td>\n",
       "      <td>Interest Charged</td>\n",
       "    </tr>\n",
       "    <tr>\n",
       "      <th>2</th>\n",
       "      <td>9.966250</td>\n",
       "      <td>Usage Rate</td>\n",
       "    </tr>\n",
       "    <tr>\n",
       "      <th>3</th>\n",
       "      <td>9.670632</td>\n",
       "      <td>Unpaid 2 years_Risk</td>\n",
       "    </tr>\n",
       "    <tr>\n",
       "      <th>4</th>\n",
       "      <td>7.419971</td>\n",
       "      <td>Total Unpaid CL</td>\n",
       "    </tr>\n",
       "    <tr>\n",
       "      <th>5</th>\n",
       "      <td>7.011290</td>\n",
       "      <td>Lend Amount</td>\n",
       "    </tr>\n",
       "    <tr>\n",
       "      <th>6</th>\n",
       "      <td>7.006090</td>\n",
       "      <td>Debt to Income</td>\n",
       "    </tr>\n",
       "    <tr>\n",
       "      <th>7</th>\n",
       "      <td>5.830770</td>\n",
       "      <td>Unpaid Amount</td>\n",
       "    </tr>\n",
       "    <tr>\n",
       "      <th>8</th>\n",
       "      <td>5.168760</td>\n",
       "      <td>Asst_Reg</td>\n",
       "    </tr>\n",
       "    <tr>\n",
       "      <th>9</th>\n",
       "      <td>4.503195</td>\n",
       "      <td>Yearly Income</td>\n",
       "    </tr>\n",
       "    <tr>\n",
       "      <th>10</th>\n",
       "      <td>3.568224</td>\n",
       "      <td>Present Balance</td>\n",
       "    </tr>\n",
       "    <tr>\n",
       "      <th>11</th>\n",
       "      <td>3.474007</td>\n",
       "      <td>GGGrade_III</td>\n",
       "    </tr>\n",
       "    <tr>\n",
       "      <th>12</th>\n",
       "      <td>3.043591</td>\n",
       "      <td>GGGrade_II</td>\n",
       "    </tr>\n",
       "    <tr>\n",
       "      <th>13</th>\n",
       "      <td>2.971476</td>\n",
       "      <td>Experience_not much</td>\n",
       "    </tr>\n",
       "    <tr>\n",
       "      <th>14</th>\n",
       "      <td>2.654467</td>\n",
       "      <td>GGGrade_IV</td>\n",
       "    </tr>\n",
       "    <tr>\n",
       "      <th>15</th>\n",
       "      <td>2.571121</td>\n",
       "      <td>Home Status_Rental</td>\n",
       "    </tr>\n",
       "    <tr>\n",
       "      <th>16</th>\n",
       "      <td>2.524361</td>\n",
       "      <td>Validation_Source Verified</td>\n",
       "    </tr>\n",
       "    <tr>\n",
       "      <th>17</th>\n",
       "      <td>2.441410</td>\n",
       "      <td>File Status_whole</td>\n",
       "    </tr>\n",
       "    <tr>\n",
       "      <th>18</th>\n",
       "      <td>2.330246</td>\n",
       "      <td>Validation_Vfied</td>\n",
       "    </tr>\n",
       "    <tr>\n",
       "      <th>19</th>\n",
       "      <td>2.316058</td>\n",
       "      <td>Duration_5 years</td>\n",
       "    </tr>\n",
       "    <tr>\n",
       "      <th>20</th>\n",
       "      <td>2.058411</td>\n",
       "      <td>GGGrade_V</td>\n",
       "    </tr>\n",
       "    <tr>\n",
       "      <th>21</th>\n",
       "      <td>1.692101</td>\n",
       "      <td>Inquiries</td>\n",
       "    </tr>\n",
       "    <tr>\n",
       "      <th>22</th>\n",
       "      <td>1.530224</td>\n",
       "      <td>Loan/No Loan</td>\n",
       "    </tr>\n",
       "    <tr>\n",
       "      <th>23</th>\n",
       "      <td>1.397426</td>\n",
       "      <td>GGGrade_VI</td>\n",
       "    </tr>\n",
       "    <tr>\n",
       "      <th>24</th>\n",
       "      <td>1.266797</td>\n",
       "      <td>Home Status_Owned</td>\n",
       "    </tr>\n",
       "    <tr>\n",
       "      <th>25</th>\n",
       "      <td>1.227839</td>\n",
       "      <td>Deprecatory Records_okayish</td>\n",
       "    </tr>\n",
       "    <tr>\n",
       "      <th>26</th>\n",
       "      <td>1.101279</td>\n",
       "      <td>GGGrade_VII</td>\n",
       "    </tr>\n",
       "    <tr>\n",
       "      <th>27</th>\n",
       "      <td>1.056670</td>\n",
       "      <td>Deprecatory Records_risky</td>\n",
       "    </tr>\n",
       "    <tr>\n",
       "      <th>28</th>\n",
       "      <td>1.048007</td>\n",
       "      <td>Gross Collection</td>\n",
       "    </tr>\n",
       "    <tr>\n",
       "      <th>29</th>\n",
       "      <td>1.026016</td>\n",
       "      <td>Already Defaulted</td>\n",
       "    </tr>\n",
       "    <tr>\n",
       "      <th>30</th>\n",
       "      <td>1.021542</td>\n",
       "      <td>Due Fee</td>\n",
       "    </tr>\n",
       "    <tr>\n",
       "      <th>31</th>\n",
       "      <td>1.000982</td>\n",
       "      <td>Home Status_others</td>\n",
       "    </tr>\n",
       "  </tbody>\n",
       "</table>\n",
       "</div>"
      ],
      "text/plain": [
       "    VIF_Factor                     Features\n",
       "0    35.103673       Unpaid 2 years_no risk\n",
       "1    12.291482             Interest Charged\n",
       "2     9.966250                   Usage Rate\n",
       "3     9.670632          Unpaid 2 years_Risk\n",
       "4     7.419971              Total Unpaid CL\n",
       "5     7.011290                  Lend Amount\n",
       "6     7.006090               Debt to Income\n",
       "7     5.830770                Unpaid Amount\n",
       "8     5.168760                     Asst_Reg\n",
       "9     4.503195                Yearly Income\n",
       "10    3.568224              Present Balance\n",
       "11    3.474007                  GGGrade_III\n",
       "12    3.043591                   GGGrade_II\n",
       "13    2.971476          Experience_not much\n",
       "14    2.654467                   GGGrade_IV\n",
       "15    2.571121           Home Status_Rental\n",
       "16    2.524361   Validation_Source Verified\n",
       "17    2.441410            File Status_whole\n",
       "18    2.330246             Validation_Vfied\n",
       "19    2.316058             Duration_5 years\n",
       "20    2.058411                    GGGrade_V\n",
       "21    1.692101                    Inquiries\n",
       "22    1.530224                 Loan/No Loan\n",
       "23    1.397426                   GGGrade_VI\n",
       "24    1.266797            Home Status_Owned\n",
       "25    1.227839  Deprecatory Records_okayish\n",
       "26    1.101279                  GGGrade_VII\n",
       "27    1.056670    Deprecatory Records_risky\n",
       "28    1.048007             Gross Collection\n",
       "29    1.026016            Already Defaulted\n",
       "30    1.021542                      Due Fee\n",
       "31    1.000982           Home Status_others"
      ]
     },
     "execution_count": 82,
     "metadata": {},
     "output_type": "execute_result"
    }
   ],
   "source": [
    "vif = pd.DataFrame() \n",
    "vif['VIF_Factor'] = [variance_inflation_factor(newtrain.values,i) for i in range(newtrain.shape[1])] \n",
    "vif['Features'] = newtrain.columns \n",
    "vif.sort_values('VIF_Factor', ascending=False).reset_index(drop=True)"
   ]
  },
  {
   "cell_type": "markdown",
   "id": "cfd4351c",
   "metadata": {},
   "source": [
    "### INFERENCES :\n",
    "\n",
    "1. Columns dropped were [\"ID\",\"Postal Code\" , \"Designation\" ,\"Sub GGGrade\" , \"State\" , \"Account Open\", \"Reason\" , \"Claim Type\"]\n",
    "2. Null values were treated and no outlier were treated as the loan amount of that size could be approved.\n",
    "3. The vif score to find if there is multi- colinearity in the data, Which were considerable.\n",
    "4. 31 columns are left with feature engineering and dummy variable creations.\n"
   ]
  },
  {
   "cell_type": "code",
   "execution_count": 83,
   "id": "58bd70be",
   "metadata": {},
   "outputs": [
    {
     "data": {
      "text/html": [
       "<div>\n",
       "<style scoped>\n",
       "    .dataframe tbody tr th:only-of-type {\n",
       "        vertical-align: middle;\n",
       "    }\n",
       "\n",
       "    .dataframe tbody tr th {\n",
       "        vertical-align: top;\n",
       "    }\n",
       "\n",
       "    .dataframe thead th {\n",
       "        text-align: right;\n",
       "    }\n",
       "</style>\n",
       "<table border=\"1\" class=\"dataframe\">\n",
       "  <thead>\n",
       "    <tr style=\"text-align: right;\">\n",
       "      <th></th>\n",
       "      <th>Asst_Reg</th>\n",
       "      <th>Yearly Income</th>\n",
       "      <th>Already Defaulted</th>\n",
       "      <th>Debt to Income</th>\n",
       "      <th>Lend Amount</th>\n",
       "      <th>Interest Charged</th>\n",
       "      <th>Usage Rate</th>\n",
       "      <th>Inquiries</th>\n",
       "      <th>Present Balance</th>\n",
       "      <th>Gross Collection</th>\n",
       "      <th>...</th>\n",
       "      <th>Validation_Vfied</th>\n",
       "      <th>Home Status_Owned</th>\n",
       "      <th>Home Status_Rental</th>\n",
       "      <th>Home Status_others</th>\n",
       "      <th>Unpaid 2 years_Risk</th>\n",
       "      <th>Unpaid 2 years_no risk</th>\n",
       "      <th>Deprecatory Records_okayish</th>\n",
       "      <th>Deprecatory Records_risky</th>\n",
       "      <th>File Status_whole</th>\n",
       "      <th>Duration_5 years</th>\n",
       "    </tr>\n",
       "  </thead>\n",
       "  <tbody>\n",
       "    <tr>\n",
       "      <th>0</th>\n",
       "      <td>421802</td>\n",
       "      <td>633600.0</td>\n",
       "      <td>0</td>\n",
       "      <td>12.5496</td>\n",
       "      <td>42023.25</td>\n",
       "      <td>15.39</td>\n",
       "      <td>88.924</td>\n",
       "      <td>3</td>\n",
       "      <td>607161.90</td>\n",
       "      <td>0.0</td>\n",
       "      <td>...</td>\n",
       "      <td>1</td>\n",
       "      <td>0</td>\n",
       "      <td>0</td>\n",
       "      <td>0</td>\n",
       "      <td>0</td>\n",
       "      <td>1</td>\n",
       "      <td>0</td>\n",
       "      <td>0</td>\n",
       "      <td>0</td>\n",
       "      <td>0</td>\n",
       "    </tr>\n",
       "    <tr>\n",
       "      <th>1</th>\n",
       "      <td>3964312</td>\n",
       "      <td>85483.2</td>\n",
       "      <td>0</td>\n",
       "      <td>9.0048</td>\n",
       "      <td>38133.00</td>\n",
       "      <td>9.94</td>\n",
       "      <td>102.856</td>\n",
       "      <td>0</td>\n",
       "      <td>269234.06</td>\n",
       "      <td>0.0</td>\n",
       "      <td>...</td>\n",
       "      <td>0</td>\n",
       "      <td>0</td>\n",
       "      <td>1</td>\n",
       "      <td>0</td>\n",
       "      <td>0</td>\n",
       "      <td>1</td>\n",
       "      <td>0</td>\n",
       "      <td>0</td>\n",
       "      <td>1</td>\n",
       "      <td>1</td>\n",
       "    </tr>\n",
       "  </tbody>\n",
       "</table>\n",
       "<p>2 rows × 32 columns</p>\n",
       "</div>"
      ],
      "text/plain": [
       "   Asst_Reg  Yearly Income  Already Defaulted  Debt to Income  Lend Amount  \\\n",
       "0    421802       633600.0                  0         12.5496     42023.25   \n",
       "1   3964312        85483.2                  0          9.0048     38133.00   \n",
       "\n",
       "   Interest Charged  Usage Rate  Inquiries  Present Balance  Gross Collection  \\\n",
       "0             15.39      88.924          3        607161.90               0.0   \n",
       "1              9.94     102.856          0        269234.06               0.0   \n",
       "\n",
       "   ...  Validation_Vfied  Home Status_Owned  Home Status_Rental  \\\n",
       "0  ...                 1                  0                   0   \n",
       "1  ...                 0                  0                   1   \n",
       "\n",
       "   Home Status_others  Unpaid 2 years_Risk  Unpaid 2 years_no risk  \\\n",
       "0                   0                    0                       1   \n",
       "1                   0                    0                       1   \n",
       "\n",
       "   Deprecatory Records_okayish  Deprecatory Records_risky  File Status_whole  \\\n",
       "0                            0                          0                  0   \n",
       "1                            0                          0                  1   \n",
       "\n",
       "   Duration_5 years  \n",
       "0                 0  \n",
       "1                 1  \n",
       "\n",
       "[2 rows x 32 columns]"
      ]
     },
     "execution_count": 83,
     "metadata": {},
     "output_type": "execute_result"
    }
   ],
   "source": [
    "newtrain.head(2)"
   ]
  },
  {
   "cell_type": "code",
   "execution_count": 84,
   "id": "5813ab4a",
   "metadata": {},
   "outputs": [],
   "source": [
    "newtrain.drop([\"Unpaid 2 years_Risk\" , \"Unpaid 2 years_no risk\"], axis=1 , inplace=True)"
   ]
  },
  {
   "cell_type": "code",
   "execution_count": 125,
   "id": "889a83ae",
   "metadata": {},
   "outputs": [],
   "source": [
    "x=newtrain.drop(\"Loan/No Loan\" , axis=1)\n",
    "y=newtrain[\"Loan/No Loan\"]"
   ]
  },
  {
   "cell_type": "code",
   "execution_count": 86,
   "id": "82737525",
   "metadata": {},
   "outputs": [],
   "source": [
    "x1=sm.add_constant(x)\n",
    "X_train, X_test, y_train, y_test = train_test_split(x1, y, random_state = 1, test_size = 0.2)"
   ]
  },
  {
   "cell_type": "markdown",
   "id": "0027d9bf",
   "metadata": {},
   "source": [
    "**LOGISTIC REGRESSION**"
   ]
  },
  {
   "cell_type": "code",
   "execution_count": 87,
   "id": "be3e1652",
   "metadata": {},
   "outputs": [
    {
     "name": "stdout",
     "output_type": "stream",
     "text": [
      "Warning: Maximum number of iterations has been exceeded.\n",
      "         Current function value: 0.371097\n",
      "         Iterations: 35\n"
     ]
    },
    {
     "name": "stderr",
     "output_type": "stream",
     "text": [
      "C:\\Users\\yadve\\anaconda3\\lib\\site-packages\\statsmodels\\base\\model.py:566: ConvergenceWarning: Maximum Likelihood optimization failed to converge. Check mle_retvals\n",
      "  warnings.warn(\"Maximum Likelihood optimization failed to \"\n"
     ]
    },
    {
     "name": "stdout",
     "output_type": "stream",
     "text": [
      "                           Logit Regression Results                           \n",
      "==============================================================================\n",
      "Dep. Variable:           Loan/No Loan   No. Observations:                70000\n",
      "Model:                          Logit   Df Residuals:                    69970\n",
      "Method:                           MLE   Df Model:                           29\n",
      "Date:                Wed, 06 Jul 2022   Pseudo R-squ.:                  0.2347\n",
      "Time:                        23:52:17   Log-Likelihood:                -25977.\n",
      "converged:                      False   LL-Null:                       -33944.\n",
      "Covariance Type:            nonrobust   LLR p-value:                     0.000\n",
      "===============================================================================================\n",
      "                                  coef    std err          z      P>|z|      [0.025      0.975]\n",
      "-----------------------------------------------------------------------------------------------\n",
      "const                           0.9389      0.071     13.254      0.000       0.800       1.078\n",
      "Asst_Reg                    -5.923e-07   6.47e-09    -91.529      0.000   -6.05e-07    -5.8e-07\n",
      "Yearly Income                1.246e-07   1.39e-07      0.895      0.371   -1.48e-07    3.97e-07\n",
      "Already Defaulted              -0.3504      0.156     -2.248      0.025      -0.656      -0.045\n",
      "Debt to Income                 -0.0087      0.001     -9.662      0.000      -0.011      -0.007\n",
      "Lend Amount                 -2.762e-06   1.01e-06     -2.744      0.006   -4.74e-06   -7.89e-07\n",
      "Interest Charged                0.0029      0.002      1.302      0.193      -0.001       0.007\n",
      "Usage Rate                     -0.0046      0.000    -13.150      0.000      -0.005      -0.004\n",
      "Inquiries                       0.0499      0.011      4.417      0.000       0.028       0.072\n",
      "Present Balance              4.315e-07   5.88e-08      7.332      0.000    3.16e-07    5.47e-07\n",
      "Gross Collection               -2.2121   2117.317     -0.001      0.999   -4152.077    4147.653\n",
      "Total Unpaid CL              1.992e-07   4.18e-07      0.477      0.633   -6.19e-07    1.02e-06\n",
      "Unpaid Amount               -1.322e-06   6.33e-07     -2.088      0.037   -2.56e-06   -8.09e-08\n",
      "Due Fee                        -0.0330      0.004     -7.782      0.000      -0.041      -0.025\n",
      "GGGrade_II                      0.1771      0.036      4.976      0.000       0.107       0.247\n",
      "GGGrade_III                     0.2451      0.039      6.328      0.000       0.169       0.321\n",
      "GGGrade_IV                      0.3701      0.045      8.300      0.000       0.283       0.458\n",
      "GGGrade_V                       0.4344      0.057      7.676      0.000       0.323       0.545\n",
      "GGGrade_VI                      0.4808      0.083      5.797      0.000       0.318       0.643\n",
      "GGGrade_VII                     0.6993      0.149      4.700      0.000       0.408       0.991\n",
      "Experience_not much             0.0305      0.024      1.291      0.197      -0.016       0.077\n",
      "Validation_Source Verified     -0.1042      0.029     -3.647      0.000      -0.160      -0.048\n",
      "Validation_Vfied               -0.0384      0.030     -1.286      0.198      -0.097       0.020\n",
      "Home Status_Owned              -0.0251      0.041     -0.612      0.541      -0.106       0.055\n",
      "Home Status_Rental             -0.0619      0.028     -2.207      0.027      -0.117      -0.007\n",
      "Home Status_others             15.5082   1140.518      0.014      0.989   -2219.867    2250.883\n",
      "Deprecatory Records_okayish     0.0514      0.034      1.527      0.127      -0.015       0.117\n",
      "Deprecatory Records_risky      -0.1204      0.078     -1.549      0.121      -0.273       0.032\n",
      "File Status_whole              -0.0781      0.023     -3.383      0.001      -0.123      -0.033\n",
      "Duration_5 years               -0.5656      0.032    -17.833      0.000      -0.628      -0.503\n",
      "===============================================================================================\n"
     ]
    }
   ],
   "source": [
    "logreg = sm.Logit(y_train, X_train).fit()\n",
    "\n",
    "print(logreg.summary())"
   ]
  },
  {
   "cell_type": "code",
   "execution_count": 123,
   "id": "1eb9207f",
   "metadata": {},
   "outputs": [
    {
     "data": {
      "text/plain": [
       "Yearly Income                  True\n",
       "Interest Charged               True\n",
       "Gross Collection               True\n",
       "Total Unpaid CL                True\n",
       "Experience_not much            True\n",
       "Validation_Vfied               True\n",
       "Home Status_Owned              True\n",
       "Home Status_others             True\n",
       "Deprecatory Records_okayish    True\n",
       "Deprecatory Records_risky      True\n",
       "dtype: bool"
      ]
     },
     "execution_count": 123,
     "metadata": {},
     "output_type": "execute_result"
    }
   ],
   "source": [
    "a=logreg.pvalues>0.05\n",
    "a[a==True]"
   ]
  },
  {
   "cell_type": "markdown",
   "id": "c27f8bf1",
   "metadata": {},
   "source": [
    "**RANDOM FOREST**"
   ]
  },
  {
   "cell_type": "code",
   "execution_count": 126,
   "id": "b8de5e7f",
   "metadata": {},
   "outputs": [],
   "source": [
    "xtrain, xtest, ytrain, ytest = train_test_split(x, y, random_state = 1, test_size = 0.2)\n",
    "rf= RandomForestClassifier()\n",
    "model = rf.fit(xtrain , ytrain)\n",
    "pred = rf.predict(xtest)\n"
   ]
  },
  {
   "cell_type": "code",
   "execution_count": 90,
   "id": "09b84422",
   "metadata": {},
   "outputs": [
    {
     "name": "stdout",
     "output_type": "stream",
     "text": [
      "              precision    recall  f1-score   support\n",
      "\n",
      "         0.0       0.85      0.97      0.91     14225\n",
      "         1.0       0.68      0.26      0.37      3275\n",
      "\n",
      "    accuracy                           0.84     17500\n",
      "   macro avg       0.76      0.61      0.64     17500\n",
      "weighted avg       0.82      0.84      0.81     17500\n",
      "\n"
     ]
    }
   ],
   "source": [
    "print(classification_report(ytest , pred))"
   ]
  },
  {
   "cell_type": "code",
   "execution_count": 91,
   "id": "6cb67d6c",
   "metadata": {},
   "outputs": [
    {
     "name": "stdout",
     "output_type": "stream",
     "text": [
      "[[13826   399]\n",
      " [ 2436   839]]\n"
     ]
    }
   ],
   "source": [
    "print(confusion_matrix(ytest , pred))"
   ]
  },
  {
   "cell_type": "code",
   "execution_count": 92,
   "id": "8eb988f8",
   "metadata": {},
   "outputs": [
    {
     "data": {
      "text/plain": [
       "0.838"
      ]
     },
     "execution_count": 92,
     "metadata": {},
     "output_type": "execute_result"
    }
   ],
   "source": [
    "accuracy_score(ytest , pred)"
   ]
  },
  {
   "cell_type": "code",
   "execution_count": 127,
   "id": "2250b96d",
   "metadata": {},
   "outputs": [
    {
     "data": {
      "image/png": "[encoded data removed]",
      "text/plain": [
       "<Figure size 432x288 with 1 Axes>"
      ]
     },
     "metadata": {
      "needs_background": "light"
     },
     "output_type": "display_data"
    }
   ],
   "source": [
    "def plot_roc(model):\n",
    "    y_pred_prob = rf.predict_proba(xtest)[:,1]\n",
    "    \n",
    "    # the roc_curve() returns the values for false positive rate, true positive rate and threshold\n",
    "    # pass the actual target values and predicted probabilities to the function\n",
    "    fpr, tpr, thresholds = roc_curve(ytest, y_pred_prob)\n",
    "\n",
    "    # plot the ROC curve\n",
    "    plt.plot(fpr, tpr)\n",
    "\n",
    "    # set limits for x and y axes\n",
    "    plt.xlim([0.0, 1.0])\n",
    "    plt.ylim([0.0, 1.0])\n",
    "\n",
    "    # plot the straight line showing worst prediction for the model\n",
    "    plt.plot([0, 1], [0, 1],'r--')\n",
    "\n",
    "    # add plot and axes labels\n",
    "    # set text size using 'fontsize'\n",
    "    plt.title('ROC curve', fontsize = 15)\n",
    "    plt.xlabel('False positive rate (1-Specificity)', fontsize = 15)\n",
    "    plt.ylabel('True positive rate (Sensitivity)', fontsize = 15)\n",
    "\n",
    "    # add the AUC score to the plot\n",
    "    # 'x' and 'y' gives position of the text\n",
    "    # 's' is the text \n",
    "    # use round() to round-off the AUC score upto 4 digits\n",
    "    plt.text(x = 0.82, y = 0.3, s = ('AUC Score:',round(roc_auc_score(y_test, y_pred_prob),4)))\n",
    "\n",
    "    # plot the grid\n",
    "    plt.grid(True)\n",
    "    \n",
    "plot_roc(rf)    "
   ]
  },
  {
   "cell_type": "markdown",
   "id": "75acda86",
   "metadata": {},
   "source": [
    "1. **These variable had P_value > 0.05 rendering them statistically insignificant**\n",
    "\n",
    "2. **[\"Yearly Income\",\"Already Defaulted\",\"Interest Charged\",\"Gross Collection\",\"Total Unpaid CL\",\n",
    "            \"Experience_not much\",\"Validation_Vfied\",\"Home Status_Owned\",\"Home Status_others\",\n",
    "            \"Deprecatory Records_okayish\",\"Deprecatory Records_risky\"]**"
   ]
  },
  {
   "cell_type": "code",
   "execution_count": 129,
   "id": "88d1ee45",
   "metadata": {},
   "outputs": [],
   "source": [
    "combi2=newtrain.drop([\"Yearly Income\",\"Already Defaulted\",\"Interest Charged\",\"Gross Collection\",\"Total Unpaid CL\",\n",
    "            \"Experience_not much\",\"Validation_Vfied\",\"Home Status_Owned\",\"Home Status_others\",\n",
    "            \"Deprecatory Records_okayish\",\"Deprecatory Records_risky\"], axis=1)"
   ]
  },
  {
   "cell_type": "code",
   "execution_count": 130,
   "id": "d206233e",
   "metadata": {},
   "outputs": [],
   "source": [
    "a=combi2.drop(\"Loan/No Loan\" , axis=1)\n",
    "b=newtrain[\"Loan/No Loan\"]\n",
    "\n",
    "\n"
   ]
  },
  {
   "cell_type": "markdown",
   "id": "062b66ed",
   "metadata": {},
   "source": [
    "**RANDOM FOREST**"
   ]
  },
  {
   "cell_type": "code",
   "execution_count": 131,
   "id": "41060e72",
   "metadata": {},
   "outputs": [],
   "source": [
    "xtrain, xtest, ytrain, ytest = train_test_split(a, b, random_state = 1, test_size = 0.2)\n",
    "rf2= RandomForestClassifier()\n",
    "model = rf2.fit(xtrain , ytrain)\n",
    "pred = rf2.predict(xtest)"
   ]
  },
  {
   "cell_type": "code",
   "execution_count": 132,
   "id": "bc870439",
   "metadata": {},
   "outputs": [],
   "source": [
    "pred2= rf2.predict(xtrain)"
   ]
  },
  {
   "cell_type": "code",
   "execution_count": 97,
   "id": "92b021e3",
   "metadata": {},
   "outputs": [
    {
     "name": "stdout",
     "output_type": "stream",
     "text": [
      "              precision    recall  f1-score   support\n",
      "\n",
      "         0.0       0.85      0.97      0.90     14225\n",
      "         1.0       0.64      0.25      0.36      3275\n",
      "\n",
      "    accuracy                           0.83     17500\n",
      "   macro avg       0.74      0.61      0.63     17500\n",
      "weighted avg       0.81      0.83      0.80     17500\n",
      "\n"
     ]
    }
   ],
   "source": [
    "print(classification_report(ytest , pred))"
   ]
  },
  {
   "cell_type": "code",
   "execution_count": 98,
   "id": "e926e88a",
   "metadata": {},
   "outputs": [
    {
     "name": "stdout",
     "output_type": "stream",
     "text": [
      "[[13760   465]\n",
      " [ 2466   809]]\n"
     ]
    }
   ],
   "source": [
    "print(confusion_matrix(ytest , pred))"
   ]
  },
  {
   "cell_type": "code",
   "execution_count": 99,
   "id": "7918703d",
   "metadata": {},
   "outputs": [
    {
     "data": {
      "text/plain": [
       "0.8325142857142858"
      ]
     },
     "execution_count": 99,
     "metadata": {},
     "output_type": "execute_result"
    }
   ],
   "source": [
    "accuracy_score(ytest , pred)"
   ]
  },
  {
   "cell_type": "code",
   "execution_count": 100,
   "id": "3b40dc53",
   "metadata": {},
   "outputs": [
    {
     "data": {
      "text/plain": [
       "0.9999428571428571"
      ]
     },
     "execution_count": 100,
     "metadata": {},
     "output_type": "execute_result"
    }
   ],
   "source": [
    "accuracy_score(ytrain , pred2)"
   ]
  },
  {
   "cell_type": "code",
   "execution_count": 133,
   "id": "321edfaf",
   "metadata": {},
   "outputs": [
    {
     "data": {
      "image/png": "[encoded data removed]",
      "text/plain": [
       "<Figure size 432x288 with 1 Axes>"
      ]
     },
     "metadata": {
      "needs_background": "light"
     },
     "output_type": "display_data"
    }
   ],
   "source": [
    "def plot_roc(model):\n",
    "    y_pred_prob = rf2.predict_proba(xtest)[:,1]\n",
    "    \n",
    "    # the roc_curve() returns the values for false positive rate, true positive rate and threshold\n",
    "    # pass the actual target values and predicted probabilities to the function\n",
    "    fpr, tpr, thresholds = roc_curve(ytest, y_pred_prob)\n",
    "\n",
    "    # plot the ROC curve\n",
    "    plt.plot(fpr, tpr)\n",
    "\n",
    "    # set limits for x and y axes\n",
    "    plt.xlim([0.0, 1.0])\n",
    "    plt.ylim([0.0, 1.0])\n",
    "\n",
    "    # plot the straight line showing worst prediction for the model\n",
    "    plt.plot([0, 1], [0, 1],'r--')\n",
    "\n",
    "    # add plot and axes labels\n",
    "    # set text size using 'fontsize'\n",
    "    plt.title('ROC curve', fontsize = 15)\n",
    "    plt.xlabel('False positive rate (1-Specificity)', fontsize = 15)\n",
    "    plt.ylabel('True positive rate (Sensitivity)', fontsize = 15)\n",
    "\n",
    "    # add the AUC score to the plot\n",
    "    # 'x' and 'y' gives position of the text\n",
    "    # 's' is the text \n",
    "    # use round() to round-off the AUC score upto 4 digits\n",
    "    plt.text(x = 0.82, y = 0.3, s = ('AUC Score:',round(roc_auc_score(ytest, y_pred_prob),4)))\n",
    "\n",
    "    # plot the grid\n",
    "    plt.grid(True)\n",
    "    \n",
    "plot_roc(rf2)    "
   ]
  },
  {
   "cell_type": "markdown",
   "id": "1624f06a",
   "metadata": {},
   "source": [
    "**GRADIENT BOOSTING ALGORITHM**"
   ]
  },
  {
   "cell_type": "code",
   "execution_count": 134,
   "id": "5b229804",
   "metadata": {},
   "outputs": [],
   "source": [
    "gbm = GradientBoostingClassifier()\n",
    "model = gbm.fit(xtrain , ytrain)\n",
    "pred1 = gbm.predict(xtest)"
   ]
  },
  {
   "cell_type": "code",
   "execution_count": 102,
   "id": "9d3f02e3",
   "metadata": {},
   "outputs": [
    {
     "name": "stdout",
     "output_type": "stream",
     "text": [
      "              precision    recall  f1-score   support\n",
      "\n",
      "         0.0       0.85      0.97      0.91     14225\n",
      "         1.0       0.67      0.23      0.34      3275\n",
      "\n",
      "    accuracy                           0.83     17500\n",
      "   macro avg       0.76      0.60      0.62     17500\n",
      "weighted avg       0.81      0.83      0.80     17500\n",
      "\n"
     ]
    }
   ],
   "source": [
    "print(classification_report(ytest , pred1))"
   ]
  },
  {
   "cell_type": "code",
   "execution_count": 103,
   "id": "f3cca3f2",
   "metadata": {},
   "outputs": [
    {
     "name": "stdout",
     "output_type": "stream",
     "text": [
      "[[13862   363]\n",
      " [ 2532   743]]\n"
     ]
    }
   ],
   "source": [
    "print(confusion_matrix(ytest , pred1))"
   ]
  },
  {
   "cell_type": "code",
   "execution_count": 104,
   "id": "e6b0b875",
   "metadata": {},
   "outputs": [
    {
     "data": {
      "text/plain": [
       "0.8345714285714285"
      ]
     },
     "execution_count": 104,
     "metadata": {},
     "output_type": "execute_result"
    }
   ],
   "source": [
    "accuracy_score(ytest , pred1)"
   ]
  },
  {
   "cell_type": "code",
   "execution_count": 105,
   "id": "4bf702fb",
   "metadata": {},
   "outputs": [],
   "source": [
    "pred3= gbm.predict(xtrain)"
   ]
  },
  {
   "cell_type": "code",
   "execution_count": 106,
   "id": "e8c8e369",
   "metadata": {},
   "outputs": [
    {
     "data": {
      "text/plain": [
       "0.8371285714285714"
      ]
     },
     "execution_count": 106,
     "metadata": {},
     "output_type": "execute_result"
    }
   ],
   "source": [
    "accuracy_score(ytrain , pred3)"
   ]
  },
  {
   "cell_type": "code",
   "execution_count": 135,
   "id": "84510492",
   "metadata": {},
   "outputs": [
    {
     "data": {
      "image/png": "[encoded data removed]",
      "text/plain": [
       "<Figure size 432x288 with 1 Axes>"
      ]
     },
     "metadata": {
      "needs_background": "light"
     },
     "output_type": "display_data"
    }
   ],
   "source": [
    "def plot_roc(model):\n",
    "    y_pred_prob = gbm.predict_proba(xtest)[:,1]\n",
    "    \n",
    "    # the roc_curve() returns the values for false positive rate, true positive rate and threshold\n",
    "    # pass the actual target values and predicted probabilities to the function\n",
    "    fpr, tpr, thresholds = roc_curve(ytest, y_pred_prob)\n",
    "\n",
    "    # plot the ROC curve\n",
    "    plt.plot(fpr, tpr)\n",
    "\n",
    "    # set limits for x and y axes\n",
    "    plt.xlim([0.0, 1.0])\n",
    "    plt.ylim([0.0, 1.0])\n",
    "\n",
    "    # plot the straight line showing worst prediction for the model\n",
    "    plt.plot([0, 1], [0, 1],'r--')\n",
    "\n",
    "    # add plot and axes labels\n",
    "    # set text size using 'fontsize'\n",
    "    plt.title('ROC curve', fontsize = 15)\n",
    "    plt.xlabel('False positive rate (1-Specificity)', fontsize = 15)\n",
    "    plt.ylabel('True positive rate (Sensitivity)', fontsize = 15)\n",
    "\n",
    "    # add the AUC score to the plot\n",
    "    # 'x' and 'y' gives position of the text\n",
    "    # 's' is the text \n",
    "    # use round() to round-off the AUC score upto 4 digits\n",
    "    plt.text(x = 0.82, y = 0.3, s = ('AUC Score:',round(roc_auc_score(y_test, y_pred_prob),4)))\n",
    "\n",
    "    # plot the grid\n",
    "    plt.grid(True)\n",
    "    \n",
    "plot_roc(gbm)    "
   ]
  },
  {
   "cell_type": "markdown",
   "id": "cb1b42cc",
   "metadata": {},
   "source": [
    "**POWER TRANSFORMER WITH RANDOM FOREST**"
   ]
  },
  {
   "cell_type": "code",
   "execution_count": 136,
   "id": "646966e9",
   "metadata": {},
   "outputs": [],
   "source": [
    "power = PowerTransformer()\n",
    "combi3 = power.fit_transform(combi2)"
   ]
  },
  {
   "cell_type": "code",
   "execution_count": 137,
   "id": "51ffd3fc",
   "metadata": {},
   "outputs": [],
   "source": [
    "t=combi2.drop(\"Loan/No Loan\" , axis=1)\n",
    "y=newtrain[\"Loan/No Loan\"]\n"
   ]
  },
  {
   "cell_type": "code",
   "execution_count": 138,
   "id": "eb429d53",
   "metadata": {},
   "outputs": [],
   "source": [
    "xtrain, xtest, ytrain, ytest = train_test_split(t, y, random_state = 1, test_size = 0.2)\n",
    "rf1= RandomForestClassifier()\n",
    "model = rf1.fit(xtrain , ytrain)\n",
    "preds = rf1.predict(xtest)"
   ]
  },
  {
   "cell_type": "code",
   "execution_count": 110,
   "id": "e6328aa5",
   "metadata": {},
   "outputs": [
    {
     "name": "stdout",
     "output_type": "stream",
     "text": [
      "[[13773   452]\n",
      " [ 2457   818]]\n"
     ]
    }
   ],
   "source": [
    "print(confusion_matrix(ytest , preds))"
   ]
  },
  {
   "cell_type": "code",
   "execution_count": 111,
   "id": "e674f7ce",
   "metadata": {},
   "outputs": [
    {
     "name": "stdout",
     "output_type": "stream",
     "text": [
      "              precision    recall  f1-score   support\n",
      "\n",
      "         0.0       0.85      0.97      0.90     14225\n",
      "         1.0       0.64      0.25      0.36      3275\n",
      "\n",
      "    accuracy                           0.83     17500\n",
      "   macro avg       0.75      0.61      0.63     17500\n",
      "weighted avg       0.81      0.83      0.80     17500\n",
      "\n"
     ]
    }
   ],
   "source": [
    "print(classification_report(ytest , preds))"
   ]
  },
  {
   "cell_type": "code",
   "execution_count": 112,
   "id": "c0bd33ac",
   "metadata": {},
   "outputs": [
    {
     "data": {
      "text/plain": [
       "0.8337714285714286"
      ]
     },
     "execution_count": 112,
     "metadata": {},
     "output_type": "execute_result"
    }
   ],
   "source": [
    "accuracy_score(ytest , preds)"
   ]
  },
  {
   "cell_type": "code",
   "execution_count": 140,
   "id": "4d1b096f",
   "metadata": {},
   "outputs": [
    {
     "data": {
      "image/png": "[encoded data removed]",
      "text/plain": [
       "<Figure size 432x288 with 1 Axes>"
      ]
     },
     "metadata": {
      "needs_background": "light"
     },
     "output_type": "display_data"
    }
   ],
   "source": [
    "def plot_roc(model):\n",
    "    y_pred_prob = rf1.predict_proba(xtest)[:,1]\n",
    "    \n",
    "    # the roc_curve() returns the values for false positive rate, true positive rate and threshold\n",
    "    # pass the actual target values and predicted probabilities to the function\n",
    "    fpr, tpr, thresholds = roc_curve(ytest, y_pred_prob)\n",
    "\n",
    "    # plot the ROC curve\n",
    "    plt.plot(fpr, tpr)\n",
    "\n",
    "    # set limits for x and y axes\n",
    "    plt.xlim([0.0, 1.0])\n",
    "    plt.ylim([0.0, 1.0])\n",
    "\n",
    "    # plot the straight line showing worst prediction for the model\n",
    "    plt.plot([0, 1], [0, 1],'r--')\n",
    "\n",
    "    # add plot and axes labels\n",
    "    # set text size using 'fontsize'\n",
    "    plt.title('ROC curve', fontsize = 15)\n",
    "    plt.xlabel('False positive rate (1-Specificity)', fontsize = 15)\n",
    "    plt.ylabel('True positive rate (Sensitivity)', fontsize = 15)\n",
    "\n",
    "    # add the AUC score to the plot\n",
    "    # 'x' and 'y' gives position of the text\n",
    "    # 's' is the text \n",
    "    # use round() to round-off the AUC score upto 4 digits\n",
    "    plt.text(x = 0.82, y = 0.3, s = ('AUC Score:',round(roc_auc_score(ytest, y_pred_prob),4)))\n",
    "\n",
    "    # plot the grid\n",
    "    plt.grid(True)\n",
    "    \n",
    "plot_roc(rf1)    "
   ]
  },
  {
   "cell_type": "markdown",
   "id": "31ca29c9",
   "metadata": {},
   "source": [
    "### INFERENCES :\n",
    "\n",
    "1. The logistic regression is used as a base model for to check p_values and relations b/w variables and target.\n",
    "2. Decision tree and random forest were used as models to verify and check class distribution of test data.\n",
    "3. gradient boosting algorithm was final model used, \n",
    "4. In all the algorithms the accuracy score increased but the mis-classification was very high.\n",
    "5. The precision and recall had too much fifference to consider, rendering the whole model very poor.\n",
    "6. These statements are also backed by the Roc curve of the models as it is purely based on tpr, fpr."
   ]
  },
  {
   "cell_type": "code",
   "execution_count": null,
   "id": "508ae747",
   "metadata": {},
   "outputs": [],
   "source": []
  }
 ],
 "metadata": {
  "kernelspec": {
   "display_name": "Python 3 (ipykernel)",
   "language": "python",
   "name": "python3"
  },
  "language_info": {
   "codemirror_mode": {
    "name": "ipython",
    "version": 3
   },
   "file_extension": ".py",
   "mimetype": "text/x-python",
   "name": "python",
   "nbconvert_exporter": "python",
   "pygments_lexer": "ipython3",
   "version": "3.9.7"
  }
 },
 "nbformat": 4,
 "nbformat_minor": 5
}
