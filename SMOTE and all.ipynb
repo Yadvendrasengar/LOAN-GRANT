{
 "cells": [
  {
   "cell_type": "markdown",
   "id": "a8a951cc",
   "metadata": {},
   "source": [
    "# USING SMOTE AND TRANSFORMATION TECHNIQUES ON THE LOAN DATA."
   ]
  },
  {
   "cell_type": "code",
   "execution_count": 1,
   "id": "ef668149",
   "metadata": {},
   "outputs": [],
   "source": [
    "import numpy as np\n",
    "import pandas as pd\n",
    "from pandas import Series as ser\n",
    "from pandas import DataFrame as df\n",
    "import seaborn as sns\n",
    "import scipy\n",
    "from scipy import stats\n",
    "import matplotlib.pyplot as plt \n",
    "import warnings\n",
    "warnings.filterwarnings(\"ignore\")\n",
    "from sklearn.preprocessing import PowerTransformer , StandardScaler , LabelEncoder\n",
    "from sklearn import model_selection\n",
    "from sklearn.linear_model import LogisticRegression\n",
    "from statsmodels.stats.outliers_influence import variance_inflation_factor\n",
    "from sklearn.model_selection import train_test_split\n",
    "from sklearn.model_selection import KFold\n",
    "import statsmodels.api as sm \n",
    "from sklearn.ensemble import RandomForestClassifier\n",
    "from sklearn.tree import DecisionTreeClassifier\n",
    "from sklearn.ensemble import GradientBoostingClassifier\n",
    "from sklearn.metrics import  classification_report , confusion_matrix , roc_auc_score, roc_curve, accuracy_score\n",
    "from sklearn.model_selection import GridSearchCV"
   ]
  },
  {
   "cell_type": "markdown",
   "id": "f5797ea4",
   "metadata": {},
   "source": [
    "### IMPORTING DATA AFTER DATA CLEANING AND WRANGLING IN SCRIPT BEFORE."
   ]
  },
  {
   "cell_type": "code",
   "execution_count": 2,
   "id": "763cf60a",
   "metadata": {},
   "outputs": [
    {
     "data": {
      "text/html": [
       "<div>\n",
       "<style scoped>\n",
       "    .dataframe tbody tr th:only-of-type {\n",
       "        vertical-align: middle;\n",
       "    }\n",
       "\n",
       "    .dataframe tbody tr th {\n",
       "        vertical-align: top;\n",
       "    }\n",
       "\n",
       "    .dataframe thead th {\n",
       "        text-align: right;\n",
       "    }\n",
       "</style>\n",
       "<table border=\"1\" class=\"dataframe\">\n",
       "  <thead>\n",
       "    <tr style=\"text-align: right;\">\n",
       "      <th></th>\n",
       "      <th>Unnamed: 0</th>\n",
       "      <th>Asst_Reg</th>\n",
       "      <th>GGGrade</th>\n",
       "      <th>Experience</th>\n",
       "      <th>Validation</th>\n",
       "      <th>Yearly Income</th>\n",
       "      <th>Home Status</th>\n",
       "      <th>Unpaid 2 years</th>\n",
       "      <th>Already Defaulted</th>\n",
       "      <th>Debt to Income</th>\n",
       "      <th>...</th>\n",
       "      <th>Usage Rate</th>\n",
       "      <th>Inquiries</th>\n",
       "      <th>Present Balance</th>\n",
       "      <th>Gross Collection</th>\n",
       "      <th>File Status</th>\n",
       "      <th>Total Unpaid CL</th>\n",
       "      <th>Duration</th>\n",
       "      <th>Unpaid Amount</th>\n",
       "      <th>Due Fee</th>\n",
       "      <th>Loan/No Loan</th>\n",
       "    </tr>\n",
       "  </thead>\n",
       "  <tbody>\n",
       "    <tr>\n",
       "      <th>0</th>\n",
       "      <td>0</td>\n",
       "      <td>421802</td>\n",
       "      <td>II</td>\n",
       "      <td>experienced</td>\n",
       "      <td>Vfied</td>\n",
       "      <td>633600.0</td>\n",
       "      <td>Mortgage</td>\n",
       "      <td>no risk</td>\n",
       "      <td>0</td>\n",
       "      <td>12.5496</td>\n",
       "      <td>...</td>\n",
       "      <td>88.924</td>\n",
       "      <td>3</td>\n",
       "      <td>607161.90</td>\n",
       "      <td>0.0</td>\n",
       "      <td>fully paid</td>\n",
       "      <td>58598.0</td>\n",
       "      <td>3 years</td>\n",
       "      <td>31216.05</td>\n",
       "      <td>0.0</td>\n",
       "      <td>0.0</td>\n",
       "    </tr>\n",
       "    <tr>\n",
       "      <th>1</th>\n",
       "      <td>1</td>\n",
       "      <td>3964312</td>\n",
       "      <td>IV</td>\n",
       "      <td>not much</td>\n",
       "      <td>Source Verified</td>\n",
       "      <td>85483.2</td>\n",
       "      <td>Rental</td>\n",
       "      <td>no risk</td>\n",
       "      <td>0</td>\n",
       "      <td>9.0048</td>\n",
       "      <td>...</td>\n",
       "      <td>102.856</td>\n",
       "      <td>0</td>\n",
       "      <td>269234.06</td>\n",
       "      <td>0.0</td>\n",
       "      <td>whole</td>\n",
       "      <td>18924.0</td>\n",
       "      <td>5 years</td>\n",
       "      <td>11660.49</td>\n",
       "      <td>0.0</td>\n",
       "      <td>0.0</td>\n",
       "    </tr>\n",
       "  </tbody>\n",
       "</table>\n",
       "<p>2 rows × 23 columns</p>\n",
       "</div>"
      ],
      "text/plain": [
       "   Unnamed: 0  Asst_Reg GGGrade   Experience       Validation  Yearly Income  \\\n",
       "0           0    421802      II  experienced            Vfied       633600.0   \n",
       "1           1   3964312      IV     not much  Source Verified        85483.2   \n",
       "\n",
       "  Home Status Unpaid 2 years  Already Defaulted  Debt to Income  ...  \\\n",
       "0    Mortgage        no risk                  0         12.5496  ...   \n",
       "1      Rental        no risk                  0          9.0048  ...   \n",
       "\n",
       "   Usage Rate Inquiries  Present Balance  Gross Collection  File Status  \\\n",
       "0      88.924         3        607161.90               0.0   fully paid   \n",
       "1     102.856         0        269234.06               0.0        whole   \n",
       "\n",
       "   Total Unpaid CL  Duration Unpaid Amount  Due Fee Loan/No Loan  \n",
       "0          58598.0   3 years      31216.05      0.0          0.0  \n",
       "1          18924.0   5 years      11660.49      0.0          0.0  \n",
       "\n",
       "[2 rows x 23 columns]"
      ]
     },
     "execution_count": 2,
     "metadata": {},
     "output_type": "execute_result"
    }
   ],
   "source": [
    "data = pd.read_csv(\"Cleaned_Data.csv\")\n",
    "data.head(2)"
   ]
  },
  {
   "cell_type": "code",
   "execution_count": 3,
   "id": "1f8c2110",
   "metadata": {},
   "outputs": [],
   "source": [
    "data.drop(\"Unnamed: 0\" , axis=1 , inplace= True)"
   ]
  },
  {
   "cell_type": "code",
   "execution_count": 4,
   "id": "e4e7331b",
   "metadata": {},
   "outputs": [
    {
     "data": {
      "text/plain": [
       "(125000, 22)"
      ]
     },
     "execution_count": 4,
     "metadata": {},
     "output_type": "execute_result"
    }
   ],
   "source": [
    "data.shape"
   ]
  },
  {
   "cell_type": "code",
   "execution_count": 5,
   "id": "7cb0ea96",
   "metadata": {},
   "outputs": [],
   "source": [
    "newtrain = data.loc[0:87499] \n"
   ]
  },
  {
   "cell_type": "code",
   "execution_count": 6,
   "id": "c549cbc8",
   "metadata": {},
   "outputs": [
    {
     "data": {
      "text/plain": [
       "0.0    70988\n",
       "1.0    16512\n",
       "Name: Loan/No Loan, dtype: int64"
      ]
     },
     "execution_count": 6,
     "metadata": {},
     "output_type": "execute_result"
    }
   ],
   "source": [
    "newtrain[\"Loan/No Loan\"].value_counts()"
   ]
  },
  {
   "cell_type": "code",
   "execution_count": 7,
   "id": "b072d496",
   "metadata": {},
   "outputs": [
    {
     "data": {
      "text/plain": [
       "Asst_Reg               False\n",
       "GGGrade                False\n",
       "Experience             False\n",
       "Validation             False\n",
       "Yearly Income          False\n",
       "Home Status            False\n",
       "Unpaid 2 years         False\n",
       "Already Defaulted      False\n",
       "Debt to Income         False\n",
       "Lend Amount            False\n",
       "Deprecatory Records    False\n",
       "Interest Charged       False\n",
       "Usage Rate             False\n",
       "Inquiries              False\n",
       "Present Balance        False\n",
       "Gross Collection       False\n",
       "File Status            False\n",
       "Total Unpaid CL        False\n",
       "Duration               False\n",
       "Unpaid Amount          False\n",
       "Due Fee                False\n",
       "Loan/No Loan           False\n",
       "dtype: bool"
      ]
     },
     "execution_count": 7,
     "metadata": {},
     "output_type": "execute_result"
    }
   ],
   "source": [
    "newtrain.isna().any()"
   ]
  },
  {
   "cell_type": "code",
   "execution_count": 8,
   "id": "d6caf568",
   "metadata": {},
   "outputs": [],
   "source": [
    "newtrain= pd.get_dummies(newtrain , drop_first=True)"
   ]
  },
  {
   "cell_type": "code",
   "execution_count": 9,
   "id": "c51ce188",
   "metadata": {},
   "outputs": [
    {
     "data": {
      "text/html": [
       "<div>\n",
       "<style scoped>\n",
       "    .dataframe tbody tr th:only-of-type {\n",
       "        vertical-align: middle;\n",
       "    }\n",
       "\n",
       "    .dataframe tbody tr th {\n",
       "        vertical-align: top;\n",
       "    }\n",
       "\n",
       "    .dataframe thead th {\n",
       "        text-align: right;\n",
       "    }\n",
       "</style>\n",
       "<table border=\"1\" class=\"dataframe\">\n",
       "  <thead>\n",
       "    <tr style=\"text-align: right;\">\n",
       "      <th></th>\n",
       "      <th>Asst_Reg</th>\n",
       "      <th>Yearly Income</th>\n",
       "      <th>Already Defaulted</th>\n",
       "      <th>Debt to Income</th>\n",
       "      <th>Lend Amount</th>\n",
       "      <th>Interest Charged</th>\n",
       "      <th>Usage Rate</th>\n",
       "      <th>Inquiries</th>\n",
       "      <th>Present Balance</th>\n",
       "      <th>Gross Collection</th>\n",
       "      <th>...</th>\n",
       "      <th>Validation_Vfied</th>\n",
       "      <th>Home Status_Owned</th>\n",
       "      <th>Home Status_Rental</th>\n",
       "      <th>Home Status_others</th>\n",
       "      <th>Unpaid 2 years_Risk</th>\n",
       "      <th>Unpaid 2 years_no risk</th>\n",
       "      <th>Deprecatory Records_okayish</th>\n",
       "      <th>Deprecatory Records_risky</th>\n",
       "      <th>File Status_whole</th>\n",
       "      <th>Duration_5 years</th>\n",
       "    </tr>\n",
       "  </thead>\n",
       "  <tbody>\n",
       "    <tr>\n",
       "      <th>0</th>\n",
       "      <td>421802</td>\n",
       "      <td>633600.0</td>\n",
       "      <td>0</td>\n",
       "      <td>12.5496</td>\n",
       "      <td>42023.25</td>\n",
       "      <td>15.39</td>\n",
       "      <td>88.924</td>\n",
       "      <td>3</td>\n",
       "      <td>607161.90</td>\n",
       "      <td>0.0</td>\n",
       "      <td>...</td>\n",
       "      <td>1</td>\n",
       "      <td>0</td>\n",
       "      <td>0</td>\n",
       "      <td>0</td>\n",
       "      <td>0</td>\n",
       "      <td>1</td>\n",
       "      <td>0</td>\n",
       "      <td>0</td>\n",
       "      <td>0</td>\n",
       "      <td>0</td>\n",
       "    </tr>\n",
       "    <tr>\n",
       "      <th>1</th>\n",
       "      <td>3964312</td>\n",
       "      <td>85483.2</td>\n",
       "      <td>0</td>\n",
       "      <td>9.0048</td>\n",
       "      <td>38133.00</td>\n",
       "      <td>9.94</td>\n",
       "      <td>102.856</td>\n",
       "      <td>0</td>\n",
       "      <td>269234.06</td>\n",
       "      <td>0.0</td>\n",
       "      <td>...</td>\n",
       "      <td>0</td>\n",
       "      <td>0</td>\n",
       "      <td>1</td>\n",
       "      <td>0</td>\n",
       "      <td>0</td>\n",
       "      <td>1</td>\n",
       "      <td>0</td>\n",
       "      <td>0</td>\n",
       "      <td>1</td>\n",
       "      <td>1</td>\n",
       "    </tr>\n",
       "  </tbody>\n",
       "</table>\n",
       "<p>2 rows × 32 columns</p>\n",
       "</div>"
      ],
      "text/plain": [
       "   Asst_Reg  Yearly Income  Already Defaulted  Debt to Income  Lend Amount  \\\n",
       "0    421802       633600.0                  0         12.5496     42023.25   \n",
       "1   3964312        85483.2                  0          9.0048     38133.00   \n",
       "\n",
       "   Interest Charged  Usage Rate  Inquiries  Present Balance  Gross Collection  \\\n",
       "0             15.39      88.924          3        607161.90               0.0   \n",
       "1              9.94     102.856          0        269234.06               0.0   \n",
       "\n",
       "   ...  Validation_Vfied  Home Status_Owned  Home Status_Rental  \\\n",
       "0  ...                 1                  0                   0   \n",
       "1  ...                 0                  0                   1   \n",
       "\n",
       "   Home Status_others  Unpaid 2 years_Risk  Unpaid 2 years_no risk  \\\n",
       "0                   0                    0                       1   \n",
       "1                   0                    0                       1   \n",
       "\n",
       "   Deprecatory Records_okayish  Deprecatory Records_risky  File Status_whole  \\\n",
       "0                            0                          0                  0   \n",
       "1                            0                          0                  1   \n",
       "\n",
       "   Duration_5 years  \n",
       "0                 0  \n",
       "1                 1  \n",
       "\n",
       "[2 rows x 32 columns]"
      ]
     },
     "execution_count": 9,
     "metadata": {},
     "output_type": "execute_result"
    }
   ],
   "source": [
    "newtrain.head(2)"
   ]
  },
  {
   "cell_type": "code",
   "execution_count": 10,
   "id": "9ecfbf74",
   "metadata": {},
   "outputs": [],
   "source": [
    "from imblearn.over_sampling import SMOTE"
   ]
  },
  {
   "cell_type": "code",
   "execution_count": 11,
   "id": "ddccf3f1",
   "metadata": {},
   "outputs": [],
   "source": [
    "X = newtrain.drop('Loan/No Loan', axis=1)  \n",
    "y = newtrain['Loan/No Loan']\n",
    "\n",
    "X_train, X_test, y_train, y_test = train_test_split(X,y, test_size=0.33, stratify=y, random_state=2)"
   ]
  },
  {
   "cell_type": "code",
   "execution_count": 12,
   "id": "51477737",
   "metadata": {},
   "outputs": [
    {
     "name": "stdout",
     "output_type": "stream",
     "text": [
      "95124\n",
      "47562.0\n"
     ]
    }
   ],
   "source": [
    "sm = SMOTE(random_state=1)\n",
    "X_SMOTE, y_SMOTE = sm.fit_resample(X_train, y_train)\n",
    "print(len(y_SMOTE))\n",
    "print(y_SMOTE.sum())"
   ]
  },
  {
   "cell_type": "code",
   "execution_count": 13,
   "id": "48126670",
   "metadata": {},
   "outputs": [
    {
     "data": {
      "text/plain": [
       "0.0    47562\n",
       "1.0    47562\n",
       "Name: Loan/No Loan, dtype: int64"
      ]
     },
     "execution_count": 13,
     "metadata": {},
     "output_type": "execute_result"
    }
   ],
   "source": [
    "y_SMOTE.value_counts()"
   ]
  },
  {
   "cell_type": "code",
   "execution_count": 14,
   "id": "5cb0b4c8",
   "metadata": {},
   "outputs": [],
   "source": [
    "rf= RandomForestClassifier()\n",
    "model = rf.fit(X_SMOTE, y_SMOTE)\n",
    "pred = rf.predict(X_test)\n"
   ]
  },
  {
   "cell_type": "code",
   "execution_count": 15,
   "id": "49881f13",
   "metadata": {},
   "outputs": [
    {
     "name": "stdout",
     "output_type": "stream",
     "text": [
      "              precision    recall  f1-score   support\n",
      "\n",
      "         0.0       0.87      0.91      0.89     23426\n",
      "         1.0       0.50      0.41      0.45      5449\n",
      "\n",
      "    accuracy                           0.81     28875\n",
      "   macro avg       0.69      0.66      0.67     28875\n",
      "weighted avg       0.80      0.81      0.80     28875\n",
      "\n"
     ]
    }
   ],
   "source": [
    "print(classification_report(y_test , pred))"
   ]
  },
  {
   "cell_type": "code",
   "execution_count": 16,
   "id": "50fa13a5",
   "metadata": {},
   "outputs": [
    {
     "name": "stdout",
     "output_type": "stream",
     "text": [
      "[[21228  2198]\n",
      " [ 3231  2218]]\n"
     ]
    }
   ],
   "source": [
    "print(confusion_matrix(y_test , pred))"
   ]
  },
  {
   "cell_type": "code",
   "execution_count": 17,
   "id": "c4d6ed54",
   "metadata": {},
   "outputs": [
    {
     "data": {
      "text/plain": [
       "0.811982683982684"
      ]
     },
     "execution_count": 17,
     "metadata": {},
     "output_type": "execute_result"
    }
   ],
   "source": [
    "accuracy_score(y_test , pred)"
   ]
  },
  {
   "cell_type": "code",
   "execution_count": 18,
   "id": "fecd50a5",
   "metadata": {},
   "outputs": [
    {
     "data": {
      "image/png": "[encoded data removed]",
      "text/plain": [
       "<Figure size 432x288 with 1 Axes>"
      ]
     },
     "metadata": {
      "needs_background": "light"
     },
     "output_type": "display_data"
    }
   ],
   "source": [
    "def plot_roc(model):\n",
    "    y_pred_prob = rf.predict_proba(X_test)[:,1]\n",
    "    \n",
    "    # the roc_curve() returns the values for false positive rate, true positive rate and threshold\n",
    "    # pass the actual target values and predicted probabilities to the function\n",
    "    fpr, tpr, thresholds = roc_curve(y_test, y_pred_prob)\n",
    "\n",
    "    # plot the ROC curve\n",
    "    plt.plot(fpr, tpr)\n",
    "\n",
    "    # set limits for x and y axes\n",
    "    plt.xlim([0.0, 1.0])\n",
    "    plt.ylim([0.0, 1.0])\n",
    "\n",
    "    # plot the straight line showing worst prediction for the model\n",
    "    plt.plot([0, 1], [0, 1],'r--')\n",
    "\n",
    "    # add plot and axes labels\n",
    "    # set text size using 'fontsize'\n",
    "    plt.title('ROC curve', fontsize = 15)\n",
    "    plt.xlabel('False positive rate (1-Specificity)', fontsize = 15)\n",
    "    plt.ylabel('True positive rate (Sensitivity)', fontsize = 15)\n",
    "\n",
    "    # add the AUC score to the plot\n",
    "    # 'x' and 'y' gives position of the text\n",
    "    # 's' is the text \n",
    "    # use round() to round-off the AUC score upto 4 digits\n",
    "    plt.text(x = 0.82, y = 0.3, s = ('AUC Score:',round(roc_auc_score(y_test, y_pred_prob),4)))\n",
    "\n",
    "    # plot the grid\n",
    "    plt.grid(True)\n",
    "    \n",
    "plot_roc(rf)    "
   ]
  },
  {
   "cell_type": "markdown",
   "id": "e2c02085",
   "metadata": {},
   "source": [
    "### SMOTE WITH FEATURE SELECTIONS."
   ]
  },
  {
   "cell_type": "code",
   "execution_count": 19,
   "id": "6e3c2741",
   "metadata": {},
   "outputs": [],
   "source": [
    "x=X_SMOTE.drop([\"Yearly Income\",\"Already Defaulted\",\"Interest Charged\",\"Gross Collection\",\"Total Unpaid CL\",\n",
    "            \"Experience_not much\",\"Validation_Vfied\",\"Home Status_Owned\",\"Home Status_others\",\n",
    "            \"Deprecatory Records_okayish\",\"Deprecatory Records_risky\"], axis=1)"
   ]
  },
  {
   "cell_type": "code",
   "execution_count": 20,
   "id": "3788096b",
   "metadata": {},
   "outputs": [
    {
     "data": {
      "text/plain": [
       "((95124, 31), (95124,))"
      ]
     },
     "execution_count": 20,
     "metadata": {},
     "output_type": "execute_result"
    }
   ],
   "source": [
    "X_SMOTE.shape , y_SMOTE.shape"
   ]
  },
  {
   "cell_type": "code",
   "execution_count": 21,
   "id": "316dacae",
   "metadata": {},
   "outputs": [
    {
     "data": {
      "text/plain": [
       "(95124, 20)"
      ]
     },
     "execution_count": 21,
     "metadata": {},
     "output_type": "execute_result"
    }
   ],
   "source": [
    "x.shape"
   ]
  },
  {
   "cell_type": "code",
   "execution_count": 22,
   "id": "a53242ef",
   "metadata": {},
   "outputs": [],
   "source": [
    "X_train, X_test, y_train, y_test = train_test_split(x,y_SMOTE, test_size=0.3, random_state=2)"
   ]
  },
  {
   "cell_type": "markdown",
   "id": "397da718",
   "metadata": {},
   "source": [
    "**RANDOM FOREST**"
   ]
  },
  {
   "cell_type": "code",
   "execution_count": 23,
   "id": "075eaa07",
   "metadata": {},
   "outputs": [],
   "source": [
    "rf1= RandomForestClassifier()\n",
    "model = rf1.fit(X_train, y_train)\n",
    "pred = rf1.predict(X_test)\n"
   ]
  },
  {
   "cell_type": "code",
   "execution_count": 24,
   "id": "abac954e",
   "metadata": {},
   "outputs": [
    {
     "name": "stdout",
     "output_type": "stream",
     "text": [
      "              precision    recall  f1-score   support\n",
      "\n",
      "         0.0       0.84      0.88      0.86     14321\n",
      "         1.0       0.88      0.83      0.85     14217\n",
      "\n",
      "    accuracy                           0.86     28538\n",
      "   macro avg       0.86      0.86      0.86     28538\n",
      "weighted avg       0.86      0.86      0.86     28538\n",
      "\n",
      "[[12639  1682]\n",
      " [ 2401 11816]]\n",
      "0.8569276052981989\n"
     ]
    }
   ],
   "source": [
    "print(classification_report(y_test , pred))\n",
    "print(confusion_matrix(y_test , pred))\n",
    "print(accuracy_score(y_test , pred))"
   ]
  },
  {
   "cell_type": "code",
   "execution_count": 25,
   "id": "185809fa",
   "metadata": {},
   "outputs": [
    {
     "data": {
      "image/png": "[encoded data removed]",
      "text/plain": [
       "<Figure size 432x288 with 1 Axes>"
      ]
     },
     "metadata": {
      "needs_background": "light"
     },
     "output_type": "display_data"
    }
   ],
   "source": [
    "def plot_roc(model):\n",
    "    y_pred_prob = rf1.predict_proba(X_test)[:,1]\n",
    "    \n",
    "    # the roc_curve() returns the values for false positive rate, true positive rate and threshold\n",
    "    # pass the actual target values and predicted probabilities to the function\n",
    "    fpr, tpr, thresholds = roc_curve(y_test, y_pred_prob)\n",
    "\n",
    "    # plot the ROC curve\n",
    "    plt.plot(fpr, tpr)\n",
    "\n",
    "    # set limits for x and y axes\n",
    "    plt.xlim([0.0, 1.0])\n",
    "    plt.ylim([0.0, 1.0])\n",
    "\n",
    "    # plot the straight line showing worst prediction for the model\n",
    "    plt.plot([0, 1], [0, 1],'r--')\n",
    "\n",
    "    # add plot and axes labels\n",
    "    # set text size using 'fontsize'\n",
    "    plt.title('ROC curve', fontsize = 15)\n",
    "    plt.xlabel('False positive rate (1-Specificity)', fontsize = 15)\n",
    "    plt.ylabel('True positive rate (Sensitivity)', fontsize = 15)\n",
    "\n",
    "    # add the AUC score to the plot\n",
    "    # 'x' and 'y' gives position of the text\n",
    "    # 's' is the text \n",
    "    # use round() to round-off the AUC score upto 4 digits\n",
    "    plt.text(x = 0.82, y = 0.3, s = ('AUC Score:',round(roc_auc_score(y_test, y_pred_prob),4)))\n",
    "\n",
    "    # plot the grid\n",
    "    plt.grid(True)\n",
    "    \n",
    "plot_roc(rf1)    "
   ]
  },
  {
   "cell_type": "markdown",
   "id": "da81257e",
   "metadata": {},
   "source": [
    "**GRADIENT BOOSTING**"
   ]
  },
  {
   "cell_type": "code",
   "execution_count": 26,
   "id": "8226d5c5",
   "metadata": {},
   "outputs": [
    {
     "name": "stdout",
     "output_type": "stream",
     "text": [
      "[[12138  2183]\n",
      " [ 2622 11595]]\n",
      "              precision    recall  f1-score   support\n",
      "\n",
      "         0.0       0.82      0.85      0.83     14321\n",
      "         1.0       0.84      0.82      0.83     14217\n",
      "\n",
      "    accuracy                           0.83     28538\n",
      "   macro avg       0.83      0.83      0.83     28538\n",
      "weighted avg       0.83      0.83      0.83     28538\n",
      "\n",
      "0.8316280047655757\n"
     ]
    }
   ],
   "source": [
    "gbm=GradientBoostingClassifier()\n",
    "model = gbm.fit(X_train, y_train)\n",
    "preds = gbm.predict(X_test)\n",
    "\n",
    "print(confusion_matrix(y_test , preds))\n",
    "print(classification_report(y_test , preds))\n",
    "print(accuracy_score(y_test , preds))"
   ]
  },
  {
   "cell_type": "code",
   "execution_count": 27,
   "id": "431c3087",
   "metadata": {},
   "outputs": [
    {
     "data": {
      "image/png": "[encoded data removed]",
      "text/plain": [
       "<Figure size 432x288 with 1 Axes>"
      ]
     },
     "metadata": {
      "needs_background": "light"
     },
     "output_type": "display_data"
    }
   ],
   "source": [
    "def plot_roc(model):\n",
    "    y_pred_prob = gbm.predict_proba(X_test)[:,1]\n",
    "    \n",
    "    # the roc_curve() returns the values for false positive rate, true positive rate and threshold\n",
    "    # pass the actual target values and predicted probabilities to the function\n",
    "    fpr, tpr, thresholds = roc_curve(y_test, y_pred_prob)\n",
    "\n",
    "    # plot the ROC curve\n",
    "    plt.plot(fpr, tpr)\n",
    "\n",
    "    # set limits for x and y axes\n",
    "    plt.xlim([0.0, 1.0])\n",
    "    plt.ylim([0.0, 1.0])\n",
    "\n",
    "    # plot the straight line showing worst prediction for the model\n",
    "    plt.plot([0, 1], [0, 1],'r--')\n",
    "\n",
    "    # add plot and axes labels\n",
    "    # set text size using 'fontsize'\n",
    "    plt.title('ROC curve', fontsize = 15)\n",
    "    plt.xlabel('False positive rate (1-Specificity)', fontsize = 15)\n",
    "    plt.ylabel('True positive rate (Sensitivity)', fontsize = 15)\n",
    "\n",
    "    # add the AUC score to the plot\n",
    "    # 'x' and 'y' gives position of the text\n",
    "    # 's' is the text \n",
    "    # use round() to round-off the AUC score upto 4 digits\n",
    "    plt.text(x = 0.82, y = 0.3, s = ('AUC Score:',round(roc_auc_score(y_test, y_pred_prob),4)))\n",
    "\n",
    "    # plot the grid\n",
    "    plt.grid(True)\n",
    "    \n",
    "plot_roc(gbm)    "
   ]
  },
  {
   "cell_type": "markdown",
   "id": "02170e15",
   "metadata": {},
   "source": [
    "### APPLYING POWER TRANSFORMER TECHNIQUES TO RESOLVE DATA SKEWNESS."
   ]
  },
  {
   "cell_type": "code",
   "execution_count": 28,
   "id": "26616fe5",
   "metadata": {},
   "outputs": [],
   "source": [
    "t = newtrain.drop('Loan/No Loan', axis=1)"
   ]
  },
  {
   "cell_type": "code",
   "execution_count": 29,
   "id": "5f4c30ba",
   "metadata": {},
   "outputs": [],
   "source": [
    "power = PowerTransformer()\n",
    "t = power.fit_transform(t)"
   ]
  },
  {
   "cell_type": "code",
   "execution_count": 30,
   "id": "59fc0d24",
   "metadata": {},
   "outputs": [],
   "source": [
    "X = t\n",
    "y = newtrain['Loan/No Loan']\n",
    "\n",
    "X_train, X_test, y_train, y_test = train_test_split(X,y, test_size=0.33, stratify=y, random_state=2)"
   ]
  },
  {
   "cell_type": "code",
   "execution_count": 31,
   "id": "05bf8152",
   "metadata": {},
   "outputs": [
    {
     "name": "stdout",
     "output_type": "stream",
     "text": [
      "95124\n",
      "47562.0\n"
     ]
    }
   ],
   "source": [
    "sm = SMOTE(random_state=1)\n",
    "X_SMOTE, y_SMOTE = sm.fit_resample(X_train, y_train)\n",
    "print(len(y_SMOTE))\n",
    "print(y_SMOTE.sum())"
   ]
  },
  {
   "cell_type": "code",
   "execution_count": 32,
   "id": "0f539c22",
   "metadata": {},
   "outputs": [],
   "source": [
    "X_train, X_test, y_train, y_test = train_test_split(X_SMOTE,y_SMOTE, test_size=0.3, random_state=2)"
   ]
  },
  {
   "cell_type": "markdown",
   "id": "115bcf72",
   "metadata": {},
   "source": [
    "**RANDOM FOREST WITH POWER TRANSFORMER AND SMOTE**"
   ]
  },
  {
   "cell_type": "code",
   "execution_count": 33,
   "id": "c1957c79",
   "metadata": {},
   "outputs": [
    {
     "name": "stdout",
     "output_type": "stream",
     "text": [
      "              precision    recall  f1-score   support\n",
      "\n",
      "         0.0       0.90      0.85      0.87     14321\n",
      "         1.0       0.86      0.90      0.88     14217\n",
      "\n",
      "    accuracy                           0.88     28538\n",
      "   macro avg       0.88      0.88      0.88     28538\n",
      "weighted avg       0.88      0.88      0.88     28538\n",
      "\n",
      "[[12183  2138]\n",
      " [ 1413 12804]]\n",
      "0.8755694162169738\n"
     ]
    }
   ],
   "source": [
    "rf2= RandomForestClassifier()\n",
    "model = rf2.fit(X_train, y_train)\n",
    "pred = rf2.predict(X_test)\n",
    "print(classification_report(y_test , pred))\n",
    "print(confusion_matrix(y_test , pred))\n",
    "print(accuracy_score(y_test , pred))"
   ]
  },
  {
   "cell_type": "code",
   "execution_count": 34,
   "id": "882d594a",
   "metadata": {},
   "outputs": [
    {
     "data": {
      "image/png": "[encoded data removed]",
      "text/plain": [
       "<Figure size 432x288 with 1 Axes>"
      ]
     },
     "metadata": {
      "needs_background": "light"
     },
     "output_type": "display_data"
    }
   ],
   "source": [
    "def plot_roc(model):\n",
    "    y_pred_prob = rf2.predict_proba(X_test)[:,1]\n",
    "    \n",
    "    # the roc_curve() returns the values for false positive rate, true positive rate and threshold\n",
    "    # pass the actual target values and predicted probabilities to the function\n",
    "    fpr, tpr, thresholds = roc_curve(y_test, y_pred_prob)\n",
    "\n",
    "    # plot the ROC curve\n",
    "    plt.plot(fpr, tpr)\n",
    "\n",
    "    # set limits for x and y axes\n",
    "    plt.xlim([0.0, 1.0])\n",
    "    plt.ylim([0.0, 1.0])\n",
    "\n",
    "    # plot the straight line showing worst prediction for the model\n",
    "    plt.plot([0, 1], [0, 1],'r--')\n",
    "\n",
    "    # add plot and axes labels\n",
    "    # set text size using 'fontsize'\n",
    "    plt.title('ROC curve', fontsize = 15)\n",
    "    plt.xlabel('False positive rate (1-Specificity)', fontsize = 15)\n",
    "    plt.ylabel('True positive rate (Sensitivity)', fontsize = 15)\n",
    "\n",
    "    # add the AUC score to the plot\n",
    "    # 'x' and 'y' gives position of the text\n",
    "    # 's' is the text \n",
    "    # use round() to round-off the AUC score upto 4 digits\n",
    "    plt.text(x = 0.82, y = 0.3, s = ('AUC Score:',round(roc_auc_score(y_test, y_pred_prob),4)))\n",
    "\n",
    "    # plot the grid\n",
    "    plt.grid(True)\n",
    "    \n",
    "plot_roc(rf2)    "
   ]
  },
  {
   "cell_type": "markdown",
   "id": "f66cbe63",
   "metadata": {},
   "source": [
    "**GRADIENT BOOSTING WITH POWER TRANSFORMER AND SMOTE**"
   ]
  },
  {
   "cell_type": "code",
   "execution_count": 35,
   "id": "cc685ea4",
   "metadata": {},
   "outputs": [
    {
     "name": "stdout",
     "output_type": "stream",
     "text": [
      "[[11409  2912]\n",
      " [ 2052 12165]]\n",
      "              precision    recall  f1-score   support\n",
      "\n",
      "         0.0       0.85      0.80      0.82     14321\n",
      "         1.0       0.81      0.86      0.83     14217\n",
      "\n",
      "    accuracy                           0.83     28538\n",
      "   macro avg       0.83      0.83      0.83     28538\n",
      "weighted avg       0.83      0.83      0.83     28538\n",
      "\n",
      "0.8260564860887238\n"
     ]
    }
   ],
   "source": [
    "gbm1=GradientBoostingClassifier()\n",
    "model = gbm1.fit(X_train, y_train)\n",
    "preds = gbm1.predict(X_test)\n",
    "\n",
    "print(confusion_matrix(y_test , preds))\n",
    "print(classification_report(y_test , preds))\n",
    "print(accuracy_score(y_test , preds))"
   ]
  },
  {
   "cell_type": "code",
   "execution_count": 38,
   "id": "6395bdc7",
   "metadata": {},
   "outputs": [
    {
     "data": {
      "image/png": "[encoded data removed]",
      "text/plain": [
       "<Figure size 432x288 with 1 Axes>"
      ]
     },
     "metadata": {
      "needs_background": "light"
     },
     "output_type": "display_data"
    }
   ],
   "source": [
    "def plot_roc(model):\n",
    "    y_pred_prob = gbm1.predict_proba(X_test)[:,1]\n",
    "    \n",
    "    # the roc_curve() returns the values for false positive rate, true positive rate and threshold\n",
    "    # pass the actual target values and predicted probabilities to the function\n",
    "    fpr, tpr, thresholds = roc_curve(y_test, y_pred_prob)\n",
    "\n",
    "    # plot the ROC curve\n",
    "    plt.plot(fpr, tpr)\n",
    "\n",
    "    # set limits for x and y axes\n",
    "    plt.xlim([0.0, 1.0])\n",
    "    plt.ylim([0.0, 1.0])\n",
    "\n",
    "    # plot the straight line showing worst prediction for the model\n",
    "    plt.plot([0, 1], [0, 1],'r--')\n",
    "\n",
    "    # add plot and axes labels\n",
    "    # set text size using 'fontsize'\n",
    "    plt.title('ROC curve', fontsize = 15)\n",
    "    plt.xlabel('False positive rate (1-Specificity)', fontsize = 15)\n",
    "    plt.ylabel('True positive rate (Sensitivity)', fontsize = 15)\n",
    "\n",
    "    # add the AUC score to the plot\n",
    "    # 'x' and 'y' gives position of the text\n",
    "    # 's' is the text \n",
    "    # use round() to round-off the AUC score upto 4 digits\n",
    "    plt.text(x = 0.82, y = 0.3, s = ('AUC Score:',round(roc_auc_score(y_test, y_pred_prob),4)))\n",
    "\n",
    "    # plot the grid\n",
    "    plt.grid(True)\n",
    "    \n",
    "plot_roc(gbm1)    "
   ]
  },
  {
   "cell_type": "markdown",
   "id": "09f883a6",
   "metadata": {},
   "source": [
    "### APPLYING FEATURE SELECTION, POWER TRANSFORMER AND SMOTE PROCESS"
   ]
  },
  {
   "cell_type": "code",
   "execution_count": 39,
   "id": "597fcc3a",
   "metadata": {},
   "outputs": [
    {
     "data": {
      "text/plain": [
       "Index(['Asst_Reg', 'Yearly Income', 'Already Defaulted', 'Debt to Income',\n",
       "       'Lend Amount', 'Interest Charged', 'Usage Rate', 'Inquiries',\n",
       "       'Present Balance', 'Gross Collection', 'Total Unpaid CL',\n",
       "       'Unpaid Amount', 'Due Fee', 'Loan/No Loan', 'GGGrade_II', 'GGGrade_III',\n",
       "       'GGGrade_IV', 'GGGrade_V', 'GGGrade_VI', 'GGGrade_VII',\n",
       "       'Experience_not much', 'Validation_Source Verified', 'Validation_Vfied',\n",
       "       'Home Status_Owned', 'Home Status_Rental', 'Home Status_others',\n",
       "       'Unpaid 2 years_Risk', 'Unpaid 2 years_no risk',\n",
       "       'Deprecatory Records_okayish', 'Deprecatory Records_risky',\n",
       "       'File Status_whole', 'Duration_5 years'],\n",
       "      dtype='object')"
      ]
     },
     "execution_count": 39,
     "metadata": {},
     "output_type": "execute_result"
    }
   ],
   "source": [
    "newtrain.columns"
   ]
  },
  {
   "cell_type": "code",
   "execution_count": 40,
   "id": "44fd7ced",
   "metadata": {},
   "outputs": [],
   "source": [
    "t=df(t, columns=['Asst_Reg', 'Yearly Income', 'Already Defaulted', 'Debt to Income',\n",
    "       'Lend Amount', 'Interest Charged', 'Usage Rate', 'Inquiries',\n",
    "       'Present Balance', 'Gross Collection', 'Total Unpaid CL',\n",
    "       'Unpaid Amount', 'Due Fee',  'GGGrade_II', 'GGGrade_III',\n",
    "       'GGGrade_IV', 'GGGrade_V', 'GGGrade_VI', 'GGGrade_VII',\n",
    "       'Experience_not much', 'Validation_Source Verified', 'Validation_Vfied',\n",
    "       'Home Status_Owned', 'Home Status_Rental', 'Home Status_others',\n",
    "       'Unpaid 2 years_Risk', 'Unpaid 2 years_no risk',\n",
    "       'Deprecatory Records_okayish', 'Deprecatory Records_risky',\n",
    "       'File Status_whole', 'Duration_5 years'])"
   ]
  },
  {
   "cell_type": "code",
   "execution_count": 41,
   "id": "bcea6c2b",
   "metadata": {},
   "outputs": [],
   "source": [
    "x=t.drop([\"Yearly Income\",\"Already Defaulted\",\"Interest Charged\",\"Gross Collection\",\"Total Unpaid CL\",\n",
    "            \"Experience_not much\",\"Validation_Vfied\",\"Home Status_Owned\",\"Home Status_others\",\n",
    "            \"Deprecatory Records_okayish\",\"Deprecatory Records_risky\"], axis=1)"
   ]
  },
  {
   "cell_type": "code",
   "execution_count": 42,
   "id": "ef07a12d",
   "metadata": {},
   "outputs": [],
   "source": [
    "X = x\n",
    "y = newtrain['Loan/No Loan']\n",
    "\n",
    "X_train, X_test, y_train, y_test = train_test_split(X,y, test_size=0.33, stratify=y, random_state=2)"
   ]
  },
  {
   "cell_type": "code",
   "execution_count": 43,
   "id": "a2fe56f6",
   "metadata": {},
   "outputs": [
    {
     "name": "stdout",
     "output_type": "stream",
     "text": [
      "95124\n",
      "47562.0\n"
     ]
    }
   ],
   "source": [
    "sm = SMOTE(random_state=1)\n",
    "X_SMOTE, y_SMOTE = sm.fit_resample(X_train, y_train)\n",
    "print(len(y_SMOTE))\n",
    "print(y_SMOTE.sum())"
   ]
  },
  {
   "cell_type": "code",
   "execution_count": 44,
   "id": "165d0bf6",
   "metadata": {},
   "outputs": [],
   "source": [
    "X_train, X_test, y_train, y_test = train_test_split(X_SMOTE,y_SMOTE, test_size=0.3, random_state=2)"
   ]
  },
  {
   "cell_type": "markdown",
   "id": "6eaee907",
   "metadata": {},
   "source": [
    "**RANDOM FOREST WITH FEATURE SELECTION, POWER TRANSFORMER AND SMOTE**"
   ]
  },
  {
   "cell_type": "code",
   "execution_count": 45,
   "id": "47066a26",
   "metadata": {},
   "outputs": [
    {
     "name": "stdout",
     "output_type": "stream",
     "text": [
      "              precision    recall  f1-score   support\n",
      "\n",
      "         0.0       0.88      0.82      0.85     14321\n",
      "         1.0       0.83      0.89      0.86     14217\n",
      "\n",
      "    accuracy                           0.86     28538\n",
      "   macro avg       0.86      0.86      0.86     28538\n",
      "weighted avg       0.86      0.86      0.86     28538\n",
      "\n",
      "[[11784  2537]\n",
      " [ 1573 12644]]\n",
      "0.8559814983530731\n"
     ]
    }
   ],
   "source": [
    "rf3= RandomForestClassifier()\n",
    "model = rf3.fit(X_train, y_train)\n",
    "pred = rf3.predict(X_test)\n",
    "print(classification_report(y_test , pred))\n",
    "print(confusion_matrix(y_test , pred))\n",
    "print(accuracy_score(y_test , pred))"
   ]
  },
  {
   "cell_type": "code",
   "execution_count": 46,
   "id": "f7293225",
   "metadata": {},
   "outputs": [
    {
     "data": {
      "image/png": "[encoded data removed]",
      "text/plain": [
       "<Figure size 432x288 with 1 Axes>"
      ]
     },
     "metadata": {
      "needs_background": "light"
     },
     "output_type": "display_data"
    }
   ],
   "source": [
    "def plot_roc(model):\n",
    "    y_pred_prob = rf3.predict_proba(X_test)[:,1]\n",
    "    \n",
    "    # the roc_curve() returns the values for false positive rate, true positive rate and threshold\n",
    "    # pass the actual target values and predicted probabilities to the function\n",
    "    fpr, tpr, thresholds = roc_curve(y_test, y_pred_prob)\n",
    "\n",
    "    # plot the ROC curve\n",
    "    plt.plot(fpr, tpr)\n",
    "\n",
    "    # set limits for x and y axes\n",
    "    plt.xlim([0.0, 1.0])\n",
    "    plt.ylim([0.0, 1.0])\n",
    "\n",
    "    # plot the straight line showing worst prediction for the model\n",
    "    plt.plot([0, 1], [0, 1],'r--')\n",
    "\n",
    "    # add plot and axes labels\n",
    "    # set text size using 'fontsize'\n",
    "    plt.title('ROC curve', fontsize = 15)\n",
    "    plt.xlabel('False positive rate (1-Specificity)', fontsize = 15)\n",
    "    plt.ylabel('True positive rate (Sensitivity)', fontsize = 15)\n",
    "\n",
    "    # add the AUC score to the plot\n",
    "    # 'x' and 'y' gives position of the text\n",
    "    # 's' is the text \n",
    "    # use round() to round-off the AUC score upto 4 digits\n",
    "    plt.text(x = 0.82, y = 0.3, s = ('AUC Score:',round(roc_auc_score(y_test, y_pred_prob),4)))\n",
    "\n",
    "    # plot the grid\n",
    "    plt.grid(True)\n",
    "    \n",
    "plot_roc(rf3)    "
   ]
  },
  {
   "cell_type": "code",
   "execution_count": null,
   "id": "76381419",
   "metadata": {},
   "outputs": [],
   "source": []
  },
  {
   "cell_type": "code",
   "execution_count": null,
   "id": "0d559c7f",
   "metadata": {},
   "outputs": [],
   "source": [
    "\n"
   ]
  },
  {
   "cell_type": "code",
   "execution_count": null,
   "id": "d1f39af3",
   "metadata": {},
   "outputs": [],
   "source": []
  }
 ],
 "metadata": {
  "kernelspec": {
   "display_name": "Python 3 (ipykernel)",
   "language": "python",
   "name": "python3"
  },
  "language_info": {
   "codemirror_mode": {
    "name": "ipython",
    "version": 3
   },
   "file_extension": ".py",
   "mimetype": "text/x-python",
   "name": "python",
   "nbconvert_exporter": "python",
   "pygments_lexer": "ipython3",
   "version": "3.9.7"
  }
 },
 "nbformat": 4,
 "nbformat_minor": 5
}
